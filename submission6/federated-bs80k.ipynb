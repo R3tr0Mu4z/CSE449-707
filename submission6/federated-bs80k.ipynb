{
 "cells": [
  {
   "cell_type": "code",
   "execution_count": 1,
   "id": "7a9293d9",
   "metadata": {},
   "outputs": [
    {
     "name": "stdout",
     "output_type": "stream",
     "text": [
      "Training on cuda using PyTorch 2.0.0+cu118 and Flower 1.4.0\n"
     ]
    }
   ],
   "source": [
    "from collections import OrderedDict\n",
    "from typing import Dict, List, Optional, Tuple\n",
    "import os\n",
    "import numpy as np\n",
    "import torch\n",
    "import torch.nn as nn\n",
    "import torch.nn.functional as F\n",
    "import torchvision.transforms as transforms\n",
    "from torch.utils.data import DataLoader, random_split\n",
    "from torchvision.datasets import CIFAR10\n",
    "from torchvision.datasets import ImageFolder\n",
    "import flwr as fl\n",
    "from torchsummary import summary\n",
    "DEVICE = torch.device(\"cuda\")  # Try \"cuda\" to train on GPU\n",
    "print(\n",
    "    f\"Training on {DEVICE} using PyTorch {torch.__version__} and Flower {fl.__version__}\"\n",
    ")\n",
    "from sklearn.metrics import classification_report\n",
    "from flwr.common import NDArrays, Scalar\n",
    "\n",
    "from typing import Dict, Optional, Tuple"
   ]
  },
  {
   "cell_type": "code",
   "execution_count": 2,
   "id": "22b984b4",
   "metadata": {},
   "outputs": [
    {
     "data": {
      "text/plain": [
       "['.ipynb_checkpoints', 'federated-bs80k.ipynb']"
      ]
     },
     "execution_count": 2,
     "metadata": {},
     "output_type": "execute_result"
    }
   ],
   "source": [
    "os.listdir()"
   ]
  },
  {
   "cell_type": "code",
   "execution_count": 3,
   "id": "911eb5e8",
   "metadata": {},
   "outputs": [],
   "source": [
    "NUM_CLIENTS = 4\n",
    "hw = 128"
   ]
  },
  {
   "cell_type": "code",
   "execution_count": 4,
   "id": "1b207e4f",
   "metadata": {},
   "outputs": [],
   "source": [
    "transform = transforms.Compose(\n",
    "    [transforms.ToTensor(),\n",
    "     transforms.Resize(size = (hw,hw), antialias=True),\n",
    "     transforms.Normalize((0.5, 0.5, 0.5), (0.5, 0.5, 0.5)),\n",
    "    transforms.RandomHorizontalFlip(p=0.5),\n",
    "     transforms.RandomVerticalFlip(p=0.5),\n",
    "    ]\n",
    ")"
   ]
  },
  {
   "cell_type": "code",
   "execution_count": 5,
   "id": "5942236b",
   "metadata": {},
   "outputs": [],
   "source": [
    "def findConv2dOutShape(hin,win,conv,pool=2):\n",
    "    # get conv arguments\n",
    "    kernel_size=conv.kernel_size\n",
    "    stride=conv.stride\n",
    "    padding=conv.padding\n",
    "    dilation=conv.dilation\n",
    "\n",
    "    hout=np.floor((hin+2*padding[0]-dilation[0]*(kernel_size[0]-1)-1)/stride[0]+1)\n",
    "    wout=np.floor((win+2*padding[1]-dilation[1]*(kernel_size[1]-1)-1)/stride[1]+1)\n",
    "\n",
    "    if pool:\n",
    "        hout/=pool\n",
    "        wout/=pool\n",
    "    return int(hout),int(wout)\n",
    "\n",
    "class Net(nn.Module):\n",
    "    def __init__(self) -> None:\n",
    "        super(Net, self).__init__()\n",
    "        Cin,Hin,Win= (3, hw, hw)\n",
    "        init_f= 32\n",
    "        num_fc1= 512\n",
    "        num_classes= 2\n",
    "        self.dropout_rate= 0.2\n",
    "        \n",
    "        # Convolution Layers\n",
    "        self.conv1 = nn.Conv2d(Cin, init_f, kernel_size=3)\n",
    "        h,w=findConv2dOutShape(Hin,Win,self.conv1)\n",
    "        self.conv2 = nn.Conv2d(init_f, 2*init_f, kernel_size=3)\n",
    "        h,w=findConv2dOutShape(h,w,self.conv2)\n",
    "        self.conv3 = nn.Conv2d(2*init_f, 4*init_f, kernel_size=3)\n",
    "        h,w=findConv2dOutShape(h,w,self.conv3)\n",
    "        self.conv4 = nn.Conv2d(4*init_f, 8*init_f, kernel_size=3)\n",
    "        h,w=findConv2dOutShape(h,w,self.conv4)\n",
    "        self.conv5 = nn.Conv2d(8*init_f, 16*init_f, kernel_size=3)\n",
    "        h,w=findConv2dOutShape(h,w,self.conv5)\n",
    "        \n",
    "        self.num_flatten=h*w*16*init_f\n",
    "        self.fc1 = nn.Linear(self.num_flatten, num_fc1)\n",
    "        self.fc2 = nn.Linear(num_fc1, num_classes)\n",
    "\n",
    "    def forward(self, X: torch.Tensor) -> torch.Tensor:\n",
    "        # Convolution & Pool Layers\n",
    "        X = F.relu(self.conv1(X)); \n",
    "        X = F.max_pool2d(X, 2, 2)\n",
    "        X = F.relu(self.conv2(X))\n",
    "        X = F.max_pool2d(X, 2, 2)\n",
    "        X = F.relu(self.conv3(X))\n",
    "        X = F.max_pool2d(X, 2, 2)\n",
    "        X = F.relu(self.conv4(X))\n",
    "        X = F.max_pool2d(X, 2, 2)\n",
    "        X = F.relu(self.conv5(X))\n",
    "        X = F.max_pool2d(X, 2, 2) \n",
    "        \n",
    "        X = X.view(-1, self.num_flatten)\n",
    "        \n",
    "        X = F.relu(self.fc1(X))\n",
    "        X=F.dropout(X, self.dropout_rate)\n",
    "        X = self.fc2(X)\n",
    "        return F.log_softmax(X, dim=1)\n",
    "\n",
    "\n",
    "def get_parameters(net) -> List[np.ndarray]:\n",
    "    return [val.cpu().numpy() for _, val in net.state_dict().items()]\n",
    "\n",
    "\n",
    "def set_parameters(net, parameters: List[np.ndarray]):\n",
    "    params_dict = zip(net.state_dict().keys(), parameters)\n",
    "    state_dict = OrderedDict({k: torch.Tensor(v) for k, v in params_dict})\n",
    "    net.load_state_dict(state_dict, strict=True)\n",
    "\n",
    "\n",
    "def train(net, trainloader, epochs: int, cid=None):\n",
    "    \"\"\"Train the network on the training set.\"\"\"\n",
    "    criterion = torch.nn.CrossEntropyLoss()\n",
    "    optimizer = torch.optim.Adam(net.parameters())\n",
    "    net.train()\n",
    "    \n",
    "    with open(\"client-log-\"+str(cid)+\".txt\", \"a\") as file:\n",
    "        file.write(\"=======ROUND START======= \\n\")\n",
    "\n",
    "    for epoch in range(epochs):\n",
    "        correct, total, epoch_loss = 0, 0, 0.0\n",
    "        for images, labels in trainloader:\n",
    "            images, labels = images.to(DEVICE), labels.to(DEVICE)\n",
    "            optimizer.zero_grad()\n",
    "            outputs = net(images)\n",
    "            loss = criterion(net(images), labels)\n",
    "            loss.backward()\n",
    "            optimizer.step()\n",
    "            # Metrics\n",
    "            epoch_loss += loss\n",
    "            total += labels.size(0)\n",
    "            correct += (torch.max(outputs.data, 1)[1] == labels).sum().item()\n",
    "        epoch_loss /= len(trainloader.dataset)\n",
    "        epoch_acc = correct / total\n",
    "        \n",
    "        with open(\"client-log-\"+str(cid)+\".txt\", \"a\") as file:\n",
    "            file.write(f\"{epoch_loss},{epoch_acc} \\n\")\n",
    "            \n",
    "        print(f\"Epoch {epoch+1}: train loss {epoch_loss}, accuracy {epoch_acc}\")\n",
    "\n",
    "            \n",
    "\n",
    "\n",
    "def test(net, testloader, cid=None):\n",
    "    \"\"\"Evaluate the network on the entire test set.\"\"\"\n",
    "    criterion = torch.nn.CrossEntropyLoss()\n",
    "    correct, total, loss = 0, 0, 0.0\n",
    "    net.eval()\n",
    "    y_test = []\n",
    "    y_pred = []\n",
    "    with torch.no_grad():\n",
    "        for images, labels in testloader:\n",
    "            images, labels = images.to(DEVICE), labels.to(DEVICE)\n",
    "            outputs = net(images)\n",
    "            loss += criterion(outputs, labels).item()\n",
    "            _, predicted = torch.max(outputs.data, 1)\n",
    "            total += labels.size(0)\n",
    "            y_test = y_test + labels.cpu().numpy().tolist()\n",
    "            y_pred = y_pred + predicted.cpu().numpy().tolist()\n",
    "            correct += (predicted == labels).sum().item()\n",
    "    loss /= len(testloader.dataset)\n",
    "    \n",
    "    if cid == 'SERVER':\n",
    "        with open(\"server-report-.txt\", \"a\") as file:\n",
    "            file.write(classification_report(y_test, y_pred, zero_division=0) + \"\\n\")\n",
    "    else:\n",
    "        with open(\"client-report-\"+str(cid)+\".txt\", \"a\") as file:\n",
    "            file.write(classification_report(y_test, y_pred, zero_division=0) + \"\\n\")\n",
    "    \n",
    "    \n",
    "    accuracy = correct / total\n",
    "    return loss, accuracy"
   ]
  },
  {
   "cell_type": "code",
   "execution_count": 6,
   "id": "56fbe908",
   "metadata": {},
   "outputs": [],
   "source": [
    "class FlowerClient(fl.client.NumPyClient):\n",
    "    def __init__(self, cid, net, trainloader, valloader):\n",
    "        self.cid = cid\n",
    "        self.net = net\n",
    "        self.trainloader = trainloader\n",
    "        self.valloader = valloader\n",
    "\n",
    "    def get_parameters(self, config):\n",
    "        print(f\"[Client {self.cid}] get_parameters\")\n",
    "        return get_parameters(self.net)\n",
    "\n",
    "    def fit(self, parameters, config):\n",
    "        print(f\"[Client {self.cid}] fit, config: {config}\")\n",
    "        set_parameters(self.net, parameters)\n",
    "        train(self.net, self.trainloader, epochs=10, cid=self.cid)\n",
    "        return get_parameters(self.net), len(self.trainloader), {}\n",
    "\n",
    "    def evaluate(self, parameters, config):\n",
    "        print(f\"[Client {self.cid}] evaluate, config: {config}\")\n",
    "        set_parameters(self.net, parameters)\n",
    "        loss, accuracy = test(self.net, self.valloader, cid=self.cid)\n",
    "        with open(\"client-result-\"+str(self.cid)+\".txt\", \"a\") as file:\n",
    "            file.write(f\"{loss}, {accuracy} \\n\")\n",
    "        return float(loss), len(self.valloader), {\"accuracy\": float(accuracy)}\n",
    "\n",
    "\n",
    "def client_fn(cid) -> FlowerClient:\n",
    "    net = Net().to(DEVICE)\n",
    "\n",
    "    train_dataset = ImageFolder(root='D:/feda/partitions/client-'+str(cid)+'/split/train',\n",
    "        transform=transform)\n",
    "    val_dataset = ImageFolder(root='D:/feda/partitions/client-'+str(cid)+'/split/val',\n",
    "        transform=transform)\n",
    "    \n",
    "    \n",
    "    trainDataLoader = DataLoader(train_dataset, \n",
    "            batch_size=32, shuffle=True)\n",
    "    valDataLoader = DataLoader(val_dataset, batch_size=32, shuffle=False)\n",
    "    \n",
    "    return FlowerClient(cid, net, trainDataLoader, valDataLoader)"
   ]
  },
  {
   "cell_type": "code",
   "execution_count": 7,
   "id": "d67952f4",
   "metadata": {},
   "outputs": [],
   "source": [
    "def get_evaluate_fn(model):\n",
    "    \n",
    "    val_dataset = ImageFolder(root='D:/feda/partitions/server',\n",
    "        transform=transform)\n",
    "    \n",
    "    \n",
    "    valDataLoader = DataLoader(val_dataset, batch_size=32, shuffle=False)\n",
    "    \n",
    "    \"\"\"Return an evaluation function for server-side evaluation.\"\"\"\n",
    "\n",
    "    model = Net().to(DEVICE)\n",
    "    # The `evaluate` function will be called after every round\n",
    "    def evaluate(\n",
    "        server_round: int, parameters: NDArrays, config: Dict[str, Scalar]\n",
    "    ) -> Optional[Tuple[float, Dict[str, Scalar]]]:\n",
    "        set_parameters(model, parameters)  # Update model with the latest parameters\n",
    "        loss, accuracy = test(model, valDataLoader, cid=\"SERVER\")\n",
    "        print(\"SERVER EVAL\", accuracy, loss)\n",
    "        with open(\"server-eval.txt\", \"a\") as file:\n",
    "            file.write(f\"{loss}, {accuracy} \\n\")\n",
    "        \n",
    "        return loss, {\"accuracy\": accuracy}\n",
    "\n",
    "    return evaluate"
   ]
  },
  {
   "cell_type": "code",
   "execution_count": 8,
   "id": "620e1a53",
   "metadata": {
    "scrolled": false
   },
   "outputs": [
    {
     "name": "stderr",
     "output_type": "stream",
     "text": [
      "INFO flwr 2023-05-09 19:24:57,356 | app.py:146 | Starting Flower simulation, config: ServerConfig(num_rounds=50, round_timeout=None)\n",
      "2023-05-09 19:24:59,764\tINFO worker.py:1625 -- Started a local Ray instance.\n",
      "INFO flwr 2023-05-09 19:25:02,632 | app.py:180 | Flower VCE: Ray initialized with resources: {'node:127.0.0.1': 1.0, 'object_store_memory': 2906456064.0, 'GPU': 1.0, 'CPU': 8.0, 'memory': 5812912128.0}\n",
      "INFO flwr 2023-05-09 19:25:02,632 | server.py:86 | Initializing global parameters\n",
      "INFO flwr 2023-05-09 19:25:02,633 | server.py:269 | Using initial parameters provided by strategy\n",
      "INFO flwr 2023-05-09 19:25:02,634 | server.py:88 | Evaluating initial parameters\n",
      "INFO flwr 2023-05-09 19:25:05,113 | server.py:91 | initial parameters (loss, other metrics): 0.021915677851170635, {'accuracy': 0.5}\n",
      "INFO flwr 2023-05-09 19:25:05,114 | server.py:101 | FL starting\n",
      "DEBUG flwr 2023-05-09 19:25:05,114 | server.py:218 | fit_round 1: strategy sampled 2 clients (out of 4)\n"
     ]
    },
    {
     "name": "stdout",
     "output_type": "stream",
     "text": [
      "SERVER EVAL 0.5 0.021915677851170635\n",
      "\u001b[2m\u001b[36m(launch_and_fit pid=18108)\u001b[0m [Client 2] fit, config: {}\n",
      "\u001b[2m\u001b[36m(launch_and_fit pid=18108)\u001b[0m Epoch 1: train loss 0.02203908935189247, accuracy 0.4991212653778559\n",
      "\u001b[2m\u001b[36m(launch_and_fit pid=18108)\u001b[0m Epoch 2: train loss 0.021719178184866905, accuracy 0.5641476274165202\n",
      "\u001b[2m\u001b[36m(launch_and_fit pid=18108)\u001b[0m Epoch 3: train loss 0.02212834171950817, accuracy 0.5518453427065027\n",
      "\u001b[2m\u001b[36m(launch_and_fit pid=18108)\u001b[0m Epoch 4: train loss 0.021225983276963234, accuracy 0.5940246045694201\n",
      "\u001b[2m\u001b[36m(launch_and_fit pid=18108)\u001b[0m Epoch 5: train loss 0.02119523473083973, accuracy 0.5817223198594025\n",
      "\u001b[2m\u001b[36m(launch_and_fit pid=18108)\u001b[0m Epoch 6: train loss 0.019577888771891594, accuracy 0.6695957820738138\n",
      "\u001b[2m\u001b[36m(launch_and_fit pid=18108)\u001b[0m Epoch 7: train loss 0.01794556900858879, accuracy 0.7390158172231986\n",
      "\u001b[2m\u001b[36m(launch_and_fit pid=18108)\u001b[0m Epoch 8: train loss 0.019028663635253906, accuracy 0.7144112478031635\n",
      "\u001b[2m\u001b[36m(launch_and_fit pid=18108)\u001b[0m Epoch 9: train loss 0.01735183596611023, accuracy 0.7381370826010545\n",
      "\u001b[2m\u001b[36m(launch_and_fit pid=18108)\u001b[0m Epoch 10: train loss 0.017910175025463104, accuracy 0.7328646748681898\n",
      "\u001b[2m\u001b[36m(launch_and_fit pid=20708)\u001b[0m [Client 3] fit, config: {}\n",
      "\u001b[2m\u001b[36m(launch_and_fit pid=20708)\u001b[0m Epoch 1: train loss 0.023142682388424873, accuracy 0.5210896309314587\n",
      "\u001b[2m\u001b[36m(launch_and_fit pid=20708)\u001b[0m Epoch 2: train loss 0.021840037778019905, accuracy 0.5087873462214412\n",
      "\u001b[2m\u001b[36m(launch_and_fit pid=20708)\u001b[0m Epoch 3: train loss 0.022151919081807137, accuracy 0.5518453427065027\n",
      "\u001b[2m\u001b[36m(launch_and_fit pid=20708)\u001b[0m Epoch 4: train loss 0.02070079743862152, accuracy 0.6195079086115993\n",
      "\u001b[2m\u001b[36m(launch_and_fit pid=20708)\u001b[0m Epoch 5: train loss 0.02161804400384426, accuracy 0.5711775043936731\n",
      "\u001b[2m\u001b[36m(launch_and_fit pid=20708)\u001b[0m Epoch 6: train loss 0.02043691836297512, accuracy 0.6599297012302284\n",
      "\u001b[2m\u001b[36m(launch_and_fit pid=20708)\u001b[0m Epoch 7: train loss 0.020440584048628807, accuracy 0.6660808435852372\n",
      "\u001b[2m\u001b[36m(launch_and_fit pid=20708)\u001b[0m Epoch 8: train loss 0.02002284675836563, accuracy 0.679261862917399\n",
      "\u001b[2m\u001b[36m(launch_and_fit pid=20708)\u001b[0m Epoch 9: train loss 0.018265966325998306, accuracy 0.7126537785588752\n"
     ]
    },
    {
     "name": "stderr",
     "output_type": "stream",
     "text": [
      "DEBUG flwr 2023-05-09 19:26:00,070 | server.py:232 | fit_round 1 received 2 results and 0 failures\n",
      "WARNING flwr 2023-05-09 19:26:00,100 | fedavg.py:243 | No fit_metrics_aggregation_fn provided\n"
     ]
    },
    {
     "name": "stdout",
     "output_type": "stream",
     "text": [
      "\u001b[2m\u001b[36m(launch_and_fit pid=20708)\u001b[0m Epoch 10: train loss 0.018586529418826103, accuracy 0.6933216168717048\n"
     ]
    },
    {
     "name": "stderr",
     "output_type": "stream",
     "text": [
      "INFO flwr 2023-05-09 19:26:02,076 | server.py:119 | fit progress: (1, 0.022514584233586706, {'accuracy': 0.5070224719101124}, 56.9613662)\n",
      "DEBUG flwr 2023-05-09 19:26:02,076 | server.py:168 | evaluate_round 1: strategy sampled 2 clients (out of 4)\n"
     ]
    },
    {
     "name": "stdout",
     "output_type": "stream",
     "text": [
      "SERVER EVAL 0.5070224719101124 0.022514584233586706\n",
      "\u001b[2m\u001b[36m(launch_and_evaluate pid=5708)\u001b[0m [Client 2] evaluate, config: {}\n"
     ]
    },
    {
     "name": "stderr",
     "output_type": "stream",
     "text": [
      "DEBUG flwr 2023-05-09 19:26:10,751 | server.py:182 | evaluate_round 1 received 2 results and 0 failures\n",
      "WARNING flwr 2023-05-09 19:26:10,752 | fedavg.py:274 | No evaluate_metrics_aggregation_fn provided\n",
      "DEBUG flwr 2023-05-09 19:26:10,752 | server.py:218 | fit_round 2: strategy sampled 2 clients (out of 4)\n"
     ]
    },
    {
     "name": "stdout",
     "output_type": "stream",
     "text": [
      "\u001b[2m\u001b[36m(launch_and_fit pid=5140)\u001b[0m [Client 1] fit, config: {}\n",
      "\u001b[2m\u001b[36m(launch_and_evaluate pid=20580)\u001b[0m [Client 1] fit, config: {}\n",
      "\u001b[2m\u001b[36m(launch_and_fit pid=5140)\u001b[0m Epoch 1: train loss 0.019458195194602013, accuracy 0.6827768014059754\n",
      "\u001b[2m\u001b[36m(launch_and_fit pid=5140)\u001b[0m Epoch 2: train loss 0.018574485555291176, accuracy 0.7047451669595782\n",
      "\u001b[2m\u001b[36m(launch_and_fit pid=5140)\u001b[0m Epoch 3: train loss 0.017778638750314713, accuracy 0.7135325131810193\n",
      "\u001b[2m\u001b[36m(launch_and_fit pid=5140)\u001b[0m Epoch 4: train loss 0.01710614189505577, accuracy 0.7495606326889279\n",
      "\u001b[2m\u001b[36m(launch_and_fit pid=5140)\u001b[0m Epoch 5: train loss 0.017367463558912277, accuracy 0.7302284710017575\n",
      "\u001b[2m\u001b[36m(launch_and_fit pid=5140)\u001b[0m Epoch 6: train loss 0.016672011464834213, accuracy 0.7390158172231986\n",
      "\u001b[2m\u001b[36m(launch_and_fit pid=5140)\u001b[0m Epoch 7: train loss 0.01639794185757637, accuracy 0.7407732864674869\n",
      "\u001b[2m\u001b[36m(launch_and_fit pid=5140)\u001b[0m Epoch 8: train loss 0.016411256045103073, accuracy 0.7478031634446397\n",
      "\u001b[2m\u001b[36m(launch_and_fit pid=5140)\u001b[0m Epoch 9: train loss 0.015926869586110115, accuracy 0.7539543057996485\n",
      "\u001b[2m\u001b[36m(launch_and_fit pid=5140)\u001b[0m Epoch 10: train loss 0.01590881496667862, accuracy 0.7372583479789103\n",
      "\u001b[2m\u001b[36m(launch_and_fit pid=9528)\u001b[0m [Client 2] fit, config: {}\n",
      "\u001b[2m\u001b[36m(launch_and_fit pid=9528)\u001b[0m Epoch 1: train loss 0.019179271534085274, accuracy 0.671353251318102\n",
      "\u001b[2m\u001b[36m(launch_and_fit pid=9528)\u001b[0m Epoch 2: train loss 0.01682363823056221, accuracy 0.7381370826010545\n",
      "\u001b[2m\u001b[36m(launch_and_fit pid=9528)\u001b[0m Epoch 3: train loss 0.017185835167765617, accuracy 0.7293497363796133\n",
      "\u001b[2m\u001b[36m(launch_and_fit pid=9528)\u001b[0m Epoch 4: train loss 0.016483649611473083, accuracy 0.7460456942003515\n",
      "\u001b[2m\u001b[36m(launch_and_fit pid=9528)\u001b[0m Epoch 5: train loss 0.016135158017277718, accuracy 0.7671353251318102\n",
      "\u001b[2m\u001b[36m(launch_and_fit pid=9528)\u001b[0m Epoch 6: train loss 0.016896743327379227, accuracy 0.7434094903339191\n",
      "\u001b[2m\u001b[36m(launch_and_fit pid=9528)\u001b[0m Epoch 7: train loss 0.015971874818205833, accuracy 0.7495606326889279\n",
      "\u001b[2m\u001b[36m(launch_and_fit pid=9528)\u001b[0m Epoch 8: train loss 0.015675267204642296, accuracy 0.7706502636203867\n",
      "\u001b[2m\u001b[36m(launch_and_fit pid=9528)\u001b[0m Epoch 9: train loss 0.015840284526348114, accuracy 0.7680140597539543\n"
     ]
    },
    {
     "name": "stderr",
     "output_type": "stream",
     "text": [
      "DEBUG flwr 2023-05-09 19:27:05,848 | server.py:232 | fit_round 2 received 2 results and 0 failures\n"
     ]
    },
    {
     "name": "stdout",
     "output_type": "stream",
     "text": [
      "\u001b[2m\u001b[36m(launch_and_fit pid=9528)\u001b[0m Epoch 10: train loss 0.015292318537831306, accuracy 0.7768014059753954\n"
     ]
    },
    {
     "name": "stderr",
     "output_type": "stream",
     "text": [
      "INFO flwr 2023-05-09 19:27:07,785 | server.py:119 | fit progress: (2, 0.0157263417403852, {'accuracy': 0.7633426966292135}, 122.66976460000001)\n",
      "DEBUG flwr 2023-05-09 19:27:07,785 | server.py:168 | evaluate_round 2: strategy sampled 2 clients (out of 4)\n"
     ]
    },
    {
     "name": "stdout",
     "output_type": "stream",
     "text": [
      "SERVER EVAL 0.7633426966292135 0.0157263417403852\n",
      "\u001b[2m\u001b[36m(launch_and_evaluate pid=21464)\u001b[0m [Client 0] evaluate, config: {}\n"
     ]
    },
    {
     "name": "stderr",
     "output_type": "stream",
     "text": [
      "DEBUG flwr 2023-05-09 19:27:16,486 | server.py:182 | evaluate_round 2 received 2 results and 0 failures\n",
      "DEBUG flwr 2023-05-09 19:27:16,487 | server.py:218 | fit_round 3: strategy sampled 2 clients (out of 4)\n"
     ]
    },
    {
     "name": "stdout",
     "output_type": "stream",
     "text": [
      "\u001b[2m\u001b[36m(launch_and_fit pid=14916)\u001b[0m [Client 0] fit, config: {}\n",
      "\u001b[2m\u001b[36m(launch_and_evaluate pid=2340)\u001b[0m [Client 0] fit, config: {}\n",
      "\u001b[2m\u001b[36m(launch_and_fit pid=14916)\u001b[0m Epoch 1: train loss 0.01549942884594202, accuracy 0.773286467486819\n",
      "\u001b[2m\u001b[36m(launch_and_fit pid=14916)\u001b[0m Epoch 2: train loss 0.014778361655771732, accuracy 0.7899824253075571\n",
      "\u001b[2m\u001b[36m(launch_and_fit pid=14916)\u001b[0m Epoch 3: train loss 0.015093876048922539, accuracy 0.7759226713532513\n",
      "\u001b[2m\u001b[36m(launch_and_fit pid=14916)\u001b[0m Epoch 4: train loss 0.014380634762346745, accuracy 0.7759226713532513\n",
      "\u001b[2m\u001b[36m(launch_and_fit pid=14916)\u001b[0m Epoch 5: train loss 0.01425137184560299, accuracy 0.7873462214411248\n",
      "\u001b[2m\u001b[36m(launch_and_fit pid=14916)\u001b[0m Epoch 6: train loss 0.014041166752576828, accuracy 0.7952548330404218\n",
      "\u001b[2m\u001b[36m(launch_and_fit pid=14916)\u001b[0m Epoch 7: train loss 0.013777131214737892, accuracy 0.789103690685413\n",
      "\u001b[2m\u001b[36m(launch_and_fit pid=14916)\u001b[0m Epoch 8: train loss 0.014898714609444141, accuracy 0.7943760984182777\n",
      "\u001b[2m\u001b[36m(launch_and_fit pid=14916)\u001b[0m Epoch 9: train loss 0.014887823723256588, accuracy 0.7688927943760984\n",
      "\u001b[2m\u001b[36m(launch_and_fit pid=14916)\u001b[0m Epoch 10: train loss 0.013527865521609783, accuracy 0.7847100175746925\n",
      "\u001b[2m\u001b[36m(launch_and_fit pid=9696)\u001b[0m [Client 3] fit, config: {}\n",
      "\u001b[2m\u001b[36m(launch_and_fit pid=9696)\u001b[0m Epoch 1: train loss 0.016994068399071693, accuracy 0.7495606326889279\n",
      "\u001b[2m\u001b[36m(launch_and_fit pid=9696)\u001b[0m Epoch 2: train loss 0.01603078283369541, accuracy 0.7644991212653779\n",
      "\u001b[2m\u001b[36m(launch_and_fit pid=9696)\u001b[0m Epoch 3: train loss 0.015541058033704758, accuracy 0.773286467486819\n",
      "\u001b[2m\u001b[36m(launch_and_fit pid=9696)\u001b[0m Epoch 4: train loss 0.015563358552753925, accuracy 0.7653778558875219\n",
      "\u001b[2m\u001b[36m(launch_and_fit pid=9696)\u001b[0m Epoch 5: train loss 0.01583009958267212, accuracy 0.7688927943760984\n",
      "\u001b[2m\u001b[36m(launch_and_fit pid=9696)\u001b[0m Epoch 6: train loss 0.015989411622285843, accuracy 0.7644991212653779\n",
      "\u001b[2m\u001b[36m(launch_and_fit pid=9696)\u001b[0m Epoch 7: train loss 0.01581018976867199, accuracy 0.7644991212653779\n",
      "\u001b[2m\u001b[36m(launch_and_fit pid=9696)\u001b[0m Epoch 8: train loss 0.014900343492627144, accuracy 0.7855887521968365\n",
      "\u001b[2m\u001b[36m(launch_and_fit pid=9696)\u001b[0m Epoch 9: train loss 0.015442957170307636, accuracy 0.7609841827768014\n"
     ]
    },
    {
     "name": "stderr",
     "output_type": "stream",
     "text": [
      "DEBUG flwr 2023-05-09 19:28:11,936 | server.py:232 | fit_round 3 received 2 results and 0 failures\n"
     ]
    },
    {
     "name": "stdout",
     "output_type": "stream",
     "text": [
      "\u001b[2m\u001b[36m(launch_and_fit pid=9696)\u001b[0m Epoch 10: train loss 0.014802570454776287, accuracy 0.7794376098418277\n"
     ]
    },
    {
     "name": "stderr",
     "output_type": "stream",
     "text": [
      "INFO flwr 2023-05-09 19:28:13,949 | server.py:119 | fit progress: (3, 0.015692205377592798, {'accuracy': 0.7682584269662921}, 188.834191)\n",
      "DEBUG flwr 2023-05-09 19:28:13,949 | server.py:168 | evaluate_round 3: strategy sampled 2 clients (out of 4)\n"
     ]
    },
    {
     "name": "stdout",
     "output_type": "stream",
     "text": [
      "SERVER EVAL 0.7682584269662921 0.015692205377592798\n",
      "\u001b[2m\u001b[36m(launch_and_evaluate pid=16540)\u001b[0m [Client 0] evaluate, config: {}\n"
     ]
    },
    {
     "name": "stderr",
     "output_type": "stream",
     "text": [
      "DEBUG flwr 2023-05-09 19:28:22,682 | server.py:182 | evaluate_round 3 received 2 results and 0 failures\n",
      "DEBUG flwr 2023-05-09 19:28:22,683 | server.py:218 | fit_round 4: strategy sampled 2 clients (out of 4)\n"
     ]
    },
    {
     "name": "stdout",
     "output_type": "stream",
     "text": [
      "\u001b[2m\u001b[36m(launch_and_fit pid=7140)\u001b[0m [Client 0] fit, config: {}\n",
      "\u001b[2m\u001b[36m(launch_and_evaluate pid=8172)\u001b[0m [Client 0] fit, config: {}\n",
      "\u001b[2m\u001b[36m(launch_and_fit pid=7140)\u001b[0m Epoch 1: train loss 0.014758252538740635, accuracy 0.7882249560632689\n",
      "\u001b[2m\u001b[36m(launch_and_fit pid=7140)\u001b[0m Epoch 2: train loss 0.013816507533192635, accuracy 0.7820738137082601\n",
      "\u001b[2m\u001b[36m(launch_and_fit pid=7140)\u001b[0m Epoch 3: train loss 0.014105763286352158, accuracy 0.7996485061511424\n",
      "\u001b[2m\u001b[36m(launch_and_fit pid=7140)\u001b[0m Epoch 4: train loss 0.013775326311588287, accuracy 0.7996485061511424\n",
      "\u001b[2m\u001b[36m(launch_and_fit pid=7140)\u001b[0m Epoch 5: train loss 0.013185548596084118, accuracy 0.8057996485061512\n",
      "\u001b[2m\u001b[36m(launch_and_fit pid=7140)\u001b[0m Epoch 6: train loss 0.013816929422318935, accuracy 0.8181019332161688\n",
      "\u001b[2m\u001b[36m(launch_and_fit pid=7140)\u001b[0m Epoch 7: train loss 0.013791817240417004, accuracy 0.8075571177504394\n",
      "\u001b[2m\u001b[36m(launch_and_fit pid=7140)\u001b[0m Epoch 8: train loss 0.013596255332231522, accuracy 0.8075571177504394\n",
      "\u001b[2m\u001b[36m(launch_and_fit pid=7140)\u001b[0m Epoch 9: train loss 0.013578450307250023, accuracy 0.7961335676625659\n",
      "\u001b[2m\u001b[36m(launch_and_fit pid=7140)\u001b[0m Epoch 10: train loss 0.012677461840212345, accuracy 0.8022847100175747\n",
      "\u001b[2m\u001b[36m(launch_and_fit pid=6932)\u001b[0m [Client 2] fit, config: {}\n",
      "\u001b[2m\u001b[36m(launch_and_fit pid=6932)\u001b[0m Epoch 1: train loss 0.015379609540104866, accuracy 0.7662565905096661\n",
      "\u001b[2m\u001b[36m(launch_and_fit pid=6932)\u001b[0m Epoch 2: train loss 0.014434987679123878, accuracy 0.7803163444639719\n",
      "\u001b[2m\u001b[36m(launch_and_fit pid=6932)\u001b[0m Epoch 3: train loss 0.01546495035290718, accuracy 0.7794376098418277\n",
      "\u001b[2m\u001b[36m(launch_and_fit pid=6932)\u001b[0m Epoch 4: train loss 0.014713148586452007, accuracy 0.7899824253075571\n",
      "\u001b[2m\u001b[36m(launch_and_fit pid=6932)\u001b[0m Epoch 5: train loss 0.01422730553895235, accuracy 0.7899824253075571\n",
      "\u001b[2m\u001b[36m(launch_and_fit pid=6932)\u001b[0m Epoch 6: train loss 0.014445663429796696, accuracy 0.7759226713532513\n",
      "\u001b[2m\u001b[36m(launch_and_fit pid=6932)\u001b[0m Epoch 7: train loss 0.013736738823354244, accuracy 0.8005272407732865\n",
      "\u001b[2m\u001b[36m(launch_and_fit pid=6932)\u001b[0m Epoch 8: train loss 0.013601693324744701, accuracy 0.7882249560632689\n",
      "\u001b[2m\u001b[36m(launch_and_fit pid=6932)\u001b[0m Epoch 9: train loss 0.01341718528419733, accuracy 0.8005272407732865\n"
     ]
    },
    {
     "name": "stderr",
     "output_type": "stream",
     "text": [
      "DEBUG flwr 2023-05-09 19:29:18,170 | server.py:232 | fit_round 4 received 2 results and 0 failures\n"
     ]
    },
    {
     "name": "stdout",
     "output_type": "stream",
     "text": [
      "\u001b[2m\u001b[36m(launch_and_fit pid=6932)\u001b[0m Epoch 10: train loss 0.013423923403024673, accuracy 0.7926186291739895\n"
     ]
    },
    {
     "name": "stderr",
     "output_type": "stream",
     "text": [
      "INFO flwr 2023-05-09 19:29:20,150 | server.py:119 | fit progress: (4, 0.016139017946474002, {'accuracy': 0.7689606741573034}, 255.03550289999998)\n",
      "DEBUG flwr 2023-05-09 19:29:20,151 | server.py:168 | evaluate_round 4: strategy sampled 2 clients (out of 4)\n"
     ]
    },
    {
     "name": "stdout",
     "output_type": "stream",
     "text": [
      "SERVER EVAL 0.7689606741573034 0.016139017946474002\n",
      "\u001b[2m\u001b[36m(launch_and_evaluate pid=1264)\u001b[0m [Client 2] evaluate, config: {}\n"
     ]
    },
    {
     "name": "stderr",
     "output_type": "stream",
     "text": [
      "DEBUG flwr 2023-05-09 19:29:28,869 | server.py:182 | evaluate_round 4 received 2 results and 0 failures\n",
      "DEBUG flwr 2023-05-09 19:29:28,870 | server.py:218 | fit_round 5: strategy sampled 2 clients (out of 4)\n"
     ]
    },
    {
     "name": "stdout",
     "output_type": "stream",
     "text": [
      "\u001b[2m\u001b[36m(launch_and_fit pid=10788)\u001b[0m [Client 2] fit, config: {}\n",
      "\u001b[2m\u001b[36m(launch_and_evaluate pid=19568)\u001b[0m [Client 2] fit, config: {}\n",
      "\u001b[2m\u001b[36m(launch_and_fit pid=10788)\u001b[0m Epoch 1: train loss 0.014217169024050236, accuracy 0.7899824253075571\n",
      "\u001b[2m\u001b[36m(launch_and_fit pid=10788)\u001b[0m Epoch 2: train loss 0.014160310849547386, accuracy 0.7961335676625659\n",
      "\u001b[2m\u001b[36m(launch_and_fit pid=10788)\u001b[0m Epoch 3: train loss 0.013747137039899826, accuracy 0.7855887521968365\n",
      "\u001b[2m\u001b[36m(launch_and_fit pid=10788)\u001b[0m Epoch 4: train loss 0.013342594727873802, accuracy 0.7961335676625659\n",
      "\u001b[2m\u001b[36m(launch_and_fit pid=10788)\u001b[0m Epoch 5: train loss 0.012353427708148956, accuracy 0.81195079086116\n",
      "\u001b[2m\u001b[36m(launch_and_fit pid=10788)\u001b[0m Epoch 6: train loss 0.011773884296417236, accuracy 0.820738137082601\n",
      "\u001b[2m\u001b[36m(launch_and_fit pid=10788)\u001b[0m Epoch 7: train loss 0.012804809957742691, accuracy 0.8189806678383128\n",
      "\u001b[2m\u001b[36m(launch_and_fit pid=10788)\u001b[0m Epoch 8: train loss 0.012171240523457527, accuracy 0.8216168717047452\n",
      "\u001b[2m\u001b[36m(launch_and_fit pid=10788)\u001b[0m Epoch 9: train loss 0.011312413960695267, accuracy 0.8172231985940246\n",
      "\u001b[2m\u001b[36m(launch_and_fit pid=10788)\u001b[0m Epoch 10: train loss 0.011296561919152737, accuracy 0.8418277680140598\n",
      "\u001b[2m\u001b[36m(launch_and_fit pid=16564)\u001b[0m [Client 3] fit, config: {}\n",
      "\u001b[2m\u001b[36m(launch_and_fit pid=16564)\u001b[0m Epoch 1: train loss 0.016155995428562164, accuracy 0.7627416520210897\n",
      "\u001b[2m\u001b[36m(launch_and_fit pid=16564)\u001b[0m Epoch 2: train loss 0.014830892905592918, accuracy 0.7759226713532513\n",
      "\u001b[2m\u001b[36m(launch_and_fit pid=16564)\u001b[0m Epoch 3: train loss 0.014669247902929783, accuracy 0.7768014059753954\n",
      "\u001b[2m\u001b[36m(launch_and_fit pid=16564)\u001b[0m Epoch 4: train loss 0.014084008522331715, accuracy 0.7978910369068541\n",
      "\u001b[2m\u001b[36m(launch_and_fit pid=16564)\u001b[0m Epoch 5: train loss 0.014363173395395279, accuracy 0.7768014059753954\n",
      "\u001b[2m\u001b[36m(launch_and_fit pid=16564)\u001b[0m Epoch 6: train loss 0.013672337867319584, accuracy 0.79701230228471\n",
      "\u001b[2m\u001b[36m(launch_and_fit pid=16564)\u001b[0m Epoch 7: train loss 0.013458759523928165, accuracy 0.8154657293497364\n",
      "\u001b[2m\u001b[36m(launch_and_fit pid=16564)\u001b[0m Epoch 8: train loss 0.014142918400466442, accuracy 0.7820738137082601\n",
      "\u001b[2m\u001b[36m(launch_and_fit pid=16564)\u001b[0m Epoch 9: train loss 0.013076241128146648, accuracy 0.8075571177504394\n"
     ]
    },
    {
     "name": "stderr",
     "output_type": "stream",
     "text": [
      "DEBUG flwr 2023-05-09 19:30:24,399 | server.py:232 | fit_round 5 received 2 results and 0 failures\n"
     ]
    },
    {
     "name": "stdout",
     "output_type": "stream",
     "text": [
      "\u001b[2m\u001b[36m(launch_and_fit pid=16564)\u001b[0m Epoch 10: train loss 0.013690867461264133, accuracy 0.8031634446397188\n"
     ]
    },
    {
     "name": "stderr",
     "output_type": "stream",
     "text": [
      "INFO flwr 2023-05-09 19:30:26,530 | server.py:119 | fit progress: (5, 0.014609642771564508, {'accuracy': 0.7865168539325843}, 321.4163321)\n",
      "DEBUG flwr 2023-05-09 19:30:26,531 | server.py:168 | evaluate_round 5: strategy sampled 2 clients (out of 4)\n"
     ]
    },
    {
     "name": "stdout",
     "output_type": "stream",
     "text": [
      "SERVER EVAL 0.7865168539325843 0.014609642771564508\n",
      "\u001b[2m\u001b[36m(launch_and_evaluate pid=20864)\u001b[0m [Client 2] evaluate, config: {}\n"
     ]
    },
    {
     "name": "stderr",
     "output_type": "stream",
     "text": [
      "DEBUG flwr 2023-05-09 19:30:35,261 | server.py:182 | evaluate_round 5 received 2 results and 0 failures\n",
      "DEBUG flwr 2023-05-09 19:30:35,262 | server.py:218 | fit_round 6: strategy sampled 2 clients (out of 4)\n"
     ]
    },
    {
     "name": "stdout",
     "output_type": "stream",
     "text": [
      "\u001b[2m\u001b[36m(launch_and_fit pid=16480)\u001b[0m [Client 2] fit, config: {}\n",
      "\u001b[2m\u001b[36m(launch_and_evaluate pid=1156)\u001b[0m [Client 2] fit, config: {}\n",
      "\u001b[2m\u001b[36m(launch_and_fit pid=16480)\u001b[0m Epoch 1: train loss 0.012628884054720402, accuracy 0.812829525483304\n",
      "\u001b[2m\u001b[36m(launch_and_fit pid=16480)\u001b[0m Epoch 2: train loss 0.012168786488473415, accuracy 0.8242530755711776\n",
      "\u001b[2m\u001b[36m(launch_and_fit pid=16480)\u001b[0m Epoch 3: train loss 0.011498584412038326, accuracy 0.8242530755711776\n",
      "\u001b[2m\u001b[36m(launch_and_fit pid=16480)\u001b[0m Epoch 4: train loss 0.01268040481954813, accuracy 0.835676625659051\n",
      "\u001b[2m\u001b[36m(launch_and_fit pid=16480)\u001b[0m Epoch 5: train loss 0.011873047798871994, accuracy 0.81195079086116\n",
      "\u001b[2m\u001b[36m(launch_and_fit pid=16480)\u001b[0m Epoch 6: train loss 0.011027312837541103, accuracy 0.827768014059754\n",
      "\u001b[2m\u001b[36m(launch_and_fit pid=16480)\u001b[0m Epoch 7: train loss 0.011434579268097878, accuracy 0.8189806678383128\n",
      "\u001b[2m\u001b[36m(launch_and_fit pid=16480)\u001b[0m Epoch 8: train loss 0.010079399682581425, accuracy 0.8629173989455184\n",
      "\u001b[2m\u001b[36m(launch_and_fit pid=16480)\u001b[0m Epoch 9: train loss 0.011516038328409195, accuracy 0.828646748681898\n",
      "\u001b[2m\u001b[36m(launch_and_fit pid=16480)\u001b[0m Epoch 10: train loss 0.00968047697097063, accuracy 0.8602811950790861\n",
      "\u001b[2m\u001b[36m(launch_and_fit pid=21096)\u001b[0m [Client 1] fit, config: {}\n",
      "\u001b[2m\u001b[36m(launch_and_fit pid=21096)\u001b[0m Epoch 1: train loss 0.016410736367106438, accuracy 0.7390158172231986\n",
      "\u001b[2m\u001b[36m(launch_and_fit pid=21096)\u001b[0m Epoch 2: train loss 0.015242394059896469, accuracy 0.7609841827768014\n",
      "\u001b[2m\u001b[36m(launch_and_fit pid=21096)\u001b[0m Epoch 3: train loss 0.015336685813963413, accuracy 0.7627416520210897\n",
      "\u001b[2m\u001b[36m(launch_and_fit pid=21096)\u001b[0m Epoch 4: train loss 0.015150710940361023, accuracy 0.7750439367311072\n",
      "\u001b[2m\u001b[36m(launch_and_fit pid=21096)\u001b[0m Epoch 5: train loss 0.014547660015523434, accuracy 0.7829525483304042\n",
      "\u001b[2m\u001b[36m(launch_and_fit pid=21096)\u001b[0m Epoch 6: train loss 0.014479164965450764, accuracy 0.7838312829525483\n",
      "\u001b[2m\u001b[36m(launch_and_fit pid=21096)\u001b[0m Epoch 7: train loss 0.013858175836503506, accuracy 0.7847100175746925\n",
      "\u001b[2m\u001b[36m(launch_and_fit pid=21096)\u001b[0m Epoch 8: train loss 0.01391603797674179, accuracy 0.7794376098418277\n",
      "\u001b[2m\u001b[36m(launch_and_fit pid=21096)\u001b[0m Epoch 9: train loss 0.014181705191731453, accuracy 0.7908611599297012\n"
     ]
    },
    {
     "name": "stderr",
     "output_type": "stream",
     "text": [
      "DEBUG flwr 2023-05-09 19:31:30,629 | server.py:232 | fit_round 6 received 2 results and 0 failures\n"
     ]
    },
    {
     "name": "stdout",
     "output_type": "stream",
     "text": [
      "\u001b[2m\u001b[36m(launch_and_fit pid=21096)\u001b[0m Epoch 10: train loss 0.013531262055039406, accuracy 0.7908611599297012\n"
     ]
    },
    {
     "name": "stderr",
     "output_type": "stream",
     "text": [
      "INFO flwr 2023-05-09 19:31:32,628 | server.py:119 | fit progress: (6, 0.014417718870962938, {'accuracy': 0.7794943820224719}, 387.513747)\n",
      "DEBUG flwr 2023-05-09 19:31:32,628 | server.py:168 | evaluate_round 6: strategy sampled 2 clients (out of 4)\n"
     ]
    },
    {
     "name": "stdout",
     "output_type": "stream",
     "text": [
      "SERVER EVAL 0.7794943820224719 0.014417718870962938\n",
      "\u001b[2m\u001b[36m(launch_and_evaluate pid=12080)\u001b[0m [Client 2] evaluate, config: {}\n"
     ]
    },
    {
     "name": "stderr",
     "output_type": "stream",
     "text": [
      "DEBUG flwr 2023-05-09 19:31:41,549 | server.py:182 | evaluate_round 6 received 2 results and 0 failures\n",
      "DEBUG flwr 2023-05-09 19:31:41,550 | server.py:218 | fit_round 7: strategy sampled 2 clients (out of 4)\n"
     ]
    },
    {
     "name": "stdout",
     "output_type": "stream",
     "text": [
      "\u001b[2m\u001b[36m(launch_and_fit pid=5556)\u001b[0m [Client 1] fit, config: {}\n",
      "\u001b[2m\u001b[36m(launch_and_evaluate pid=17060)\u001b[0m [Client 1] fit, config: {}\n",
      "\u001b[2m\u001b[36m(launch_and_fit pid=5556)\u001b[0m Epoch 1: train loss 0.014350117184221745, accuracy 0.7838312829525483\n",
      "\u001b[2m\u001b[36m(launch_and_fit pid=5556)\u001b[0m Epoch 2: train loss 0.014043126255273819, accuracy 0.7882249560632689\n",
      "\u001b[2m\u001b[36m(launch_and_fit pid=5556)\u001b[0m Epoch 3: train loss 0.01320731732994318, accuracy 0.8057996485061512\n",
      "\u001b[2m\u001b[36m(launch_and_fit pid=5556)\u001b[0m Epoch 4: train loss 0.012872795574367046, accuracy 0.7943760984182777\n",
      "\u001b[2m\u001b[36m(launch_and_fit pid=5556)\u001b[0m Epoch 5: train loss 0.01339160930365324, accuracy 0.7908611599297012\n",
      "\u001b[2m\u001b[36m(launch_and_fit pid=5556)\u001b[0m Epoch 6: train loss 0.013623744249343872, accuracy 0.7978910369068541\n",
      "\u001b[2m\u001b[36m(launch_and_fit pid=5556)\u001b[0m Epoch 7: train loss 0.01308082789182663, accuracy 0.7978910369068541\n",
      "\u001b[2m\u001b[36m(launch_and_fit pid=5556)\u001b[0m Epoch 8: train loss 0.012704247608780861, accuracy 0.7996485061511424\n",
      "\u001b[2m\u001b[36m(launch_and_fit pid=5556)\u001b[0m Epoch 9: train loss 0.012360317632555962, accuracy 0.8101933216168717\n",
      "\u001b[2m\u001b[36m(launch_and_fit pid=5556)\u001b[0m Epoch 10: train loss 0.011841902509331703, accuracy 0.8312829525483304\n",
      "\u001b[2m\u001b[36m(launch_and_fit pid=5884)\u001b[0m [Client 2] fit, config: {}\n",
      "\u001b[2m\u001b[36m(launch_and_fit pid=5884)\u001b[0m Epoch 1: train loss 0.011415127664804459, accuracy 0.8339191564147628\n",
      "\u001b[2m\u001b[36m(launch_and_fit pid=5884)\u001b[0m Epoch 2: train loss 0.010794825851917267, accuracy 0.844463971880492\n",
      "\u001b[2m\u001b[36m(launch_and_fit pid=5884)\u001b[0m Epoch 3: train loss 0.00958559475839138, accuracy 0.8664323374340949\n",
      "\u001b[2m\u001b[36m(launch_and_fit pid=5884)\u001b[0m Epoch 4: train loss 0.010463756509125233, accuracy 0.8400702987697716\n",
      "\u001b[2m\u001b[36m(launch_and_fit pid=5884)\u001b[0m Epoch 5: train loss 0.01029140129685402, accuracy 0.8567662565905096\n",
      "\u001b[2m\u001b[36m(launch_and_fit pid=5884)\u001b[0m Epoch 6: train loss 0.009059704840183258, accuracy 0.8690685413005272\n",
      "\u001b[2m\u001b[36m(launch_and_fit pid=5884)\u001b[0m Epoch 7: train loss 0.00916819553822279, accuracy 0.8664323374340949\n",
      "\u001b[2m\u001b[36m(launch_and_fit pid=5884)\u001b[0m Epoch 8: train loss 0.007988997735083103, accuracy 0.8804920913884007\n",
      "\u001b[2m\u001b[36m(launch_and_fit pid=5884)\u001b[0m Epoch 9: train loss 0.008217253722250462, accuracy 0.8927943760984183\n"
     ]
    },
    {
     "name": "stderr",
     "output_type": "stream",
     "text": [
      "DEBUG flwr 2023-05-09 19:32:36,848 | server.py:232 | fit_round 7 received 2 results and 0 failures\n"
     ]
    },
    {
     "name": "stdout",
     "output_type": "stream",
     "text": [
      "\u001b[2m\u001b[36m(launch_and_fit pid=5884)\u001b[0m Epoch 10: train loss 0.011358266696333885, accuracy 0.8919156414762741\n"
     ]
    },
    {
     "name": "stderr",
     "output_type": "stream",
     "text": [
      "INFO flwr 2023-05-09 19:32:38,998 | server.py:119 | fit progress: (7, 0.015613232205590506, {'accuracy': 0.7542134831460674}, 453.8834995)\n",
      "DEBUG flwr 2023-05-09 19:32:38,998 | server.py:168 | evaluate_round 7: strategy sampled 2 clients (out of 4)\n"
     ]
    },
    {
     "name": "stdout",
     "output_type": "stream",
     "text": [
      "SERVER EVAL 0.7542134831460674 0.015613232205590506\n",
      "\u001b[2m\u001b[36m(launch_and_evaluate pid=20276)\u001b[0m [Client 1] evaluate, config: {}\n"
     ]
    },
    {
     "name": "stderr",
     "output_type": "stream",
     "text": [
      "DEBUG flwr 2023-05-09 19:32:47,859 | server.py:182 | evaluate_round 7 received 2 results and 0 failures\n",
      "DEBUG flwr 2023-05-09 19:32:47,860 | server.py:218 | fit_round 8: strategy sampled 2 clients (out of 4)\n"
     ]
    },
    {
     "name": "stdout",
     "output_type": "stream",
     "text": [
      "\u001b[2m\u001b[36m(launch_and_fit pid=7052)\u001b[0m [Client 3] fit, config: {}\n",
      "\u001b[2m\u001b[36m(launch_and_evaluate pid=15084)\u001b[0m [Client 3] fit, config: {}\n",
      "\u001b[2m\u001b[36m(launch_and_fit pid=7052)\u001b[0m Epoch 1: train loss 0.01592191867530346, accuracy 0.7697715289982425\n",
      "\u001b[2m\u001b[36m(launch_and_fit pid=7052)\u001b[0m Epoch 2: train loss 0.013776113279163837, accuracy 0.7987697715289982\n",
      "\u001b[2m\u001b[36m(launch_and_fit pid=7052)\u001b[0m Epoch 3: train loss 0.013078435324132442, accuracy 0.8154657293497364\n",
      "\u001b[2m\u001b[36m(launch_and_fit pid=7052)\u001b[0m Epoch 4: train loss 0.012491312809288502, accuracy 0.8172231985940246\n",
      "\u001b[2m\u001b[36m(launch_and_fit pid=7052)\u001b[0m Epoch 5: train loss 0.01231727097183466, accuracy 0.8172231985940246\n",
      "\u001b[2m\u001b[36m(launch_and_fit pid=7052)\u001b[0m Epoch 6: train loss 0.012005677446722984, accuracy 0.8242530755711776\n",
      "\u001b[2m\u001b[36m(launch_and_fit pid=7052)\u001b[0m Epoch 7: train loss 0.011555042117834091, accuracy 0.836555360281195\n",
      "\u001b[2m\u001b[36m(launch_and_fit pid=7052)\u001b[0m Epoch 8: train loss 0.010978996753692627, accuracy 0.836555360281195\n",
      "\u001b[2m\u001b[36m(launch_and_fit pid=7052)\u001b[0m Epoch 9: train loss 0.01112896203994751, accuracy 0.843585237258348\n",
      "\u001b[2m\u001b[36m(launch_and_fit pid=7052)\u001b[0m Epoch 10: train loss 0.01170236337929964, accuracy 0.8163444639718805\n",
      "\u001b[2m\u001b[36m(launch_and_fit pid=11688)\u001b[0m [Client 0] fit, config: {}\n",
      "\u001b[2m\u001b[36m(launch_and_fit pid=11688)\u001b[0m Epoch 1: train loss 0.01398411113768816, accuracy 0.7952548330404218\n",
      "\u001b[2m\u001b[36m(launch_and_fit pid=11688)\u001b[0m Epoch 2: train loss 0.012904691509902477, accuracy 0.8154657293497364\n",
      "\u001b[2m\u001b[36m(launch_and_fit pid=11688)\u001b[0m Epoch 3: train loss 0.012056817300617695, accuracy 0.8154657293497364\n",
      "\u001b[2m\u001b[36m(launch_and_fit pid=11688)\u001b[0m Epoch 4: train loss 0.011905301362276077, accuracy 0.8304042179261862\n",
      "\u001b[2m\u001b[36m(launch_and_fit pid=11688)\u001b[0m Epoch 5: train loss 0.01112021692097187, accuracy 0.8383128295254832\n",
      "\u001b[2m\u001b[36m(launch_and_fit pid=11688)\u001b[0m Epoch 6: train loss 0.010844952426850796, accuracy 0.8400702987697716\n",
      "\u001b[2m\u001b[36m(launch_and_fit pid=11688)\u001b[0m Epoch 7: train loss 0.014045881107449532, accuracy 0.8462214411247804\n",
      "\u001b[2m\u001b[36m(launch_and_fit pid=11688)\u001b[0m Epoch 8: train loss 0.011792105622589588, accuracy 0.820738137082601\n",
      "\u001b[2m\u001b[36m(launch_and_fit pid=11688)\u001b[0m Epoch 9: train loss 0.010485908947885036, accuracy 0.8532513181019332\n"
     ]
    },
    {
     "name": "stderr",
     "output_type": "stream",
     "text": [
      "DEBUG flwr 2023-05-09 19:33:43,004 | server.py:232 | fit_round 8 received 2 results and 0 failures\n"
     ]
    },
    {
     "name": "stdout",
     "output_type": "stream",
     "text": [
      "\u001b[2m\u001b[36m(launch_and_fit pid=11688)\u001b[0m Epoch 10: train loss 0.010270802304148674, accuracy 0.8497363796133568\n"
     ]
    },
    {
     "name": "stderr",
     "output_type": "stream",
     "text": [
      "INFO flwr 2023-05-09 19:33:45,095 | server.py:119 | fit progress: (8, 0.014892316389347562, {'accuracy': 0.7928370786516854}, 519.9809204000001)\n",
      "DEBUG flwr 2023-05-09 19:33:45,096 | server.py:168 | evaluate_round 8: strategy sampled 2 clients (out of 4)\n"
     ]
    },
    {
     "name": "stdout",
     "output_type": "stream",
     "text": [
      "SERVER EVAL 0.7928370786516854 0.014892316389347562\n",
      "\u001b[2m\u001b[36m(launch_and_evaluate pid=832)\u001b[0m [Client 2] evaluate, config: {}\n"
     ]
    },
    {
     "name": "stderr",
     "output_type": "stream",
     "text": [
      "DEBUG flwr 2023-05-09 19:33:53,881 | server.py:182 | evaluate_round 8 received 2 results and 0 failures\n",
      "DEBUG flwr 2023-05-09 19:33:53,882 | server.py:218 | fit_round 9: strategy sampled 2 clients (out of 4)\n"
     ]
    },
    {
     "name": "stdout",
     "output_type": "stream",
     "text": [
      "\u001b[2m\u001b[36m(launch_and_fit pid=14888)\u001b[0m [Client 1] fit, config: {}\n",
      "\u001b[2m\u001b[36m(launch_and_evaluate pid=3968)\u001b[0m [Client 1] fit, config: {}\n",
      "\u001b[2m\u001b[36m(launch_and_fit pid=14888)\u001b[0m Epoch 1: train loss 0.014406828209757805, accuracy 0.79701230228471\n",
      "\u001b[2m\u001b[36m(launch_and_fit pid=14888)\u001b[0m Epoch 2: train loss 0.013125143945217133, accuracy 0.8066783831282952\n",
      "\u001b[2m\u001b[36m(launch_and_fit pid=14888)\u001b[0m Epoch 3: train loss 0.012643489055335522, accuracy 0.8216168717047452\n",
      "\u001b[2m\u001b[36m(launch_and_fit pid=14888)\u001b[0m Epoch 4: train loss 0.012179399840533733, accuracy 0.8181019332161688\n",
      "\u001b[2m\u001b[36m(launch_and_fit pid=14888)\u001b[0m Epoch 5: train loss 0.01183052733540535, accuracy 0.8268892794376098\n",
      "\u001b[2m\u001b[36m(launch_and_fit pid=14888)\u001b[0m Epoch 6: train loss 0.010424651205539703, accuracy 0.8471001757469244\n",
      "\u001b[2m\u001b[36m(launch_and_fit pid=14888)\u001b[0m Epoch 7: train loss 0.010454589501023293, accuracy 0.8400702987697716\n",
      "\u001b[2m\u001b[36m(launch_and_fit pid=14888)\u001b[0m Epoch 8: train loss 0.0102718286216259, accuracy 0.8602811950790861\n",
      "\u001b[2m\u001b[36m(launch_and_fit pid=14888)\u001b[0m Epoch 9: train loss 0.010220248252153397, accuracy 0.8453427065026362\n",
      "\u001b[2m\u001b[36m(launch_and_fit pid=14888)\u001b[0m Epoch 10: train loss 0.009199894964694977, accuracy 0.8787346221441125\n",
      "\u001b[2m\u001b[36m(launch_and_fit pid=12184)\u001b[0m [Client 2] fit, config: {}\n",
      "\u001b[2m\u001b[36m(launch_and_fit pid=12184)\u001b[0m Epoch 1: train loss 0.01218518428504467, accuracy 0.8251318101933216\n",
      "\u001b[2m\u001b[36m(launch_and_fit pid=12184)\u001b[0m Epoch 2: train loss 0.009572042152285576, accuracy 0.8646748681898067\n",
      "\u001b[2m\u001b[36m(launch_and_fit pid=12184)\u001b[0m Epoch 3: train loss 0.009253602474927902, accuracy 0.8743409490333919\n",
      "\u001b[2m\u001b[36m(launch_and_fit pid=12184)\u001b[0m Epoch 4: train loss 0.00990515947341919, accuracy 0.867311072056239\n",
      "\u001b[2m\u001b[36m(launch_and_fit pid=12184)\u001b[0m Epoch 5: train loss 0.016988804563879967, accuracy 0.8620386643233744\n",
      "\u001b[2m\u001b[36m(launch_and_fit pid=12184)\u001b[0m Epoch 6: train loss 0.008960024453699589, accuracy 0.8769771528998243\n",
      "\u001b[2m\u001b[36m(launch_and_fit pid=12184)\u001b[0m Epoch 7: train loss 0.008811729028820992, accuracy 0.8804920913884007\n",
      "\u001b[2m\u001b[36m(launch_and_fit pid=12184)\u001b[0m Epoch 8: train loss 0.00867376383394003, accuracy 0.8848857644991213\n",
      "\u001b[2m\u001b[36m(launch_and_fit pid=12184)\u001b[0m Epoch 9: train loss 0.007557409815490246, accuracy 0.8963093145869947\n"
     ]
    },
    {
     "name": "stderr",
     "output_type": "stream",
     "text": [
      "DEBUG flwr 2023-05-09 19:34:49,040 | server.py:232 | fit_round 9 received 2 results and 0 failures\n"
     ]
    },
    {
     "name": "stdout",
     "output_type": "stream",
     "text": [
      "\u001b[2m\u001b[36m(launch_and_fit pid=12184)\u001b[0m Epoch 10: train loss 0.006543917581439018, accuracy 0.9121265377855887\n"
     ]
    },
    {
     "name": "stderr",
     "output_type": "stream",
     "text": [
      "INFO flwr 2023-05-09 19:34:51,178 | server.py:119 | fit progress: (9, 0.015916716835848735, {'accuracy': 0.7773876404494382}, 586.0637217999999)\n",
      "DEBUG flwr 2023-05-09 19:34:51,179 | server.py:168 | evaluate_round 9: strategy sampled 2 clients (out of 4)\n"
     ]
    },
    {
     "name": "stdout",
     "output_type": "stream",
     "text": [
      "SERVER EVAL 0.7773876404494382 0.015916716835848735\n",
      "\u001b[2m\u001b[36m(launch_and_evaluate pid=1172)\u001b[0m [Client 3] evaluate, config: {}\n"
     ]
    },
    {
     "name": "stderr",
     "output_type": "stream",
     "text": [
      "DEBUG flwr 2023-05-09 19:35:00,260 | server.py:182 | evaluate_round 9 received 2 results and 0 failures\n",
      "DEBUG flwr 2023-05-09 19:35:00,261 | server.py:218 | fit_round 10: strategy sampled 2 clients (out of 4)\n"
     ]
    },
    {
     "name": "stdout",
     "output_type": "stream",
     "text": [
      "\u001b[2m\u001b[36m(launch_and_fit pid=17452)\u001b[0m [Client 3] fit, config: {}\n",
      "\u001b[2m\u001b[36m(launch_and_evaluate pid=19688)\u001b[0m [Client 3] fit, config: {}\n",
      "\u001b[2m\u001b[36m(launch_and_fit pid=17452)\u001b[0m Epoch 1: train loss 0.014910492114722729, accuracy 0.7864674868189807\n",
      "\u001b[2m\u001b[36m(launch_and_fit pid=17452)\u001b[0m Epoch 2: train loss 0.012035004794597626, accuracy 0.8233743409490334\n",
      "\u001b[2m\u001b[36m(launch_and_fit pid=17452)\u001b[0m Epoch 3: train loss 0.011982720345258713, accuracy 0.8260105448154658\n",
      "\u001b[2m\u001b[36m(launch_and_fit pid=17452)\u001b[0m Epoch 4: train loss 0.011178999207913876, accuracy 0.8541300527240774\n",
      "\u001b[2m\u001b[36m(launch_and_fit pid=17452)\u001b[0m Epoch 5: train loss 0.01085357554256916, accuracy 0.8471001757469244\n",
      "\u001b[2m\u001b[36m(launch_and_fit pid=17452)\u001b[0m Epoch 6: train loss 0.009950967505574226, accuracy 0.8708260105448155\n",
      "\u001b[2m\u001b[36m(launch_and_fit pid=17452)\u001b[0m Epoch 7: train loss 0.00990969780832529, accuracy 0.867311072056239\n",
      "\u001b[2m\u001b[36m(launch_and_fit pid=17452)\u001b[0m Epoch 8: train loss 0.009140796028077602, accuracy 0.8690685413005272\n",
      "\u001b[2m\u001b[36m(launch_and_fit pid=17452)\u001b[0m Epoch 9: train loss 0.009006439708173275, accuracy 0.8778558875219684\n",
      "\u001b[2m\u001b[36m(launch_and_fit pid=17452)\u001b[0m Epoch 10: train loss 0.00833328627049923, accuracy 0.8840070298769771\n",
      "\u001b[2m\u001b[36m(launch_and_fit pid=2856)\u001b[0m [Client 0] fit, config: {}\n",
      "\u001b[2m\u001b[36m(launch_and_fit pid=2856)\u001b[0m Epoch 1: train loss 0.01381246093660593, accuracy 0.8075571177504394\n",
      "\u001b[2m\u001b[36m(launch_and_fit pid=2856)\u001b[0m Epoch 2: train loss 0.013007907196879387, accuracy 0.8295254833040422\n",
      "\u001b[2m\u001b[36m(launch_and_fit pid=2856)\u001b[0m Epoch 3: train loss 0.010997308418154716, accuracy 0.836555360281195\n",
      "\u001b[2m\u001b[36m(launch_and_fit pid=2856)\u001b[0m Epoch 4: train loss 0.010271322913467884, accuracy 0.8523725834797891\n",
      "\u001b[2m\u001b[36m(launch_and_fit pid=2856)\u001b[0m Epoch 5: train loss 0.015648070722818375, accuracy 0.8224956063268892\n",
      "\u001b[2m\u001b[36m(launch_and_fit pid=2856)\u001b[0m Epoch 6: train loss 0.010873223654925823, accuracy 0.8462214411247804\n",
      "\u001b[2m\u001b[36m(launch_and_fit pid=2856)\u001b[0m Epoch 7: train loss 0.009870435111224651, accuracy 0.8585237258347979\n",
      "\u001b[2m\u001b[36m(launch_and_fit pid=2856)\u001b[0m Epoch 8: train loss 0.010072258301079273, accuracy 0.8479789103690686\n",
      "\u001b[2m\u001b[36m(launch_and_fit pid=2856)\u001b[0m Epoch 9: train loss 0.009654585272073746, accuracy 0.8699472759226714\n"
     ]
    },
    {
     "name": "stderr",
     "output_type": "stream",
     "text": [
      "DEBUG flwr 2023-05-09 19:35:55,750 | server.py:232 | fit_round 10 received 2 results and 0 failures\n"
     ]
    },
    {
     "name": "stdout",
     "output_type": "stream",
     "text": [
      "\u001b[2m\u001b[36m(launch_and_fit pid=2856)\u001b[0m Epoch 10: train loss 0.009223918430507183, accuracy 0.8813708260105448\n"
     ]
    },
    {
     "name": "stderr",
     "output_type": "stream",
     "text": [
      "INFO flwr 2023-05-09 19:35:57,716 | server.py:119 | fit progress: (10, 0.01570582828285654, {'accuracy': 0.7801966292134831}, 652.601903)\n",
      "DEBUG flwr 2023-05-09 19:35:57,717 | server.py:168 | evaluate_round 10: strategy sampled 2 clients (out of 4)\n"
     ]
    },
    {
     "name": "stdout",
     "output_type": "stream",
     "text": [
      "SERVER EVAL 0.7801966292134831 0.01570582828285654\n",
      "\u001b[2m\u001b[36m(launch_and_evaluate pid=20740)\u001b[0m [Client 1] evaluate, config: {}\n"
     ]
    },
    {
     "name": "stderr",
     "output_type": "stream",
     "text": [
      "DEBUG flwr 2023-05-09 19:36:06,523 | server.py:182 | evaluate_round 10 received 2 results and 0 failures\n",
      "DEBUG flwr 2023-05-09 19:36:06,524 | server.py:218 | fit_round 11: strategy sampled 2 clients (out of 4)\n"
     ]
    },
    {
     "name": "stdout",
     "output_type": "stream",
     "text": [
      "\u001b[2m\u001b[36m(launch_and_fit pid=6492)\u001b[0m [Client 3] fit, config: {}\n",
      "\u001b[2m\u001b[36m(launch_and_evaluate pid=14244)\u001b[0m [Client 3] fit, config: {}\n",
      "\u001b[2m\u001b[36m(launch_and_fit pid=6492)\u001b[0m Epoch 1: train loss 0.011486764065921307, accuracy 0.8479789103690686\n",
      "\u001b[2m\u001b[36m(launch_and_fit pid=6492)\u001b[0m Epoch 2: train loss 0.009177718311548233, accuracy 0.8637961335676626\n",
      "\u001b[2m\u001b[36m(launch_and_fit pid=6492)\u001b[0m Epoch 3: train loss 0.009771264158189297, accuracy 0.8611599297012302\n",
      "\u001b[2m\u001b[36m(launch_and_fit pid=6492)\u001b[0m Epoch 4: train loss 0.008849907666444778, accuracy 0.8840070298769771\n",
      "\u001b[2m\u001b[36m(launch_and_fit pid=6492)\u001b[0m Epoch 5: train loss 0.008655057288706303, accuracy 0.8963093145869947\n",
      "\u001b[2m\u001b[36m(launch_and_fit pid=6492)\u001b[0m Epoch 6: train loss 0.007889186032116413, accuracy 0.9015817223198594\n",
      "\u001b[2m\u001b[36m(launch_and_fit pid=6492)\u001b[0m Epoch 7: train loss 0.007689785212278366, accuracy 0.8971880492091389\n",
      "\u001b[2m\u001b[36m(launch_and_fit pid=6492)\u001b[0m Epoch 8: train loss 0.006790017243474722, accuracy 0.9121265377855887\n",
      "\u001b[2m\u001b[36m(launch_and_fit pid=6492)\u001b[0m Epoch 9: train loss 0.007874734699726105, accuracy 0.8963093145869947\n",
      "\u001b[2m\u001b[36m(launch_and_fit pid=6492)\u001b[0m Epoch 10: train loss 0.006685457192361355, accuracy 0.9068541300527241\n",
      "\u001b[2m\u001b[36m(launch_and_fit pid=5860)\u001b[0m [Client 2] fit, config: {}\n",
      "\u001b[2m\u001b[36m(launch_and_fit pid=5860)\u001b[0m Epoch 1: train loss 0.011052320711314678, accuracy 0.843585237258348\n",
      "\u001b[2m\u001b[36m(launch_and_fit pid=5860)\u001b[0m Epoch 2: train loss 0.010361354798078537, accuracy 0.8471001757469244\n",
      "\u001b[2m\u001b[36m(launch_and_fit pid=5860)\u001b[0m Epoch 3: train loss 0.01035032607614994, accuracy 0.851493848857645\n",
      "\u001b[2m\u001b[36m(launch_and_fit pid=5860)\u001b[0m Epoch 4: train loss 0.009440463967621326, accuracy 0.8919156414762741\n",
      "\u001b[2m\u001b[36m(launch_and_fit pid=5860)\u001b[0m Epoch 5: train loss 0.007343220058828592, accuracy 0.8945518453427065\n",
      "\u001b[2m\u001b[36m(launch_and_fit pid=5860)\u001b[0m Epoch 6: train loss 0.007817202247679234, accuracy 0.8884007029876977\n",
      "\u001b[2m\u001b[36m(launch_and_fit pid=5860)\u001b[0m Epoch 7: train loss 0.007248906418681145, accuracy 0.8901581722319859\n",
      "\u001b[2m\u001b[36m(launch_and_fit pid=5860)\u001b[0m Epoch 8: train loss 0.007327981758862734, accuracy 0.9007029876977153\n",
      "\u001b[2m\u001b[36m(launch_and_fit pid=5860)\u001b[0m Epoch 9: train loss 0.006713008973747492, accuracy 0.9200351493848857\n"
     ]
    },
    {
     "name": "stderr",
     "output_type": "stream",
     "text": [
      "DEBUG flwr 2023-05-09 19:37:01,737 | server.py:232 | fit_round 11 received 2 results and 0 failures\n"
     ]
    },
    {
     "name": "stdout",
     "output_type": "stream",
     "text": [
      "\u001b[2m\u001b[36m(launch_and_fit pid=5860)\u001b[0m Epoch 10: train loss 0.005464011337608099, accuracy 0.9393673110720563\n"
     ]
    },
    {
     "name": "stderr",
     "output_type": "stream",
     "text": [
      "INFO flwr 2023-05-09 19:37:03,840 | server.py:119 | fit progress: (11, 0.015645127633607453, {'accuracy': 0.7914325842696629}, 718.7254955000001)\n",
      "DEBUG flwr 2023-05-09 19:37:03,840 | server.py:168 | evaluate_round 11: strategy sampled 2 clients (out of 4)\n"
     ]
    },
    {
     "name": "stdout",
     "output_type": "stream",
     "text": [
      "SERVER EVAL 0.7914325842696629 0.015645127633607453\n",
      "\u001b[2m\u001b[36m(launch_and_evaluate pid=13508)\u001b[0m [Client 0] evaluate, config: {}\n"
     ]
    },
    {
     "name": "stderr",
     "output_type": "stream",
     "text": [
      "DEBUG flwr 2023-05-09 19:37:12,673 | server.py:182 | evaluate_round 11 received 2 results and 0 failures\n",
      "DEBUG flwr 2023-05-09 19:37:12,674 | server.py:218 | fit_round 12: strategy sampled 2 clients (out of 4)\n"
     ]
    },
    {
     "name": "stdout",
     "output_type": "stream",
     "text": [
      "\u001b[2m\u001b[36m(launch_and_fit pid=17844)\u001b[0m [Client 3] fit, config: {}\n",
      "\u001b[2m\u001b[36m(launch_and_evaluate pid=2156)\u001b[0m [Client 3] fit, config: {}\n",
      "\u001b[2m\u001b[36m(launch_and_fit pid=17844)\u001b[0m Epoch 1: train loss 0.008590561337769032, accuracy 0.8901581722319859\n",
      "\u001b[2m\u001b[36m(launch_and_fit pid=17844)\u001b[0m Epoch 2: train loss 0.007476727943867445, accuracy 0.8980667838312829\n",
      "\u001b[2m\u001b[36m(launch_and_fit pid=17844)\u001b[0m Epoch 3: train loss 0.006908203940838575, accuracy 0.9042179261862917\n",
      "\u001b[2m\u001b[36m(launch_and_fit pid=17844)\u001b[0m Epoch 4: train loss 0.007412477396428585, accuracy 0.9033391915641477\n",
      "\u001b[2m\u001b[36m(launch_and_fit pid=17844)\u001b[0m Epoch 5: train loss 0.008766657672822475, accuracy 0.9182776801405975\n",
      "\u001b[2m\u001b[36m(launch_and_fit pid=17844)\u001b[0m Epoch 6: train loss 0.008165582083165646, accuracy 0.8971880492091389\n",
      "\u001b[2m\u001b[36m(launch_and_fit pid=17844)\u001b[0m Epoch 7: train loss 0.005758445709943771, accuracy 0.929701230228471\n",
      "\u001b[2m\u001b[36m(launch_and_fit pid=17844)\u001b[0m Epoch 8: train loss 0.005905693396925926, accuracy 0.9191564147627417\n",
      "\u001b[2m\u001b[36m(launch_and_fit pid=17844)\u001b[0m Epoch 9: train loss 0.004825151059776545, accuracy 0.9428822495606327\n",
      "\u001b[2m\u001b[36m(launch_and_fit pid=17844)\u001b[0m Epoch 10: train loss 0.00450751930475235, accuracy 0.9463971880492091\n",
      "\u001b[2m\u001b[36m(launch_and_fit pid=12680)\u001b[0m [Client 0] fit, config: {}\n",
      "\u001b[2m\u001b[36m(launch_and_fit pid=12680)\u001b[0m Epoch 1: train loss 0.013272103853523731, accuracy 0.8040421792618629\n",
      "\u001b[2m\u001b[36m(launch_and_fit pid=12680)\u001b[0m Epoch 2: train loss 0.01145714707672596, accuracy 0.8321616871704746\n",
      "\u001b[2m\u001b[36m(launch_and_fit pid=12680)\u001b[0m Epoch 3: train loss 0.010359742678701878, accuracy 0.859402460456942\n",
      "\u001b[2m\u001b[36m(launch_and_fit pid=12680)\u001b[0m Epoch 4: train loss 0.00969110056757927, accuracy 0.8488576449912126\n",
      "\u001b[2m\u001b[36m(launch_and_fit pid=12680)\u001b[0m Epoch 5: train loss 0.009800547733902931, accuracy 0.8734622144112478\n",
      "\u001b[2m\u001b[36m(launch_and_fit pid=12680)\u001b[0m Epoch 6: train loss 0.008939741179347038, accuracy 0.8804920913884007\n",
      "\u001b[2m\u001b[36m(launch_and_fit pid=12680)\u001b[0m Epoch 7: train loss 0.008110354654490948, accuracy 0.8857644991212654\n",
      "\u001b[2m\u001b[36m(launch_and_fit pid=12680)\u001b[0m Epoch 8: train loss 0.007505917456001043, accuracy 0.9077328646748682\n",
      "\u001b[2m\u001b[36m(launch_and_fit pid=12680)\u001b[0m Epoch 9: train loss 0.008096800185739994, accuracy 0.8901581722319859\n"
     ]
    },
    {
     "name": "stderr",
     "output_type": "stream",
     "text": [
      "DEBUG flwr 2023-05-09 19:38:07,855 | server.py:232 | fit_round 12 received 2 results and 0 failures\n"
     ]
    },
    {
     "name": "stdout",
     "output_type": "stream",
     "text": [
      "\u001b[2m\u001b[36m(launch_and_fit pid=12680)\u001b[0m Epoch 10: train loss 0.006855582352727652, accuracy 0.9024604569420035\n"
     ]
    },
    {
     "name": "stderr",
     "output_type": "stream",
     "text": [
      "INFO flwr 2023-05-09 19:38:09,862 | server.py:119 | fit progress: (12, 0.0160303056878404, {'accuracy': 0.7801966292134831}, 784.7470398)\n",
      "DEBUG flwr 2023-05-09 19:38:09,862 | server.py:168 | evaluate_round 12: strategy sampled 2 clients (out of 4)\n"
     ]
    },
    {
     "name": "stdout",
     "output_type": "stream",
     "text": [
      "SERVER EVAL 0.7801966292134831 0.0160303056878404\n",
      "\u001b[2m\u001b[1m\u001b[36m(autoscaler +13m14s)\u001b[0m Tip: use `ray status` to view detailed cluster status. To disable these messages, set RAY_SCHEDULER_EVENTS=0.\n",
      "\u001b[2m\u001b[1m\u001b[33m(autoscaler +13m14s)\u001b[0m Warning: The following resource request cannot be scheduled right now: {'GPU': 1.0, 'CPU': 1.0}. This is likely due to all cluster resources being claimed by actors. Consider creating fewer actors or adding more nodes to this Ray cluster.\n",
      "\u001b[2m\u001b[36m(launch_and_evaluate pid=3708)\u001b[0m [Client 2] evaluate, config: {}\n"
     ]
    },
    {
     "name": "stderr",
     "output_type": "stream",
     "text": [
      "DEBUG flwr 2023-05-09 19:38:18,655 | server.py:182 | evaluate_round 12 received 2 results and 0 failures\n",
      "DEBUG flwr 2023-05-09 19:38:18,655 | server.py:218 | fit_round 13: strategy sampled 2 clients (out of 4)\n"
     ]
    },
    {
     "name": "stdout",
     "output_type": "stream",
     "text": [
      "\u001b[2m\u001b[36m(launch_and_fit pid=3308)\u001b[0m [Client 1] fit, config: {}\n",
      "\u001b[2m\u001b[36m(launch_and_evaluate pid=14560)\u001b[0m [Client 1] fit, config: {}\n",
      "\u001b[2m\u001b[36m(launch_and_fit pid=3308)\u001b[0m Epoch 1: train loss 0.013775086961686611, accuracy 0.8110720562390158\n",
      "\u001b[2m\u001b[36m(launch_and_fit pid=3308)\u001b[0m Epoch 2: train loss 0.012580609880387783, accuracy 0.820738137082601\n",
      "\u001b[2m\u001b[36m(launch_and_fit pid=3308)\u001b[0m Epoch 3: train loss 0.011348797008395195, accuracy 0.851493848857645\n",
      "\u001b[2m\u001b[36m(launch_and_fit pid=3308)\u001b[0m Epoch 4: train loss 0.010888766497373581, accuracy 0.8558875219683656\n",
      "\u001b[2m\u001b[36m(launch_and_fit pid=3308)\u001b[0m Epoch 5: train loss 0.011783340014517307, accuracy 0.8681898066783831\n",
      "\u001b[2m\u001b[36m(launch_and_fit pid=3308)\u001b[0m Epoch 6: train loss 0.009759767912328243, accuracy 0.867311072056239\n",
      "\u001b[2m\u001b[36m(launch_and_fit pid=3308)\u001b[0m Epoch 7: train loss 0.008943110704421997, accuracy 0.875219683655536\n",
      "\u001b[2m\u001b[36m(launch_and_fit pid=3308)\u001b[0m Epoch 8: train loss 0.009153510443866253, accuracy 0.8734622144112478\n",
      "\u001b[2m\u001b[36m(launch_and_fit pid=3308)\u001b[0m Epoch 9: train loss 0.008850978687405586, accuracy 0.8840070298769771\n",
      "\u001b[2m\u001b[36m(launch_and_fit pid=3308)\u001b[0m Epoch 10: train loss 0.007617234718054533, accuracy 0.8892794376098418\n",
      "\u001b[2m\u001b[36m(launch_and_fit pid=15992)\u001b[0m [Client 0] fit, config: {}\n",
      "\u001b[2m\u001b[36m(launch_and_fit pid=15992)\u001b[0m Epoch 1: train loss 0.009787579998373985, accuracy 0.8646748681898067\n",
      "\u001b[2m\u001b[36m(launch_and_fit pid=15992)\u001b[0m Epoch 2: train loss 0.008507192134857178, accuracy 0.8822495606326889\n",
      "\u001b[2m\u001b[36m(launch_and_fit pid=15992)\u001b[0m Epoch 3: train loss 0.007773145567625761, accuracy 0.9024604569420035\n",
      "\u001b[2m\u001b[36m(launch_and_fit pid=15992)\u001b[0m Epoch 4: train loss 0.007262733764946461, accuracy 0.9007029876977153\n",
      "\u001b[2m\u001b[36m(launch_and_fit pid=15992)\u001b[0m Epoch 5: train loss 0.007206013426184654, accuracy 0.8971880492091389\n",
      "\u001b[2m\u001b[36m(launch_and_fit pid=15992)\u001b[0m Epoch 6: train loss 0.006875648163259029, accuracy 0.9042179261862917\n",
      "\u001b[2m\u001b[36m(launch_and_fit pid=15992)\u001b[0m Epoch 7: train loss 0.006869340781122446, accuracy 0.9094903339191565\n",
      "\u001b[2m\u001b[36m(launch_and_fit pid=15992)\u001b[0m Epoch 8: train loss 0.006034724414348602, accuracy 0.9209138840070299\n",
      "\u001b[2m\u001b[36m(launch_and_fit pid=15992)\u001b[0m Epoch 9: train loss 0.012026609852910042, accuracy 0.8980667838312829\n"
     ]
    },
    {
     "name": "stderr",
     "output_type": "stream",
     "text": [
      "DEBUG flwr 2023-05-09 19:39:14,235 | server.py:232 | fit_round 13 received 2 results and 0 failures\n"
     ]
    },
    {
     "name": "stdout",
     "output_type": "stream",
     "text": [
      "\u001b[2m\u001b[36m(launch_and_fit pid=15992)\u001b[0m Epoch 10: train loss 0.009686934761703014, accuracy 0.8734622144112478\n"
     ]
    },
    {
     "name": "stderr",
     "output_type": "stream",
     "text": [
      "INFO flwr 2023-05-09 19:39:16,306 | server.py:119 | fit progress: (13, 0.01596543922225076, {'accuracy': 0.7801966292134831}, 851.1917484999999)\n",
      "DEBUG flwr 2023-05-09 19:39:16,307 | server.py:168 | evaluate_round 13: strategy sampled 2 clients (out of 4)\n"
     ]
    },
    {
     "name": "stdout",
     "output_type": "stream",
     "text": [
      "SERVER EVAL 0.7801966292134831 0.01596543922225076\n",
      "\u001b[2m\u001b[36m(launch_and_evaluate pid=7236)\u001b[0m [Client 3] evaluate, config: {}\n"
     ]
    },
    {
     "name": "stderr",
     "output_type": "stream",
     "text": [
      "DEBUG flwr 2023-05-09 19:39:25,224 | server.py:182 | evaluate_round 13 received 2 results and 0 failures\n",
      "DEBUG flwr 2023-05-09 19:39:25,225 | server.py:218 | fit_round 14: strategy sampled 2 clients (out of 4)\n"
     ]
    },
    {
     "name": "stdout",
     "output_type": "stream",
     "text": [
      "\u001b[2m\u001b[36m(launch_and_fit pid=17064)\u001b[0m [Client 0] fit, config: {}\n",
      "\u001b[2m\u001b[36m(launch_and_evaluate pid=3172)\u001b[0m [Client 0] fit, config: {}\n",
      "\u001b[2m\u001b[36m(launch_and_fit pid=17064)\u001b[0m Epoch 1: train loss 0.008853496983647346, accuracy 0.8866432337434095\n",
      "\u001b[2m\u001b[36m(launch_and_fit pid=17064)\u001b[0m Epoch 2: train loss 0.007256554905325174, accuracy 0.9007029876977153\n",
      "\u001b[2m\u001b[36m(launch_and_fit pid=17064)\u001b[0m Epoch 3: train loss 0.006669135298579931, accuracy 0.9121265377855887\n",
      "\u001b[2m\u001b[36m(launch_and_fit pid=17064)\u001b[0m Epoch 4: train loss 0.005633935332298279, accuracy 0.9261862917398945\n",
      "\u001b[2m\u001b[36m(launch_and_fit pid=17064)\u001b[0m Epoch 5: train loss 0.007025311700999737, accuracy 0.9112478031634447\n",
      "\u001b[2m\u001b[36m(launch_and_fit pid=17064)\u001b[0m Epoch 6: train loss 0.006313251797109842, accuracy 0.9191564147627417\n",
      "\u001b[2m\u001b[36m(launch_and_fit pid=17064)\u001b[0m Epoch 7: train loss 0.006046023685485125, accuracy 0.9279437609841827\n",
      "\u001b[2m\u001b[36m(launch_and_fit pid=17064)\u001b[0m Epoch 8: train loss 0.00505298376083374, accuracy 0.9393673110720563\n",
      "\u001b[2m\u001b[36m(launch_and_fit pid=17064)\u001b[0m Epoch 9: train loss 0.004294140730053186, accuracy 0.9463971880492091\n",
      "\u001b[2m\u001b[36m(launch_and_fit pid=17064)\u001b[0m Epoch 10: train loss 0.00507925171405077, accuracy 0.9261862917398945\n",
      "\u001b[2m\u001b[36m(launch_and_fit pid=4348)\u001b[0m [Client 2] fit, config: {}\n",
      "\u001b[2m\u001b[36m(launch_and_fit pid=4348)\u001b[0m Epoch 1: train loss 0.011048306711018085, accuracy 0.8400702987697716\n",
      "\u001b[2m\u001b[36m(launch_and_fit pid=4348)\u001b[0m Epoch 2: train loss 0.010308858007192612, accuracy 0.8611599297012302\n",
      "\u001b[2m\u001b[36m(launch_and_fit pid=4348)\u001b[0m Epoch 3: train loss 0.009145494550466537, accuracy 0.8743409490333919\n",
      "\u001b[2m\u001b[36m(launch_and_fit pid=4348)\u001b[0m Epoch 4: train loss 0.007026905193924904, accuracy 0.9059753954305799\n",
      "\u001b[2m\u001b[36m(launch_and_fit pid=4348)\u001b[0m Epoch 5: train loss 0.007243632338941097, accuracy 0.8901581722319859\n",
      "\u001b[2m\u001b[36m(launch_and_fit pid=4348)\u001b[0m Epoch 6: train loss 0.006220079958438873, accuracy 0.9077328646748682\n",
      "\u001b[2m\u001b[36m(launch_and_fit pid=4348)\u001b[0m Epoch 7: train loss 0.005925052799284458, accuracy 0.9244288224956063\n",
      "\u001b[2m\u001b[36m(launch_and_fit pid=4348)\u001b[0m Epoch 8: train loss 0.006651462987065315, accuracy 0.9103690685413005\n",
      "\u001b[2m\u001b[36m(launch_and_fit pid=4348)\u001b[0m Epoch 9: train loss 0.006207136902958155, accuracy 0.9138840070298769\n"
     ]
    },
    {
     "name": "stderr",
     "output_type": "stream",
     "text": [
      "DEBUG flwr 2023-05-09 19:40:20,599 | server.py:232 | fit_round 14 received 2 results and 0 failures\n"
     ]
    },
    {
     "name": "stdout",
     "output_type": "stream",
     "text": [
      "\u001b[2m\u001b[36m(launch_and_fit pid=4348)\u001b[0m Epoch 10: train loss 0.004748203791677952, accuracy 0.937609841827768\n"
     ]
    },
    {
     "name": "stderr",
     "output_type": "stream",
     "text": [
      "INFO flwr 2023-05-09 19:40:22,616 | server.py:119 | fit progress: (14, 0.01977883203457413, {'accuracy': 0.7752808988764045}, 917.5010996999999)\n",
      "DEBUG flwr 2023-05-09 19:40:22,616 | server.py:168 | evaluate_round 14: strategy sampled 2 clients (out of 4)\n"
     ]
    },
    {
     "name": "stdout",
     "output_type": "stream",
     "text": [
      "SERVER EVAL 0.7752808988764045 0.01977883203457413\n",
      "\u001b[2m\u001b[36m(launch_and_evaluate pid=16264)\u001b[0m [Client 3] evaluate, config: {}\n"
     ]
    },
    {
     "name": "stderr",
     "output_type": "stream",
     "text": [
      "DEBUG flwr 2023-05-09 19:40:31,516 | server.py:182 | evaluate_round 14 received 2 results and 0 failures\n",
      "DEBUG flwr 2023-05-09 19:40:31,517 | server.py:218 | fit_round 15: strategy sampled 2 clients (out of 4)\n"
     ]
    },
    {
     "name": "stdout",
     "output_type": "stream",
     "text": [
      "\u001b[2m\u001b[36m(launch_and_fit pid=10808)\u001b[0m [Client 3] fit, config: {}\n",
      "\u001b[2m\u001b[36m(launch_and_evaluate pid=14080)\u001b[0m [Client 3] fit, config: {}\n",
      "\u001b[2m\u001b[36m(launch_and_fit pid=10808)\u001b[0m Epoch 1: train loss 0.013017868623137474, accuracy 0.8154657293497364\n",
      "\u001b[2m\u001b[36m(launch_and_fit pid=10808)\u001b[0m Epoch 2: train loss 0.01011557038873434, accuracy 0.8743409490333919\n",
      "\u001b[2m\u001b[36m(launch_and_fit pid=10808)\u001b[0m Epoch 3: train loss 0.009273303672671318, accuracy 0.8796133567662566\n",
      "\u001b[2m\u001b[36m(launch_and_fit pid=10808)\u001b[0m Epoch 4: train loss 0.007171425502747297, accuracy 0.8998242530755711\n",
      "\u001b[2m\u001b[36m(launch_and_fit pid=10808)\u001b[0m Epoch 5: train loss 0.0067474194802343845, accuracy 0.9235500878734623\n",
      "\u001b[2m\u001b[36m(launch_and_fit pid=10808)\u001b[0m Epoch 6: train loss 0.00653833756223321, accuracy 0.9147627416520211\n",
      "\u001b[2m\u001b[36m(launch_and_fit pid=10808)\u001b[0m Epoch 7: train loss 0.006116371136158705, accuracy 0.9191564147627417\n",
      "\u001b[2m\u001b[36m(launch_and_fit pid=10808)\u001b[0m Epoch 8: train loss 0.005327565595507622, accuracy 0.9314586994727593\n",
      "\u001b[2m\u001b[36m(launch_and_fit pid=10808)\u001b[0m Epoch 9: train loss 0.004856089595705271, accuracy 0.9305799648506151\n",
      "\u001b[2m\u001b[36m(launch_and_fit pid=10808)\u001b[0m Epoch 10: train loss 0.005038851872086525, accuracy 0.9411247803163445\n",
      "\u001b[2m\u001b[36m(launch_and_fit pid=19100)\u001b[0m [Client 1] fit, config: {}\n",
      "\u001b[2m\u001b[36m(launch_and_fit pid=19100)\u001b[0m Epoch 1: train loss 0.01369770709425211, accuracy 0.819859402460457\n",
      "\u001b[2m\u001b[36m(launch_and_fit pid=19100)\u001b[0m Epoch 2: train loss 0.010668371804058552, accuracy 0.8427065026362038\n",
      "\u001b[2m\u001b[36m(launch_and_fit pid=19100)\u001b[0m Epoch 3: train loss 0.009607530198991299, accuracy 0.8787346221441125\n",
      "\u001b[2m\u001b[36m(launch_and_fit pid=19100)\u001b[0m Epoch 4: train loss 0.009766926988959312, accuracy 0.8717047451669596\n",
      "\u001b[2m\u001b[36m(launch_and_fit pid=19100)\u001b[0m Epoch 5: train loss 0.009005813859403133, accuracy 0.8699472759226714\n",
      "\u001b[2m\u001b[36m(launch_and_fit pid=19100)\u001b[0m Epoch 6: train loss 0.007941016927361488, accuracy 0.8989455184534271\n",
      "\u001b[2m\u001b[36m(launch_and_fit pid=19100)\u001b[0m Epoch 7: train loss 0.00865588802844286, accuracy 0.8945518453427065\n",
      "\u001b[2m\u001b[36m(launch_and_fit pid=19100)\u001b[0m Epoch 8: train loss 0.007553843315690756, accuracy 0.9094903339191565\n",
      "\u001b[2m\u001b[36m(launch_and_fit pid=19100)\u001b[0m Epoch 9: train loss 0.0066068340092897415, accuracy 0.9112478031634447\n"
     ]
    },
    {
     "name": "stderr",
     "output_type": "stream",
     "text": [
      "DEBUG flwr 2023-05-09 19:41:26,750 | server.py:232 | fit_round 15 received 2 results and 0 failures\n"
     ]
    },
    {
     "name": "stdout",
     "output_type": "stream",
     "text": [
      "\u001b[2m\u001b[36m(launch_and_fit pid=19100)\u001b[0m Epoch 10: train loss 0.006180061027407646, accuracy 0.9200351493848857\n"
     ]
    },
    {
     "name": "stderr",
     "output_type": "stream",
     "text": [
      "INFO flwr 2023-05-09 19:41:28,886 | server.py:119 | fit progress: (15, 0.0165320025296526, {'accuracy': 0.7865168539325843}, 983.7720346000001)\n",
      "DEBUG flwr 2023-05-09 19:41:28,887 | server.py:168 | evaluate_round 15: strategy sampled 2 clients (out of 4)\n"
     ]
    },
    {
     "name": "stdout",
     "output_type": "stream",
     "text": [
      "SERVER EVAL 0.7865168539325843 0.0165320025296526\n",
      "\u001b[2m\u001b[36m(launch_and_evaluate pid=20092)\u001b[0m [Client 3] evaluate, config: {}\n"
     ]
    },
    {
     "name": "stderr",
     "output_type": "stream",
     "text": [
      "DEBUG flwr 2023-05-09 19:41:37,749 | server.py:182 | evaluate_round 15 received 2 results and 0 failures\n",
      "DEBUG flwr 2023-05-09 19:41:37,750 | server.py:218 | fit_round 16: strategy sampled 2 clients (out of 4)\n"
     ]
    },
    {
     "name": "stdout",
     "output_type": "stream",
     "text": [
      "\u001b[2m\u001b[36m(launch_and_fit pid=11196)\u001b[0m [Client 2] fit, config: {}\n",
      "\u001b[2m\u001b[36m(launch_and_evaluate pid=19608)\u001b[0m [Client 2] fit, config: {}\n",
      "\u001b[2m\u001b[36m(launch_and_fit pid=11196)\u001b[0m Epoch 1: train loss 0.009925643913447857, accuracy 0.8664323374340949\n",
      "\u001b[2m\u001b[36m(launch_and_fit pid=11196)\u001b[0m Epoch 2: train loss 0.007600003387778997, accuracy 0.8963093145869947\n",
      "\u001b[2m\u001b[36m(launch_and_fit pid=11196)\u001b[0m Epoch 3: train loss 0.0061699883081018925, accuracy 0.9226713532513181\n",
      "\u001b[2m\u001b[36m(launch_and_fit pid=11196)\u001b[0m Epoch 4: train loss 0.005460027139633894, accuracy 0.9340949033391915\n",
      "\u001b[2m\u001b[36m(launch_and_fit pid=11196)\u001b[0m Epoch 5: train loss 0.00680557731539011, accuracy 0.9209138840070299\n",
      "\u001b[2m\u001b[36m(launch_and_fit pid=11196)\u001b[0m Epoch 6: train loss 0.00557952094823122, accuracy 0.9323374340949033\n",
      "\u001b[2m\u001b[36m(launch_and_fit pid=11196)\u001b[0m Epoch 7: train loss 0.005045170895755291, accuracy 0.929701230228471\n",
      "\u001b[2m\u001b[36m(launch_and_fit pid=11196)\u001b[0m Epoch 8: train loss 0.005001314450055361, accuracy 0.937609841827768\n",
      "\u001b[2m\u001b[36m(launch_and_fit pid=11196)\u001b[0m Epoch 9: train loss 0.005709286779165268, accuracy 0.929701230228471\n",
      "\u001b[2m\u001b[36m(launch_and_fit pid=11196)\u001b[0m Epoch 10: train loss 0.004568738397210836, accuracy 0.9367311072056239\n",
      "\u001b[2m\u001b[36m(launch_and_fit pid=17580)\u001b[0m [Client 0] fit, config: {}\n",
      "\u001b[2m\u001b[36m(launch_and_fit pid=17580)\u001b[0m Epoch 1: train loss 0.008564065210521221, accuracy 0.8760984182776801\n",
      "\u001b[2m\u001b[36m(launch_and_fit pid=17580)\u001b[0m Epoch 2: train loss 0.008024008013308048, accuracy 0.8989455184534271\n",
      "\u001b[2m\u001b[36m(launch_and_fit pid=17580)\u001b[0m Epoch 3: train loss 0.006296985317021608, accuracy 0.9209138840070299\n",
      "\u001b[2m\u001b[36m(launch_and_fit pid=17580)\u001b[0m Epoch 4: train loss 0.008525768294930458, accuracy 0.8989455184534271\n",
      "\u001b[2m\u001b[36m(launch_and_fit pid=17580)\u001b[0m Epoch 5: train loss 0.006479412782937288, accuracy 0.9253075571177505\n",
      "\u001b[2m\u001b[36m(launch_and_fit pid=17580)\u001b[0m Epoch 6: train loss 0.0046887448988854885, accuracy 0.9428822495606327\n",
      "\u001b[2m\u001b[36m(launch_and_fit pid=17580)\u001b[0m Epoch 7: train loss 0.0044922553934156895, accuracy 0.9428822495606327\n",
      "\u001b[2m\u001b[36m(launch_and_fit pid=17580)\u001b[0m Epoch 8: train loss 0.004945516120642424, accuracy 0.9393673110720563\n",
      "\u001b[2m\u001b[36m(launch_and_fit pid=17580)\u001b[0m Epoch 9: train loss 0.0036214622668921947, accuracy 0.9543057996485061\n"
     ]
    },
    {
     "name": "stderr",
     "output_type": "stream",
     "text": [
      "DEBUG flwr 2023-05-09 19:42:33,825 | server.py:232 | fit_round 16 received 2 results and 0 failures\n"
     ]
    },
    {
     "name": "stdout",
     "output_type": "stream",
     "text": [
      "\u001b[2m\u001b[36m(launch_and_fit pid=17580)\u001b[0m Epoch 10: train loss 0.0031389312352985144, accuracy 0.961335676625659\n"
     ]
    },
    {
     "name": "stderr",
     "output_type": "stream",
     "text": [
      "INFO flwr 2023-05-09 19:42:35,824 | server.py:119 | fit progress: (16, 0.021908518423985564, {'accuracy': 0.7914325842696629}, 1050.7097602)\n",
      "DEBUG flwr 2023-05-09 19:42:35,824 | server.py:168 | evaluate_round 16: strategy sampled 2 clients (out of 4)\n"
     ]
    },
    {
     "name": "stdout",
     "output_type": "stream",
     "text": [
      "SERVER EVAL 0.7914325842696629 0.021908518423985564\n",
      "\u001b[2m\u001b[36m(launch_and_evaluate pid=19976)\u001b[0m [Client 1] evaluate, config: {}\n"
     ]
    },
    {
     "name": "stderr",
     "output_type": "stream",
     "text": [
      "DEBUG flwr 2023-05-09 19:42:44,604 | server.py:182 | evaluate_round 16 received 2 results and 0 failures\n",
      "DEBUG flwr 2023-05-09 19:42:44,604 | server.py:218 | fit_round 17: strategy sampled 2 clients (out of 4)\n"
     ]
    },
    {
     "name": "stdout",
     "output_type": "stream",
     "text": [
      "\u001b[2m\u001b[36m(launch_and_fit pid=19844)\u001b[0m [Client 3] fit, config: {}\n",
      "\u001b[2m\u001b[36m(launch_and_evaluate pid=15840)\u001b[0m [Client 3] fit, config: {}\n",
      "\u001b[2m\u001b[36m(launch_and_fit pid=19844)\u001b[0m Epoch 1: train loss 0.009820136241614819, accuracy 0.8717047451669596\n",
      "\u001b[2m\u001b[36m(launch_and_fit pid=19844)\u001b[0m Epoch 2: train loss 0.007948066107928753, accuracy 0.9015817223198594\n",
      "\u001b[2m\u001b[36m(launch_and_fit pid=19844)\u001b[0m Epoch 3: train loss 0.006254018750041723, accuracy 0.9165202108963093\n",
      "\u001b[2m\u001b[36m(launch_and_fit pid=19844)\u001b[0m Epoch 4: train loss 0.00603520730510354, accuracy 0.9270650263620387\n",
      "\u001b[2m\u001b[36m(launch_and_fit pid=19844)\u001b[0m Epoch 5: train loss 0.006332974415272474, accuracy 0.9209138840070299\n",
      "\u001b[2m\u001b[36m(launch_and_fit pid=19844)\u001b[0m Epoch 6: train loss 0.006429038476198912, accuracy 0.9270650263620387\n",
      "\u001b[2m\u001b[36m(launch_and_fit pid=19844)\u001b[0m Epoch 7: train loss 0.007161346729844809, accuracy 0.9191564147627417\n",
      "\u001b[2m\u001b[36m(launch_and_fit pid=19844)\u001b[0m Epoch 8: train loss 0.005362733267247677, accuracy 0.9420035149384886\n",
      "\u001b[2m\u001b[36m(launch_and_fit pid=19844)\u001b[0m Epoch 9: train loss 0.0051992591470479965, accuracy 0.9332161687170475\n",
      "\u001b[2m\u001b[36m(launch_and_fit pid=19844)\u001b[0m Epoch 10: train loss 0.004032697528600693, accuracy 0.9551845342706503\n",
      "\u001b[2m\u001b[36m(launch_and_fit pid=13712)\u001b[0m [Client 0] fit, config: {}\n",
      "\u001b[2m\u001b[36m(launch_and_fit pid=13712)\u001b[0m Epoch 1: train loss 0.007271099835634232, accuracy 0.9042179261862917\n",
      "\u001b[2m\u001b[36m(launch_and_fit pid=13712)\u001b[0m Epoch 2: train loss 0.0048191482201218605, accuracy 0.9367311072056239\n",
      "\u001b[2m\u001b[36m(launch_and_fit pid=13712)\u001b[0m Epoch 3: train loss 0.005399869754910469, accuracy 0.9358523725834798\n",
      "\u001b[2m\u001b[36m(launch_and_fit pid=13712)\u001b[0m Epoch 4: train loss 0.004915405064821243, accuracy 0.9358523725834798\n",
      "\u001b[2m\u001b[36m(launch_and_fit pid=13712)\u001b[0m Epoch 5: train loss 0.00442418921738863, accuracy 0.937609841827768\n",
      "\u001b[2m\u001b[36m(launch_and_fit pid=13712)\u001b[0m Epoch 6: train loss 0.020079560577869415, accuracy 0.9077328646748682\n",
      "\u001b[2m\u001b[36m(launch_and_fit pid=13712)\u001b[0m Epoch 7: train loss 0.0045409477315843105, accuracy 0.9428822495606327\n",
      "\u001b[2m\u001b[36m(launch_and_fit pid=13712)\u001b[0m Epoch 8: train loss 0.00564049044623971, accuracy 0.9437609841827768\n",
      "\u001b[2m\u001b[36m(launch_and_fit pid=13712)\u001b[0m Epoch 9: train loss 0.00482027605175972, accuracy 0.9507908611599297\n"
     ]
    },
    {
     "name": "stderr",
     "output_type": "stream",
     "text": [
      "DEBUG flwr 2023-05-09 19:43:40,072 | server.py:232 | fit_round 17 received 2 results and 0 failures\n"
     ]
    },
    {
     "name": "stdout",
     "output_type": "stream",
     "text": [
      "\u001b[2m\u001b[36m(launch_and_fit pid=13712)\u001b[0m Epoch 10: train loss 0.002912506926804781, accuracy 0.9657293497363796\n"
     ]
    },
    {
     "name": "stderr",
     "output_type": "stream",
     "text": [
      "INFO flwr 2023-05-09 19:43:42,225 | server.py:119 | fit progress: (17, 0.02204766319646092, {'accuracy': 0.7893258426966292}, 1117.1105589)\n",
      "DEBUG flwr 2023-05-09 19:43:42,226 | server.py:168 | evaluate_round 17: strategy sampled 2 clients (out of 4)\n"
     ]
    },
    {
     "name": "stdout",
     "output_type": "stream",
     "text": [
      "SERVER EVAL 0.7893258426966292 0.02204766319646092\n",
      "\u001b[2m\u001b[36m(launch_and_evaluate pid=19040)\u001b[0m [Client 3] evaluate, config: {}\n"
     ]
    },
    {
     "name": "stderr",
     "output_type": "stream",
     "text": [
      "DEBUG flwr 2023-05-09 19:43:50,993 | server.py:182 | evaluate_round 17 received 2 results and 0 failures\n",
      "DEBUG flwr 2023-05-09 19:43:50,994 | server.py:218 | fit_round 18: strategy sampled 2 clients (out of 4)\n"
     ]
    },
    {
     "name": "stdout",
     "output_type": "stream",
     "text": [
      "\u001b[2m\u001b[36m(launch_and_fit pid=5356)\u001b[0m [Client 0] fit, config: {}\n",
      "\u001b[2m\u001b[36m(launch_and_evaluate pid=8112)\u001b[0m [Client 0] fit, config: {}\n",
      "\u001b[2m\u001b[36m(launch_and_fit pid=5356)\u001b[0m Epoch 1: train loss 0.004964960739016533, accuracy 0.9340949033391915\n",
      "\u001b[2m\u001b[36m(launch_and_fit pid=5356)\u001b[0m Epoch 2: train loss 0.005174813326448202, accuracy 0.9332161687170475\n",
      "\u001b[2m\u001b[36m(launch_and_fit pid=5356)\u001b[0m Epoch 3: train loss 0.004169469233602285, accuracy 0.9367311072056239\n",
      "\u001b[2m\u001b[36m(launch_and_fit pid=5356)\u001b[0m Epoch 4: train loss 0.0033135279081761837, accuracy 0.9560632688927944\n",
      "\u001b[2m\u001b[36m(launch_and_fit pid=5356)\u001b[0m Epoch 5: train loss 0.0031815683469176292, accuracy 0.9569420035149385\n",
      "\u001b[2m\u001b[36m(launch_and_fit pid=5356)\u001b[0m Epoch 6: train loss 0.0032904287800192833, accuracy 0.9560632688927944\n",
      "\u001b[2m\u001b[36m(launch_and_fit pid=5356)\u001b[0m Epoch 7: train loss 0.002344756154343486, accuracy 0.976274165202109\n",
      "\u001b[2m\u001b[36m(launch_and_fit pid=5356)\u001b[0m Epoch 8: train loss 0.0164340753108263, accuracy 0.9402460456942003\n",
      "\u001b[2m\u001b[36m(launch_and_fit pid=5356)\u001b[0m Epoch 9: train loss 0.006946040783077478, accuracy 0.9094903339191565\n",
      "\u001b[2m\u001b[36m(launch_and_fit pid=5356)\u001b[0m Epoch 10: train loss 0.006045002490282059, accuracy 0.9367311072056239\n",
      "\u001b[2m\u001b[36m(launch_and_fit pid=8184)\u001b[0m [Client 1] fit, config: {}\n",
      "\u001b[2m\u001b[36m(launch_and_fit pid=8184)\u001b[0m Epoch 1: train loss 0.012650101445615292, accuracy 0.8374340949033392\n",
      "\u001b[2m\u001b[36m(launch_and_fit pid=8184)\u001b[0m Epoch 2: train loss 0.010006365366280079, accuracy 0.8576449912126538\n",
      "\u001b[2m\u001b[36m(launch_and_fit pid=8184)\u001b[0m Epoch 3: train loss 0.008443421684205532, accuracy 0.8892794376098418\n",
      "\u001b[2m\u001b[36m(launch_and_fit pid=8184)\u001b[0m Epoch 4: train loss 0.008376195095479488, accuracy 0.8857644991212654\n",
      "\u001b[2m\u001b[36m(launch_and_fit pid=8184)\u001b[0m Epoch 5: train loss 0.0073792762123048306, accuracy 0.9112478031634447\n",
      "\u001b[2m\u001b[36m(launch_and_fit pid=8184)\u001b[0m Epoch 6: train loss 0.007529993075877428, accuracy 0.9059753954305799\n",
      "\u001b[2m\u001b[36m(launch_and_fit pid=8184)\u001b[0m Epoch 7: train loss 0.006854321341961622, accuracy 0.9094903339191565\n",
      "\u001b[2m\u001b[36m(launch_and_fit pid=8184)\u001b[0m Epoch 8: train loss 0.006346320733428001, accuracy 0.9173989455184535\n",
      "\u001b[2m\u001b[36m(launch_and_fit pid=8184)\u001b[0m Epoch 9: train loss 0.004813965409994125, accuracy 0.9428822495606327\n"
     ]
    },
    {
     "name": "stderr",
     "output_type": "stream",
     "text": [
      "DEBUG flwr 2023-05-09 19:44:46,436 | server.py:232 | fit_round 18 received 2 results and 0 failures\n"
     ]
    },
    {
     "name": "stdout",
     "output_type": "stream",
     "text": [
      "\u001b[2m\u001b[36m(launch_and_fit pid=8184)\u001b[0m Epoch 10: train loss 0.005827972665429115, accuracy 0.9235500878734623\n"
     ]
    },
    {
     "name": "stderr",
     "output_type": "stream",
     "text": [
      "INFO flwr 2023-05-09 19:44:48,469 | server.py:119 | fit progress: (18, 0.022144845508959857, {'accuracy': 0.7752808988764045}, 1183.3550576)\n",
      "DEBUG flwr 2023-05-09 19:44:48,470 | server.py:168 | evaluate_round 18: strategy sampled 2 clients (out of 4)\n"
     ]
    },
    {
     "name": "stdout",
     "output_type": "stream",
     "text": [
      "SERVER EVAL 0.7752808988764045 0.022144845508959857\n",
      "\u001b[2m\u001b[36m(launch_and_evaluate pid=7892)\u001b[0m [Client 0] evaluate, config: {}\n"
     ]
    },
    {
     "name": "stderr",
     "output_type": "stream",
     "text": [
      "DEBUG flwr 2023-05-09 19:44:57,227 | server.py:182 | evaluate_round 18 received 2 results and 0 failures\n",
      "DEBUG flwr 2023-05-09 19:44:57,228 | server.py:218 | fit_round 19: strategy sampled 2 clients (out of 4)\n"
     ]
    },
    {
     "name": "stdout",
     "output_type": "stream",
     "text": [
      "\u001b[2m\u001b[36m(launch_and_fit pid=996)\u001b[0m [Client 2] fit, config: {}\n",
      "\u001b[2m\u001b[36m(launch_and_evaluate pid=10524)\u001b[0m [Client 2] fit, config: {}\n",
      "\u001b[2m\u001b[36m(launch_and_fit pid=996)\u001b[0m Epoch 1: train loss 0.010792444460093975, accuracy 0.867311072056239\n",
      "\u001b[2m\u001b[36m(launch_and_fit pid=996)\u001b[0m Epoch 2: train loss 0.008734825067222118, accuracy 0.8936731107205624\n",
      "\u001b[2m\u001b[36m(launch_and_fit pid=996)\u001b[0m Epoch 3: train loss 0.0067882901057600975, accuracy 0.9182776801405975\n",
      "\u001b[2m\u001b[36m(launch_and_fit pid=996)\u001b[0m Epoch 4: train loss 0.006820218171924353, accuracy 0.9094903339191565\n",
      "\u001b[2m\u001b[36m(launch_and_fit pid=996)\u001b[0m Epoch 5: train loss 0.006652753800153732, accuracy 0.9279437609841827\n",
      "\u001b[2m\u001b[36m(launch_and_fit pid=996)\u001b[0m Epoch 6: train loss 0.005273653659969568, accuracy 0.9332161687170475\n",
      "\u001b[2m\u001b[36m(launch_and_fit pid=996)\u001b[0m Epoch 7: train loss 0.004577705170959234, accuracy 0.945518453427065\n",
      "\u001b[2m\u001b[36m(launch_and_fit pid=996)\u001b[0m Epoch 8: train loss 0.005156147293746471, accuracy 0.9393673110720563\n",
      "\u001b[2m\u001b[36m(launch_and_fit pid=996)\u001b[0m Epoch 9: train loss 0.00448503578081727, accuracy 0.9358523725834798\n",
      "\u001b[2m\u001b[36m(launch_and_fit pid=996)\u001b[0m Epoch 10: train loss 0.004270610865205526, accuracy 0.945518453427065\n",
      "\u001b[2m\u001b[36m(launch_and_fit pid=15896)\u001b[0m [Client 1] fit, config: {}\n",
      "\u001b[2m\u001b[36m(launch_and_fit pid=15896)\u001b[0m Epoch 1: train loss 0.008630355820059776, accuracy 0.8866432337434095\n",
      "\u001b[2m\u001b[36m(launch_and_fit pid=15896)\u001b[0m Epoch 2: train loss 0.007862644270062447, accuracy 0.9033391915641477\n",
      "\u001b[2m\u001b[36m(launch_and_fit pid=15896)\u001b[0m Epoch 3: train loss 0.007443281356245279, accuracy 0.9059753954305799\n",
      "\u001b[2m\u001b[36m(launch_and_fit pid=15896)\u001b[0m Epoch 4: train loss 0.006159929092973471, accuracy 0.9270650263620387\n",
      "\u001b[2m\u001b[36m(launch_and_fit pid=15896)\u001b[0m Epoch 5: train loss 0.006672364193946123, accuracy 0.9270650263620387\n",
      "\u001b[2m\u001b[36m(launch_and_fit pid=15896)\u001b[0m Epoch 6: train loss 0.006322616245597601, accuracy 0.9235500878734623\n",
      "\u001b[2m\u001b[36m(launch_and_fit pid=15896)\u001b[0m Epoch 7: train loss 0.004807499703019857, accuracy 0.9525483304042179\n",
      "\u001b[2m\u001b[36m(launch_and_fit pid=15896)\u001b[0m Epoch 8: train loss 0.004839874804019928, accuracy 0.9358523725834798\n",
      "\u001b[2m\u001b[36m(launch_and_fit pid=15896)\u001b[0m Epoch 9: train loss 0.005195395555347204, accuracy 0.945518453427065\n"
     ]
    },
    {
     "name": "stderr",
     "output_type": "stream",
     "text": [
      "DEBUG flwr 2023-05-09 19:45:52,632 | server.py:232 | fit_round 19 received 2 results and 0 failures\n"
     ]
    },
    {
     "name": "stdout",
     "output_type": "stream",
     "text": [
      "\u001b[2m\u001b[36m(launch_and_fit pid=15896)\u001b[0m Epoch 10: train loss 0.005068186204880476, accuracy 0.9349736379613357\n"
     ]
    },
    {
     "name": "stderr",
     "output_type": "stream",
     "text": [
      "INFO flwr 2023-05-09 19:45:54,709 | server.py:119 | fit progress: (19, 0.01940659869964538, {'accuracy': 0.7844101123595506}, 1249.5941618)\n",
      "DEBUG flwr 2023-05-09 19:45:54,709 | server.py:168 | evaluate_round 19: strategy sampled 2 clients (out of 4)\n"
     ]
    },
    {
     "name": "stdout",
     "output_type": "stream",
     "text": [
      "SERVER EVAL 0.7844101123595506 0.01940659869964538\n",
      "\u001b[2m\u001b[36m(launch_and_evaluate pid=21456)\u001b[0m [Client 2] evaluate, config: {}\n"
     ]
    },
    {
     "name": "stderr",
     "output_type": "stream",
     "text": [
      "DEBUG flwr 2023-05-09 19:46:03,468 | server.py:182 | evaluate_round 19 received 2 results and 0 failures\n",
      "DEBUG flwr 2023-05-09 19:46:03,469 | server.py:218 | fit_round 20: strategy sampled 2 clients (out of 4)\n"
     ]
    },
    {
     "name": "stdout",
     "output_type": "stream",
     "text": [
      "\u001b[2m\u001b[36m(launch_and_fit pid=10908)\u001b[0m [Client 1] fit, config: {}\n",
      "\u001b[2m\u001b[36m(launch_and_evaluate pid=8084)\u001b[0m [Client 1] fit, config: {}\n",
      "\u001b[2m\u001b[36m(launch_and_fit pid=10908)\u001b[0m Epoch 1: train loss 0.005339060444384813, accuracy 0.9279437609841827\n",
      "\u001b[2m\u001b[36m(launch_and_fit pid=10908)\u001b[0m Epoch 2: train loss 0.00467019435018301, accuracy 0.945518453427065\n",
      "\u001b[2m\u001b[36m(launch_and_fit pid=10908)\u001b[0m Epoch 3: train loss 0.004112855531275272, accuracy 0.9490333919156415\n",
      "\u001b[2m\u001b[36m(launch_and_fit pid=10908)\u001b[0m Epoch 4: train loss 0.0034327651374042034, accuracy 0.9586994727592267\n",
      "\u001b[2m\u001b[36m(launch_and_fit pid=10908)\u001b[0m Epoch 5: train loss 0.004854593891650438, accuracy 0.9437609841827768\n",
      "\u001b[2m\u001b[36m(launch_and_fit pid=10908)\u001b[0m Epoch 6: train loss 0.004111074842512608, accuracy 0.9551845342706503\n",
      "\u001b[2m\u001b[36m(launch_and_fit pid=10908)\u001b[0m Epoch 7: train loss 0.01942938193678856, accuracy 0.9270650263620387\n",
      "\u001b[2m\u001b[36m(launch_and_fit pid=10908)\u001b[0m Epoch 8: train loss 0.01310758013278246, accuracy 0.8541300527240774\n",
      "\u001b[2m\u001b[36m(launch_and_fit pid=10908)\u001b[0m Epoch 9: train loss 0.006589603144675493, accuracy 0.9077328646748682\n",
      "\u001b[2m\u001b[36m(launch_and_fit pid=10908)\u001b[0m Epoch 10: train loss 0.005377913359552622, accuracy 0.9402460456942003\n",
      "\u001b[2m\u001b[36m(launch_and_fit pid=17832)\u001b[0m [Client 2] fit, config: {}\n",
      "\u001b[2m\u001b[36m(launch_and_fit pid=17832)\u001b[0m Epoch 1: train loss 0.00630423566326499, accuracy 0.9253075571177505\n",
      "\u001b[2m\u001b[36m(launch_and_fit pid=17832)\u001b[0m Epoch 2: train loss 0.005105779971927404, accuracy 0.9332161687170475\n",
      "\u001b[2m\u001b[36m(launch_and_fit pid=17832)\u001b[0m Epoch 3: train loss 0.00586916645988822, accuracy 0.9411247803163445\n",
      "\u001b[2m\u001b[36m(launch_and_fit pid=17832)\u001b[0m Epoch 4: train loss 0.005857100244611502, accuracy 0.9323374340949033\n",
      "\u001b[2m\u001b[36m(launch_and_fit pid=17832)\u001b[0m Epoch 5: train loss 0.00538300909101963, accuracy 0.9323374340949033\n",
      "\u001b[2m\u001b[36m(launch_and_fit pid=17832)\u001b[0m Epoch 6: train loss 0.004672430455684662, accuracy 0.9490333919156415\n",
      "\u001b[2m\u001b[36m(launch_and_fit pid=17832)\u001b[0m Epoch 7: train loss 0.004662985447794199, accuracy 0.9507908611599297\n",
      "\u001b[2m\u001b[36m(launch_and_fit pid=17832)\u001b[0m Epoch 8: train loss 0.0037608009297400713, accuracy 0.960456942003515\n",
      "\u001b[2m\u001b[36m(launch_and_fit pid=17832)\u001b[0m Epoch 9: train loss 0.0036953806411474943, accuracy 0.9560632688927944\n"
     ]
    },
    {
     "name": "stderr",
     "output_type": "stream",
     "text": [
      "DEBUG flwr 2023-05-09 19:46:58,966 | server.py:232 | fit_round 20 received 2 results and 0 failures\n"
     ]
    },
    {
     "name": "stdout",
     "output_type": "stream",
     "text": [
      "\u001b[2m\u001b[36m(launch_and_fit pid=17832)\u001b[0m Epoch 10: train loss 0.003070423612371087, accuracy 0.9639718804920914\n"
     ]
    },
    {
     "name": "stderr",
     "output_type": "stream",
     "text": [
      "INFO flwr 2023-05-09 19:47:00,921 | server.py:119 | fit progress: (20, 0.02084999999261639, {'accuracy': 0.7780898876404494}, 1315.8071809)\n",
      "DEBUG flwr 2023-05-09 19:47:00,922 | server.py:168 | evaluate_round 20: strategy sampled 2 clients (out of 4)\n"
     ]
    },
    {
     "name": "stdout",
     "output_type": "stream",
     "text": [
      "SERVER EVAL 0.7780898876404494 0.02084999999261639\n",
      "\u001b[2m\u001b[36m(launch_and_evaluate pid=21412)\u001b[0m [Client 1] evaluate, config: {}\n"
     ]
    },
    {
     "name": "stderr",
     "output_type": "stream",
     "text": [
      "DEBUG flwr 2023-05-09 19:47:09,797 | server.py:182 | evaluate_round 20 received 2 results and 0 failures\n",
      "DEBUG flwr 2023-05-09 19:47:09,798 | server.py:218 | fit_round 21: strategy sampled 2 clients (out of 4)\n"
     ]
    },
    {
     "name": "stdout",
     "output_type": "stream",
     "text": [
      "\u001b[2m\u001b[36m(launch_and_fit pid=12356)\u001b[0m [Client 0] fit, config: {}\n",
      "\u001b[2m\u001b[36m(launch_and_evaluate pid=15520)\u001b[0m [Client 0] fit, config: {}\n",
      "\u001b[2m\u001b[36m(launch_and_fit pid=12356)\u001b[0m Epoch 1: train loss 0.007847354747354984, accuracy 0.8936731107205624\n",
      "\u001b[2m\u001b[36m(launch_and_fit pid=12356)\u001b[0m Epoch 2: train loss 0.006543302908539772, accuracy 0.9182776801405975\n",
      "\u001b[2m\u001b[36m(launch_and_fit pid=12356)\u001b[0m Epoch 3: train loss 0.004955516662448645, accuracy 0.9367311072056239\n",
      "\u001b[2m\u001b[36m(launch_and_fit pid=12356)\u001b[0m Epoch 4: train loss 0.004256244748830795, accuracy 0.9516695957820738\n",
      "\u001b[2m\u001b[36m(launch_and_fit pid=12356)\u001b[0m Epoch 5: train loss 0.003634445369243622, accuracy 0.9525483304042179\n",
      "\u001b[2m\u001b[36m(launch_and_fit pid=12356)\u001b[0m Epoch 6: train loss 0.00414326973259449, accuracy 0.9481546572934973\n",
      "\u001b[2m\u001b[36m(launch_and_fit pid=12356)\u001b[0m Epoch 7: train loss 0.0026069353334605694, accuracy 0.9648506151142355\n",
      "\u001b[2m\u001b[36m(launch_and_fit pid=12356)\u001b[0m Epoch 8: train loss 0.004054046235978603, accuracy 0.9648506151142355\n",
      "\u001b[2m\u001b[36m(launch_and_fit pid=12356)\u001b[0m Epoch 9: train loss 0.004243973642587662, accuracy 0.9463971880492091\n",
      "\u001b[2m\u001b[36m(launch_and_fit pid=12356)\u001b[0m Epoch 10: train loss 0.002741181058809161, accuracy 0.9666080843585237\n",
      "\u001b[2m\u001b[36m(launch_and_fit pid=16724)\u001b[0m [Client 2] fit, config: {}\n",
      "\u001b[2m\u001b[36m(launch_and_fit pid=16724)\u001b[0m Epoch 1: train loss 0.00565960630774498, accuracy 0.9340949033391915\n",
      "\u001b[2m\u001b[36m(launch_and_fit pid=16724)\u001b[0m Epoch 2: train loss 0.004862277768552303, accuracy 0.9349736379613357\n",
      "\u001b[2m\u001b[36m(launch_and_fit pid=16724)\u001b[0m Epoch 3: train loss 0.00438171811401844, accuracy 0.9420035149384886\n",
      "\u001b[2m\u001b[36m(launch_and_fit pid=16724)\u001b[0m Epoch 4: train loss 0.004870722535997629, accuracy 0.9428822495606327\n",
      "\u001b[2m\u001b[36m(launch_and_fit pid=16724)\u001b[0m Epoch 5: train loss 0.004183595534414053, accuracy 0.9543057996485061\n",
      "\u001b[2m\u001b[36m(launch_and_fit pid=16724)\u001b[0m Epoch 6: train loss 0.0026920014061033726, accuracy 0.9595782073813708\n",
      "\u001b[2m\u001b[36m(launch_and_fit pid=16724)\u001b[0m Epoch 7: train loss 0.0025820343289524317, accuracy 0.9718804920913884\n",
      "\u001b[2m\u001b[36m(launch_and_fit pid=16724)\u001b[0m Epoch 8: train loss 0.0032274099066853523, accuracy 0.968365553602812\n",
      "\u001b[2m\u001b[36m(launch_and_fit pid=16724)\u001b[0m Epoch 9: train loss 0.0028157574124634266, accuracy 0.961335676625659\n"
     ]
    },
    {
     "name": "stderr",
     "output_type": "stream",
     "text": [
      "DEBUG flwr 2023-05-09 19:48:05,261 | server.py:232 | fit_round 21 received 2 results and 0 failures\n"
     ]
    },
    {
     "name": "stdout",
     "output_type": "stream",
     "text": [
      "\u001b[2m\u001b[36m(launch_and_fit pid=16724)\u001b[0m Epoch 10: train loss 0.002743552206084132, accuracy 0.9674868189806678\n"
     ]
    },
    {
     "name": "stderr",
     "output_type": "stream",
     "text": [
      "INFO flwr 2023-05-09 19:48:07,351 | server.py:119 | fit progress: (21, 0.0246624142883785, {'accuracy': 0.7808988764044944}, 1382.2366706999999)\n",
      "DEBUG flwr 2023-05-09 19:48:07,351 | server.py:168 | evaluate_round 21: strategy sampled 2 clients (out of 4)\n"
     ]
    },
    {
     "name": "stdout",
     "output_type": "stream",
     "text": [
      "SERVER EVAL 0.7808988764044944 0.0246624142883785\n",
      "\u001b[2m\u001b[36m(launch_and_evaluate pid=15340)\u001b[0m [Client 1] evaluate, config: {}\n"
     ]
    },
    {
     "name": "stderr",
     "output_type": "stream",
     "text": [
      "DEBUG flwr 2023-05-09 19:48:16,095 | server.py:182 | evaluate_round 21 received 2 results and 0 failures\n",
      "DEBUG flwr 2023-05-09 19:48:16,096 | server.py:218 | fit_round 22: strategy sampled 2 clients (out of 4)\n"
     ]
    },
    {
     "name": "stdout",
     "output_type": "stream",
     "text": [
      "\u001b[2m\u001b[36m(launch_and_fit pid=2408)\u001b[0m [Client 3] fit, config: {}\n",
      "\u001b[2m\u001b[36m(launch_and_evaluate pid=1784)\u001b[0m [Client 3] fit, config: {}\n",
      "\u001b[2m\u001b[36m(launch_and_fit pid=2408)\u001b[0m Epoch 1: train loss 0.012795832008123398, accuracy 0.8154657293497364\n",
      "\u001b[2m\u001b[36m(launch_and_fit pid=2408)\u001b[0m Epoch 2: train loss 0.009791876189410686, accuracy 0.8708260105448155\n",
      "\u001b[2m\u001b[36m(launch_and_fit pid=2408)\u001b[0m Epoch 3: train loss 0.007502504158765078, accuracy 0.8998242530755711\n",
      "\u001b[2m\u001b[36m(launch_and_fit pid=2408)\u001b[0m Epoch 4: train loss 0.008587217889726162, accuracy 0.8743409490333919\n",
      "\u001b[2m\u001b[36m(launch_and_fit pid=2408)\u001b[0m Epoch 5: train loss 0.006227230187505484, accuracy 0.9209138840070299\n",
      "\u001b[2m\u001b[36m(launch_and_fit pid=2408)\u001b[0m Epoch 6: train loss 0.0054230038076639175, accuracy 0.937609841827768\n",
      "\u001b[2m\u001b[36m(launch_and_fit pid=2408)\u001b[0m Epoch 7: train loss 0.004925365559756756, accuracy 0.9446397188049209\n",
      "\u001b[2m\u001b[36m(launch_and_fit pid=2408)\u001b[0m Epoch 8: train loss 0.004841784480959177, accuracy 0.9428822495606327\n",
      "\u001b[2m\u001b[36m(launch_and_fit pid=2408)\u001b[0m Epoch 9: train loss 0.0050195869989693165, accuracy 0.9358523725834798\n",
      "\u001b[2m\u001b[36m(launch_and_fit pid=2408)\u001b[0m Epoch 10: train loss 0.004588570445775986, accuracy 0.9472759226713533\n",
      "\u001b[2m\u001b[36m(launch_and_fit pid=8640)\u001b[0m [Client 0] fit, config: {}\n",
      "\u001b[2m\u001b[36m(launch_and_fit pid=8640)\u001b[0m Epoch 1: train loss 0.005326990969479084, accuracy 0.9305799648506151\n",
      "\u001b[2m\u001b[36m(launch_and_fit pid=8640)\u001b[0m Epoch 2: train loss 0.005522994790226221, accuracy 0.9437609841827768\n",
      "\u001b[2m\u001b[36m(launch_and_fit pid=8640)\u001b[0m Epoch 3: train loss 0.0035927242133766413, accuracy 0.9551845342706503\n",
      "\u001b[2m\u001b[36m(launch_and_fit pid=8640)\u001b[0m Epoch 4: train loss 0.00312527222558856, accuracy 0.9639718804920914\n",
      "\u001b[2m\u001b[36m(launch_and_fit pid=8640)\u001b[0m Epoch 5: train loss 0.0028245151042938232, accuracy 0.9630931458699473\n",
      "\u001b[2m\u001b[36m(launch_and_fit pid=8640)\u001b[0m Epoch 6: train loss 0.0025593528989702463, accuracy 0.9674868189806678\n",
      "\u001b[2m\u001b[36m(launch_and_fit pid=8640)\u001b[0m Epoch 7: train loss 0.0036451464984565973, accuracy 0.9516695957820738\n",
      "\u001b[2m\u001b[36m(launch_and_fit pid=8640)\u001b[0m Epoch 8: train loss 0.0037258551456034184, accuracy 0.9648506151142355\n",
      "\u001b[2m\u001b[36m(launch_and_fit pid=8640)\u001b[0m Epoch 9: train loss 0.002662260551005602, accuracy 0.9630931458699473\n"
     ]
    },
    {
     "name": "stderr",
     "output_type": "stream",
     "text": [
      "DEBUG flwr 2023-05-09 19:49:11,605 | server.py:232 | fit_round 22 received 2 results and 0 failures\n"
     ]
    },
    {
     "name": "stdout",
     "output_type": "stream",
     "text": [
      "\u001b[2m\u001b[36m(launch_and_fit pid=8640)\u001b[0m Epoch 10: train loss 0.0029220483265817165, accuracy 0.9666080843585237\n"
     ]
    },
    {
     "name": "stderr",
     "output_type": "stream",
     "text": [
      "INFO flwr 2023-05-09 19:49:13,629 | server.py:119 | fit progress: (22, 0.02294234868683172, {'accuracy': 0.7900280898876404}, 1448.5146061)\n",
      "DEBUG flwr 2023-05-09 19:49:13,630 | server.py:168 | evaluate_round 22: strategy sampled 2 clients (out of 4)\n"
     ]
    },
    {
     "name": "stdout",
     "output_type": "stream",
     "text": [
      "SERVER EVAL 0.7900280898876404 0.02294234868683172\n",
      "\u001b[2m\u001b[36m(launch_and_evaluate pid=13512)\u001b[0m [Client 3] evaluate, config: {}\n"
     ]
    },
    {
     "name": "stderr",
     "output_type": "stream",
     "text": [
      "DEBUG flwr 2023-05-09 19:49:22,375 | server.py:182 | evaluate_round 22 received 2 results and 0 failures\n",
      "DEBUG flwr 2023-05-09 19:49:22,376 | server.py:218 | fit_round 23: strategy sampled 2 clients (out of 4)\n"
     ]
    },
    {
     "name": "stdout",
     "output_type": "stream",
     "text": [
      "\u001b[2m\u001b[36m(launch_and_fit pid=14100)\u001b[0m [Client 0] fit, config: {}\n",
      "\u001b[2m\u001b[36m(launch_and_evaluate pid=21144)\u001b[0m [Client 0] fit, config: {}\n",
      "\u001b[2m\u001b[36m(launch_and_fit pid=14100)\u001b[0m Epoch 1: train loss 0.004226229153573513, accuracy 0.9507908611599297\n",
      "\u001b[2m\u001b[36m(launch_and_fit pid=14100)\u001b[0m Epoch 2: train loss 0.0033520362339913845, accuracy 0.9595782073813708\n",
      "\u001b[2m\u001b[36m(launch_and_fit pid=14100)\u001b[0m Epoch 3: train loss 0.003315406385809183, accuracy 0.9666080843585237\n",
      "\u001b[2m\u001b[36m(launch_and_fit pid=14100)\u001b[0m Epoch 4: train loss 0.0024680355563759804, accuracy 0.9736379613356766\n",
      "\u001b[2m\u001b[36m(launch_and_fit pid=14100)\u001b[0m Epoch 5: train loss 0.009749917313456535, accuracy 0.9147627416520211\n",
      "\u001b[2m\u001b[36m(launch_and_fit pid=14100)\u001b[0m Epoch 6: train loss 0.004819600842893124, accuracy 0.9463971880492091\n",
      "\u001b[2m\u001b[36m(launch_and_fit pid=14100)\u001b[0m Epoch 7: train loss 0.0029688156209886074, accuracy 0.9692442882249561\n",
      "\u001b[2m\u001b[36m(launch_and_fit pid=14100)\u001b[0m Epoch 8: train loss 0.0022123600356280804, accuracy 0.9718804920913884\n",
      "\u001b[2m\u001b[36m(launch_and_fit pid=14100)\u001b[0m Epoch 9: train loss 0.0020010604057461023, accuracy 0.9753954305799648\n",
      "\u001b[2m\u001b[36m(launch_and_fit pid=14100)\u001b[0m Epoch 10: train loss 0.0013479565968737006, accuracy 0.9815465729349736\n",
      "\u001b[2m\u001b[36m(launch_and_fit pid=3648)\u001b[0m [Client 3] fit, config: {}\n",
      "\u001b[2m\u001b[36m(launch_and_fit pid=3648)\u001b[0m Epoch 1: train loss 0.006648167502135038, accuracy 0.9217926186291739\n",
      "\u001b[2m\u001b[36m(launch_and_fit pid=3648)\u001b[0m Epoch 2: train loss 0.006386397406458855, accuracy 0.9156414762741653\n",
      "\u001b[2m\u001b[36m(launch_and_fit pid=3648)\u001b[0m Epoch 3: train loss 0.008504513651132584, accuracy 0.9121265377855887\n",
      "\u001b[2m\u001b[36m(launch_and_fit pid=3648)\u001b[0m Epoch 4: train loss 0.005974372383207083, accuracy 0.9235500878734623\n",
      "\u001b[2m\u001b[36m(launch_and_fit pid=3648)\u001b[0m Epoch 5: train loss 0.0044287145137786865, accuracy 0.9446397188049209\n",
      "\u001b[2m\u001b[36m(launch_and_fit pid=3648)\u001b[0m Epoch 6: train loss 0.0034745833836495876, accuracy 0.9586994727592267\n",
      "\u001b[2m\u001b[36m(launch_and_fit pid=3648)\u001b[0m Epoch 7: train loss 0.002972615882754326, accuracy 0.961335676625659\n",
      "\u001b[2m\u001b[36m(launch_and_fit pid=3648)\u001b[0m Epoch 8: train loss 0.002528417855501175, accuracy 0.9789103690685413\n",
      "\u001b[2m\u001b[36m(launch_and_fit pid=3648)\u001b[0m Epoch 9: train loss 0.002877061488106847, accuracy 0.9727592267135325\n"
     ]
    },
    {
     "name": "stderr",
     "output_type": "stream",
     "text": [
      "DEBUG flwr 2023-05-09 19:50:17,516 | server.py:232 | fit_round 23 received 2 results and 0 failures\n"
     ]
    },
    {
     "name": "stdout",
     "output_type": "stream",
     "text": [
      "\u001b[2m\u001b[36m(launch_and_fit pid=3648)\u001b[0m Epoch 10: train loss 0.0025664670392870903, accuracy 0.9657293497363796\n"
     ]
    },
    {
     "name": "stderr",
     "output_type": "stream",
     "text": [
      "INFO flwr 2023-05-09 19:50:19,607 | server.py:119 | fit progress: (23, 0.026029241750058666, {'accuracy': 0.7865168539325843}, 1514.4920313999999)\n",
      "DEBUG flwr 2023-05-09 19:50:19,607 | server.py:168 | evaluate_round 23: strategy sampled 2 clients (out of 4)\n"
     ]
    },
    {
     "name": "stdout",
     "output_type": "stream",
     "text": [
      "SERVER EVAL 0.7865168539325843 0.026029241750058666\n",
      "\u001b[2m\u001b[36m(launch_and_evaluate pid=20512)\u001b[0m [Client 0] evaluate, config: {}\n"
     ]
    },
    {
     "name": "stderr",
     "output_type": "stream",
     "text": [
      "DEBUG flwr 2023-05-09 19:50:28,321 | server.py:182 | evaluate_round 23 received 2 results and 0 failures\n",
      "DEBUG flwr 2023-05-09 19:50:28,322 | server.py:218 | fit_round 24: strategy sampled 2 clients (out of 4)\n"
     ]
    },
    {
     "name": "stdout",
     "output_type": "stream",
     "text": [
      "\u001b[2m\u001b[36m(launch_and_fit pid=11132)\u001b[0m [Client 2] fit, config: {}\n",
      "\u001b[2m\u001b[36m(launch_and_evaluate pid=13088)\u001b[0m [Client 2] fit, config: {}\n",
      "\u001b[2m\u001b[36m(launch_and_fit pid=11132)\u001b[0m Epoch 1: train loss 0.008239097893238068, accuracy 0.9050966608084359\n",
      "\u001b[2m\u001b[36m(launch_and_fit pid=11132)\u001b[0m Epoch 2: train loss 0.006439254153519869, accuracy 0.9261862917398945\n",
      "\u001b[2m\u001b[36m(launch_and_fit pid=11132)\u001b[0m Epoch 3: train loss 0.004952108021825552, accuracy 0.9420035149384886\n",
      "\u001b[2m\u001b[36m(launch_and_fit pid=11132)\u001b[0m Epoch 4: train loss 0.005300506018102169, accuracy 0.9384885764499121\n",
      "\u001b[2m\u001b[36m(launch_and_fit pid=11132)\u001b[0m Epoch 5: train loss 0.005008448380976915, accuracy 0.9393673110720563\n",
      "\u001b[2m\u001b[36m(launch_and_fit pid=11132)\u001b[0m Epoch 6: train loss 0.0040834881365299225, accuracy 0.953427065026362\n",
      "\u001b[2m\u001b[36m(launch_and_fit pid=11132)\u001b[0m Epoch 7: train loss 0.0035240077413618565, accuracy 0.9516695957820738\n",
      "\u001b[2m\u001b[36m(launch_and_fit pid=11132)\u001b[0m Epoch 8: train loss 0.004189153201878071, accuracy 0.9507908611599297\n",
      "\u001b[2m\u001b[36m(launch_and_fit pid=11132)\u001b[0m Epoch 9: train loss 0.007123792078346014, accuracy 0.9393673110720563\n",
      "\u001b[2m\u001b[36m(launch_and_fit pid=11132)\u001b[0m Epoch 10: train loss 0.005465164314955473, accuracy 0.9463971880492091\n",
      "\u001b[2m\u001b[36m(launch_and_fit pid=7132)\u001b[0m [Client 3] fit, config: {}\n",
      "\u001b[2m\u001b[36m(launch_and_fit pid=7132)\u001b[0m Epoch 1: train loss 0.0061662886291742325, accuracy 0.9261862917398945\n",
      "\u001b[2m\u001b[36m(launch_and_fit pid=7132)\u001b[0m Epoch 2: train loss 0.004390840418636799, accuracy 0.945518453427065\n",
      "\u001b[2m\u001b[36m(launch_and_fit pid=7132)\u001b[0m Epoch 3: train loss 0.004301091656088829, accuracy 0.9543057996485061\n",
      "\u001b[2m\u001b[36m(launch_and_fit pid=7132)\u001b[0m Epoch 4: train loss 0.0076357536017894745, accuracy 0.9112478031634447\n",
      "\u001b[2m\u001b[36m(launch_and_fit pid=7132)\u001b[0m Epoch 5: train loss 0.004113682080060244, accuracy 0.9490333919156415\n",
      "\u001b[2m\u001b[36m(launch_and_fit pid=7132)\u001b[0m Epoch 6: train loss 0.003481687977910042, accuracy 0.9578207381370826\n",
      "\u001b[2m\u001b[36m(launch_and_fit pid=7132)\u001b[0m Epoch 7: train loss 0.0026591792702674866, accuracy 0.9692442882249561\n",
      "\u001b[2m\u001b[36m(launch_and_fit pid=7132)\u001b[0m Epoch 8: train loss 0.003142901696264744, accuracy 0.9727592267135325\n",
      "\u001b[2m\u001b[36m(launch_and_fit pid=7132)\u001b[0m Epoch 9: train loss 0.0027714152820408344, accuracy 0.9692442882249561\n"
     ]
    },
    {
     "name": "stderr",
     "output_type": "stream",
     "text": [
      "DEBUG flwr 2023-05-09 19:51:23,599 | server.py:232 | fit_round 24 received 2 results and 0 failures\n"
     ]
    },
    {
     "name": "stdout",
     "output_type": "stream",
     "text": [
      "\u001b[2m\u001b[36m(launch_and_fit pid=7132)\u001b[0m Epoch 10: train loss 0.003480886574834585, accuracy 0.9560632688927944\n"
     ]
    },
    {
     "name": "stderr",
     "output_type": "stream",
     "text": [
      "INFO flwr 2023-05-09 19:51:25,617 | server.py:119 | fit progress: (24, 0.022784202239277324, {'accuracy': 0.7907303370786517}, 1580.5019614999999)\n",
      "DEBUG flwr 2023-05-09 19:51:25,617 | server.py:168 | evaluate_round 24: strategy sampled 2 clients (out of 4)\n"
     ]
    },
    {
     "name": "stdout",
     "output_type": "stream",
     "text": [
      "SERVER EVAL 0.7907303370786517 0.022784202239277324\n",
      "\u001b[2m\u001b[36m(launch_and_evaluate pid=12664)\u001b[0m [Client 3] evaluate, config: {}\n"
     ]
    },
    {
     "name": "stderr",
     "output_type": "stream",
     "text": [
      "DEBUG flwr 2023-05-09 19:51:34,469 | server.py:182 | evaluate_round 24 received 2 results and 0 failures\n",
      "DEBUG flwr 2023-05-09 19:51:34,469 | server.py:218 | fit_round 25: strategy sampled 2 clients (out of 4)\n"
     ]
    },
    {
     "name": "stdout",
     "output_type": "stream",
     "text": [
      "\u001b[2m\u001b[36m(launch_and_fit pid=13864)\u001b[0m [Client 2] fit, config: {}\n",
      "\u001b[2m\u001b[36m(launch_and_evaluate pid=3736)\u001b[0m [Client 2] fit, config: {}\n",
      "\u001b[2m\u001b[36m(launch_and_fit pid=13864)\u001b[0m Epoch 1: train loss 0.005570888984948397, accuracy 0.9288224956063269\n",
      "\u001b[2m\u001b[36m(launch_and_fit pid=13864)\u001b[0m Epoch 2: train loss 0.004150161519646645, accuracy 0.9622144112478032\n",
      "\u001b[2m\u001b[36m(launch_and_fit pid=13864)\u001b[0m Epoch 3: train loss 0.004963431507349014, accuracy 0.9340949033391915\n",
      "\u001b[2m\u001b[36m(launch_and_fit pid=13864)\u001b[0m Epoch 4: train loss 0.005368996877223253, accuracy 0.9428822495606327\n",
      "\u001b[2m\u001b[36m(launch_and_fit pid=13864)\u001b[0m Epoch 5: train loss 0.0028098286129534245, accuracy 0.9674868189806678\n",
      "\u001b[2m\u001b[36m(launch_and_fit pid=13864)\u001b[0m Epoch 6: train loss 0.004203497897833586, accuracy 0.9507908611599297\n",
      "\u001b[2m\u001b[36m(launch_and_fit pid=13864)\u001b[0m Epoch 7: train loss 0.0027921488508582115, accuracy 0.9727592267135325\n",
      "\u001b[2m\u001b[36m(launch_and_fit pid=13864)\u001b[0m Epoch 8: train loss 0.002202599076554179, accuracy 0.9771528998242531\n",
      "\u001b[2m\u001b[36m(launch_and_fit pid=13864)\u001b[0m Epoch 9: train loss 0.0015956300776451826, accuracy 0.9771528998242531\n",
      "\u001b[2m\u001b[36m(launch_and_fit pid=13864)\u001b[0m Epoch 10: train loss 0.001979375956580043, accuracy 0.9780316344463972\n",
      "\u001b[2m\u001b[36m(launch_and_fit pid=19592)\u001b[0m [Client 3] fit, config: {}\n",
      "\u001b[2m\u001b[36m(launch_and_fit pid=19592)\u001b[0m Epoch 1: train loss 0.005675669759511948, accuracy 0.9358523725834798\n",
      "\u001b[2m\u001b[36m(launch_and_fit pid=19592)\u001b[0m Epoch 2: train loss 0.003981345798820257, accuracy 0.9595782073813708\n",
      "\u001b[2m\u001b[36m(launch_and_fit pid=19592)\u001b[0m Epoch 3: train loss 0.002650064881891012, accuracy 0.9692442882249561\n",
      "\u001b[2m\u001b[36m(launch_and_fit pid=19592)\u001b[0m Epoch 4: train loss 0.0035340823233127594, accuracy 0.961335676625659\n",
      "\u001b[2m\u001b[36m(launch_and_fit pid=19592)\u001b[0m Epoch 5: train loss 0.0024513816460967064, accuracy 0.9701230228471002\n",
      "\u001b[2m\u001b[36m(launch_and_fit pid=19592)\u001b[0m Epoch 6: train loss 0.006104795262217522, accuracy 0.9507908611599297\n",
      "\u001b[2m\u001b[36m(launch_and_fit pid=19592)\u001b[0m Epoch 7: train loss 0.00630433252081275, accuracy 0.9393673110720563\n",
      "\u001b[2m\u001b[36m(launch_and_fit pid=19592)\u001b[0m Epoch 8: train loss 0.0038692776579409838, accuracy 0.961335676625659\n",
      "\u001b[2m\u001b[36m(launch_and_fit pid=19592)\u001b[0m Epoch 9: train loss 0.004994841758161783, accuracy 0.9420035149384886\n"
     ]
    },
    {
     "name": "stderr",
     "output_type": "stream",
     "text": [
      "DEBUG flwr 2023-05-09 19:52:29,845 | server.py:232 | fit_round 25 received 2 results and 0 failures\n"
     ]
    },
    {
     "name": "stdout",
     "output_type": "stream",
     "text": [
      "\u001b[2m\u001b[36m(launch_and_fit pid=19592)\u001b[0m Epoch 10: train loss 0.0036713704466819763, accuracy 0.9639718804920914\n"
     ]
    },
    {
     "name": "stderr",
     "output_type": "stream",
     "text": [
      "INFO flwr 2023-05-09 19:52:31,887 | server.py:119 | fit progress: (25, 0.02123982470032623, {'accuracy': 0.7830056179775281}, 1646.7731763)\n",
      "DEBUG flwr 2023-05-09 19:52:31,888 | server.py:168 | evaluate_round 25: strategy sampled 2 clients (out of 4)\n"
     ]
    },
    {
     "name": "stdout",
     "output_type": "stream",
     "text": [
      "SERVER EVAL 0.7830056179775281 0.02123982470032623\n",
      "\u001b[2m\u001b[36m(launch_and_evaluate pid=1760)\u001b[0m [Client 3] evaluate, config: {}\n"
     ]
    },
    {
     "name": "stderr",
     "output_type": "stream",
     "text": [
      "DEBUG flwr 2023-05-09 19:52:40,709 | server.py:182 | evaluate_round 25 received 2 results and 0 failures\n",
      "DEBUG flwr 2023-05-09 19:52:40,709 | server.py:218 | fit_round 26: strategy sampled 2 clients (out of 4)\n"
     ]
    },
    {
     "name": "stdout",
     "output_type": "stream",
     "text": [
      "\u001b[2m\u001b[1m\u001b[33m(autoscaler +27m46s)\u001b[0m Warning: The following resource request cannot be scheduled right now: {'CPU': 1.0, 'GPU': 1.0}. This is likely due to all cluster resources being claimed by actors. Consider creating fewer actors or adding more nodes to this Ray cluster.\n",
      "\u001b[2m\u001b[36m(launch_and_fit pid=14296)\u001b[0m [Client 2] fit, config: {}\n",
      "\u001b[2m\u001b[36m(launch_and_evaluate pid=20312)\u001b[0m [Client 2] fit, config: {}\n",
      "\u001b[2m\u001b[36m(launch_and_fit pid=14296)\u001b[0m Epoch 1: train loss 0.0038445047102868557, accuracy 0.9586994727592267\n",
      "\u001b[2m\u001b[36m(launch_and_fit pid=14296)\u001b[0m Epoch 2: train loss 0.003809142392128706, accuracy 0.9586994727592267\n",
      "\u001b[2m\u001b[36m(launch_and_fit pid=14296)\u001b[0m Epoch 3: train loss 0.003324346849694848, accuracy 0.9622144112478032\n",
      "\u001b[2m\u001b[36m(launch_and_fit pid=14296)\u001b[0m Epoch 4: train loss 0.004068204667419195, accuracy 0.9551845342706503\n",
      "\u001b[2m\u001b[36m(launch_and_fit pid=14296)\u001b[0m Epoch 5: train loss 0.004010188393294811, accuracy 0.9543057996485061\n",
      "\u001b[2m\u001b[36m(launch_and_fit pid=14296)\u001b[0m Epoch 6: train loss 0.0033506248146295547, accuracy 0.9586994727592267\n",
      "\u001b[2m\u001b[36m(launch_and_fit pid=14296)\u001b[0m Epoch 7: train loss 0.0033844970166683197, accuracy 0.9639718804920914\n",
      "\u001b[2m\u001b[36m(launch_and_fit pid=14296)\u001b[0m Epoch 8: train loss 0.0030164276249706745, accuracy 0.9710017574692443\n",
      "\u001b[2m\u001b[36m(launch_and_fit pid=14296)\u001b[0m Epoch 9: train loss 0.002220181515440345, accuracy 0.9797891036906854\n",
      "\u001b[2m\u001b[36m(launch_and_fit pid=14296)\u001b[0m Epoch 10: train loss 0.0024516989942640066, accuracy 0.9789103690685413\n",
      "\u001b[2m\u001b[36m(launch_and_fit pid=21352)\u001b[0m [Client 0] fit, config: {}\n",
      "\u001b[2m\u001b[36m(launch_and_fit pid=21352)\u001b[0m Epoch 1: train loss 0.008305893279612064, accuracy 0.8901581722319859\n",
      "\u001b[2m\u001b[36m(launch_and_fit pid=21352)\u001b[0m Epoch 2: train loss 0.005107339471578598, accuracy 0.929701230228471\n",
      "\u001b[2m\u001b[36m(launch_and_fit pid=21352)\u001b[0m Epoch 3: train loss 0.003674664767459035, accuracy 0.9578207381370826\n",
      "\u001b[2m\u001b[36m(launch_and_fit pid=21352)\u001b[0m Epoch 4: train loss 0.0025797951966524124, accuracy 0.9666080843585237\n",
      "\u001b[2m\u001b[36m(launch_and_fit pid=21352)\u001b[0m Epoch 5: train loss 0.0024539560545235872, accuracy 0.9718804920913884\n",
      "\u001b[2m\u001b[36m(launch_and_fit pid=21352)\u001b[0m Epoch 6: train loss 0.002596354577690363, accuracy 0.9718804920913884\n",
      "\u001b[2m\u001b[36m(launch_and_fit pid=21352)\u001b[0m Epoch 7: train loss 0.002339118393138051, accuracy 0.9815465729349736\n",
      "\u001b[2m\u001b[36m(launch_and_fit pid=21352)\u001b[0m Epoch 8: train loss 0.004848111886531115, accuracy 0.9543057996485061\n",
      "\u001b[2m\u001b[36m(launch_and_fit pid=21352)\u001b[0m Epoch 9: train loss 0.004353524185717106, accuracy 0.9525483304042179\n"
     ]
    },
    {
     "name": "stderr",
     "output_type": "stream",
     "text": [
      "DEBUG flwr 2023-05-09 19:53:36,082 | server.py:232 | fit_round 26 received 2 results and 0 failures\n"
     ]
    },
    {
     "name": "stdout",
     "output_type": "stream",
     "text": [
      "\u001b[2m\u001b[36m(launch_and_fit pid=21352)\u001b[0m Epoch 10: train loss 0.003907374106347561, accuracy 0.9543057996485061\n"
     ]
    },
    {
     "name": "stderr",
     "output_type": "stream",
     "text": [
      "INFO flwr 2023-05-09 19:53:38,101 | server.py:119 | fit progress: (26, 0.022490160616920486, {'accuracy': 0.7823033707865169}, 1712.9874316)\n",
      "DEBUG flwr 2023-05-09 19:53:38,102 | server.py:168 | evaluate_round 26: strategy sampled 2 clients (out of 4)\n"
     ]
    },
    {
     "name": "stdout",
     "output_type": "stream",
     "text": [
      "SERVER EVAL 0.7823033707865169 0.022490160616920486\n",
      "\u001b[2m\u001b[36m(launch_and_evaluate pid=17824)\u001b[0m [Client 3] evaluate, config: {}\n"
     ]
    },
    {
     "name": "stderr",
     "output_type": "stream",
     "text": [
      "DEBUG flwr 2023-05-09 19:53:46,792 | server.py:182 | evaluate_round 26 received 2 results and 0 failures\n",
      "DEBUG flwr 2023-05-09 19:53:46,792 | server.py:218 | fit_round 27: strategy sampled 2 clients (out of 4)\n"
     ]
    },
    {
     "name": "stdout",
     "output_type": "stream",
     "text": [
      "\u001b[2m\u001b[36m(launch_and_fit pid=7504)\u001b[0m [Client 2] fit, config: {}\n",
      "\u001b[2m\u001b[36m(launch_and_evaluate pid=20808)\u001b[0m [Client 2] fit, config: {}\n",
      "\u001b[2m\u001b[36m(launch_and_fit pid=7504)\u001b[0m Epoch 1: train loss 0.004000124521553516, accuracy 0.9516695957820738\n",
      "\u001b[2m\u001b[36m(launch_and_fit pid=7504)\u001b[0m Epoch 2: train loss 0.002866697032004595, accuracy 0.9639718804920914\n",
      "\u001b[2m\u001b[36m(launch_and_fit pid=7504)\u001b[0m Epoch 3: train loss 0.007714253384619951, accuracy 0.968365553602812\n",
      "\u001b[2m\u001b[36m(launch_and_fit pid=7504)\u001b[0m Epoch 4: train loss 0.004762145224958658, accuracy 0.9402460456942003\n",
      "\u001b[2m\u001b[36m(launch_and_fit pid=7504)\u001b[0m Epoch 5: train loss 0.00357019598595798, accuracy 0.9630931458699473\n",
      "\u001b[2m\u001b[36m(launch_and_fit pid=7504)\u001b[0m Epoch 6: train loss 0.004318357445299625, accuracy 0.9578207381370826\n",
      "\u001b[2m\u001b[36m(launch_and_fit pid=7504)\u001b[0m Epoch 7: train loss 0.004139966331422329, accuracy 0.9446397188049209\n",
      "\u001b[2m\u001b[36m(launch_and_fit pid=7504)\u001b[0m Epoch 8: train loss 0.0028804331086575985, accuracy 0.9718804920913884\n",
      "\u001b[2m\u001b[36m(launch_and_fit pid=7504)\u001b[0m Epoch 9: train loss 0.0019344693282619119, accuracy 0.9806678383128296\n",
      "\u001b[2m\u001b[36m(launch_and_fit pid=7504)\u001b[0m Epoch 10: train loss 0.002300622407346964, accuracy 0.9718804920913884\n",
      "\u001b[2m\u001b[36m(launch_and_fit pid=12104)\u001b[0m [Client 3] fit, config: {}\n",
      "\u001b[2m\u001b[36m(launch_and_fit pid=12104)\u001b[0m Epoch 1: train loss 0.00663535762578249, accuracy 0.9121265377855887\n",
      "\u001b[2m\u001b[36m(launch_and_fit pid=12104)\u001b[0m Epoch 2: train loss 0.004974088165909052, accuracy 0.9402460456942003\n",
      "\u001b[2m\u001b[36m(launch_and_fit pid=12104)\u001b[0m Epoch 3: train loss 0.003303585108369589, accuracy 0.9630931458699473\n",
      "\u001b[2m\u001b[36m(launch_and_fit pid=12104)\u001b[0m Epoch 4: train loss 0.0076180193573236465, accuracy 0.9525483304042179\n",
      "\u001b[2m\u001b[36m(launch_and_fit pid=12104)\u001b[0m Epoch 5: train loss 0.007062885910272598, accuracy 0.9200351493848857\n",
      "\u001b[2m\u001b[36m(launch_and_fit pid=12104)\u001b[0m Epoch 6: train loss 0.003273653332144022, accuracy 0.961335676625659\n",
      "\u001b[2m\u001b[36m(launch_and_fit pid=12104)\u001b[0m Epoch 7: train loss 0.0025850082747638226, accuracy 0.9666080843585237\n",
      "\u001b[2m\u001b[36m(launch_and_fit pid=12104)\u001b[0m Epoch 8: train loss 0.001933360006660223, accuracy 0.9815465729349736\n",
      "\u001b[2m\u001b[36m(launch_and_fit pid=12104)\u001b[0m Epoch 9: train loss 0.0021446049213409424, accuracy 0.9771528998242531\n"
     ]
    },
    {
     "name": "stderr",
     "output_type": "stream",
     "text": [
      "DEBUG flwr 2023-05-09 19:54:42,036 | server.py:232 | fit_round 27 received 2 results and 0 failures\n"
     ]
    },
    {
     "name": "stdout",
     "output_type": "stream",
     "text": [
      "\u001b[2m\u001b[36m(launch_and_fit pid=12104)\u001b[0m Epoch 10: train loss 0.001519635901786387, accuracy 0.9859402460456942\n"
     ]
    },
    {
     "name": "stderr",
     "output_type": "stream",
     "text": [
      "INFO flwr 2023-05-09 19:54:44,015 | server.py:119 | fit progress: (27, 0.026037992255532005, {'accuracy': 0.7879213483146067}, 1778.9007239)\n",
      "DEBUG flwr 2023-05-09 19:54:44,016 | server.py:168 | evaluate_round 27: strategy sampled 2 clients (out of 4)\n"
     ]
    },
    {
     "name": "stdout",
     "output_type": "stream",
     "text": [
      "SERVER EVAL 0.7879213483146067 0.026037992255532005\n",
      "\u001b[2m\u001b[36m(launch_and_evaluate pid=3304)\u001b[0m [Client 2] evaluate, config: {}\n"
     ]
    },
    {
     "name": "stderr",
     "output_type": "stream",
     "text": [
      "DEBUG flwr 2023-05-09 19:54:52,902 | server.py:182 | evaluate_round 27 received 2 results and 0 failures\n",
      "DEBUG flwr 2023-05-09 19:54:52,903 | server.py:218 | fit_round 28: strategy sampled 2 clients (out of 4)\n"
     ]
    },
    {
     "name": "stdout",
     "output_type": "stream",
     "text": [
      "\u001b[2m\u001b[36m(launch_and_fit pid=18992)\u001b[0m [Client 2] fit, config: {}\n",
      "\u001b[2m\u001b[36m(launch_and_evaluate pid=8020)\u001b[0m [Client 2] fit, config: {}\n",
      "\u001b[2m\u001b[36m(launch_and_fit pid=18992)\u001b[0m Epoch 1: train loss 0.0025282693095505238, accuracy 0.9701230228471002\n",
      "\u001b[2m\u001b[36m(launch_and_fit pid=18992)\u001b[0m Epoch 2: train loss 0.0042290897108614445, accuracy 0.9657293497363796\n",
      "\u001b[2m\u001b[36m(launch_and_fit pid=18992)\u001b[0m Epoch 3: train loss 0.004467738326638937, accuracy 0.9622144112478032\n",
      "\u001b[2m\u001b[36m(launch_and_fit pid=18992)\u001b[0m Epoch 4: train loss 0.00580904446542263, accuracy 0.9463971880492091\n",
      "\u001b[2m\u001b[36m(launch_and_fit pid=18992)\u001b[0m Epoch 5: train loss 0.004567069001495838, accuracy 0.945518453427065\n",
      "\u001b[2m\u001b[36m(launch_and_fit pid=18992)\u001b[0m Epoch 6: train loss 0.0033872651401907206, accuracy 0.9578207381370826\n",
      "\u001b[2m\u001b[36m(launch_and_fit pid=18992)\u001b[0m Epoch 7: train loss 0.0026436212938278913, accuracy 0.9727592267135325\n",
      "\u001b[2m\u001b[36m(launch_and_fit pid=18992)\u001b[0m Epoch 8: train loss 0.0032958798110485077, accuracy 0.9578207381370826\n",
      "\u001b[2m\u001b[36m(launch_and_fit pid=18992)\u001b[0m Epoch 9: train loss 0.001354407868348062, accuracy 0.9850615114235501\n",
      "\u001b[2m\u001b[36m(launch_and_fit pid=18992)\u001b[0m Epoch 10: train loss 0.0013499497435986996, accuracy 0.9824253075571178\n",
      "\u001b[2m\u001b[36m(launch_and_fit pid=15808)\u001b[0m [Client 1] fit, config: {}\n",
      "\u001b[2m\u001b[36m(launch_and_fit pid=15808)\u001b[0m Epoch 1: train loss 0.013291153125464916, accuracy 0.8418277680140598\n",
      "\u001b[2m\u001b[36m(launch_and_fit pid=15808)\u001b[0m Epoch 2: train loss 0.009915566071867943, accuracy 0.8717047451669596\n",
      "\u001b[2m\u001b[36m(launch_and_fit pid=15808)\u001b[0m Epoch 3: train loss 0.008057758212089539, accuracy 0.8927943760984183\n",
      "\u001b[2m\u001b[36m(launch_and_fit pid=15808)\u001b[0m Epoch 4: train loss 0.007238335441797972, accuracy 0.8998242530755711\n",
      "\u001b[2m\u001b[36m(launch_and_fit pid=15808)\u001b[0m Epoch 5: train loss 0.0065530999563634396, accuracy 0.9138840070298769\n",
      "\u001b[2m\u001b[36m(launch_and_fit pid=15808)\u001b[0m Epoch 6: train loss 0.007886345498263836, accuracy 0.8989455184534271\n",
      "\u001b[2m\u001b[36m(launch_and_fit pid=15808)\u001b[0m Epoch 7: train loss 0.005732792895287275, accuracy 0.9200351493848857\n",
      "\u001b[2m\u001b[36m(launch_and_fit pid=15808)\u001b[0m Epoch 8: train loss 0.0054445466957986355, accuracy 0.9288224956063269\n",
      "\u001b[2m\u001b[36m(launch_and_fit pid=15808)\u001b[0m Epoch 9: train loss 0.004024607129395008, accuracy 0.9560632688927944\n"
     ]
    },
    {
     "name": "stderr",
     "output_type": "stream",
     "text": [
      "DEBUG flwr 2023-05-09 19:55:48,434 | server.py:232 | fit_round 28 received 2 results and 0 failures\n"
     ]
    },
    {
     "name": "stdout",
     "output_type": "stream",
     "text": [
      "\u001b[2m\u001b[36m(launch_and_fit pid=15808)\u001b[0m Epoch 10: train loss 0.005071595776826143, accuracy 0.9420035149384886\n"
     ]
    },
    {
     "name": "stderr",
     "output_type": "stream",
     "text": [
      "INFO flwr 2023-05-09 19:55:50,486 | server.py:119 | fit progress: (28, 0.024035342723089322, {'accuracy': 0.7823033707865169}, 1845.3711925999999)\n",
      "DEBUG flwr 2023-05-09 19:55:50,486 | server.py:168 | evaluate_round 28: strategy sampled 2 clients (out of 4)\n"
     ]
    },
    {
     "name": "stdout",
     "output_type": "stream",
     "text": [
      "SERVER EVAL 0.7823033707865169 0.024035342723089322\n",
      "\u001b[2m\u001b[1m\u001b[33m(autoscaler +30m56s)\u001b[0m Warning: The following resource request cannot be scheduled right now: {'GPU': 1.0, 'CPU': 1.0}. This is likely due to all cluster resources being claimed by actors. Consider creating fewer actors or adding more nodes to this Ray cluster.\n",
      "\u001b[2m\u001b[36m(launch_and_evaluate pid=21392)\u001b[0m [Client 0] evaluate, config: {}\n"
     ]
    },
    {
     "name": "stderr",
     "output_type": "stream",
     "text": [
      "DEBUG flwr 2023-05-09 19:55:59,260 | server.py:182 | evaluate_round 28 received 2 results and 0 failures\n",
      "DEBUG flwr 2023-05-09 19:55:59,261 | server.py:218 | fit_round 29: strategy sampled 2 clients (out of 4)\n"
     ]
    },
    {
     "name": "stdout",
     "output_type": "stream",
     "text": [
      "\u001b[2m\u001b[36m(launch_and_fit pid=19104)\u001b[0m [Client 0] fit, config: {}\n",
      "\u001b[2m\u001b[36m(launch_and_evaluate pid=1444)\u001b[0m [Client 0] fit, config: {}\n",
      "\u001b[2m\u001b[36m(launch_and_fit pid=19104)\u001b[0m Epoch 1: train loss 0.0063853575848042965, accuracy 0.9173989455184535\n",
      "\u001b[2m\u001b[36m(launch_and_fit pid=19104)\u001b[0m Epoch 2: train loss 0.00544267613440752, accuracy 0.9516695957820738\n",
      "\u001b[2m\u001b[36m(launch_and_fit pid=19104)\u001b[0m Epoch 3: train loss 0.003977731801569462, accuracy 0.9525483304042179\n",
      "\u001b[2m\u001b[36m(launch_and_fit pid=19104)\u001b[0m Epoch 4: train loss 0.004750398453325033, accuracy 0.9420035149384886\n",
      "\u001b[2m\u001b[36m(launch_and_fit pid=19104)\u001b[0m Epoch 5: train loss 0.004638622049242258, accuracy 0.9358523725834798\n",
      "\u001b[2m\u001b[36m(launch_and_fit pid=19104)\u001b[0m Epoch 6: train loss 0.003463710192590952, accuracy 0.9569420035149385\n",
      "\u001b[2m\u001b[36m(launch_and_fit pid=19104)\u001b[0m Epoch 7: train loss 0.0023244768381118774, accuracy 0.9727592267135325\n",
      "\u001b[2m\u001b[36m(launch_and_fit pid=19104)\u001b[0m Epoch 8: train loss 0.0019538351334631443, accuracy 0.9780316344463972\n",
      "\u001b[2m\u001b[36m(launch_and_fit pid=19104)\u001b[0m Epoch 9: train loss 0.003408431075513363, accuracy 0.9692442882249561\n",
      "\u001b[2m\u001b[36m(launch_and_fit pid=19104)\u001b[0m Epoch 10: train loss 0.003772168653085828, accuracy 0.9507908611599297\n",
      "\u001b[2m\u001b[36m(launch_and_fit pid=19032)\u001b[0m [Client 3] fit, config: {}\n",
      "\u001b[2m\u001b[36m(launch_and_fit pid=19032)\u001b[0m Epoch 1: train loss 0.008656218647956848, accuracy 0.9059753954305799\n",
      "\u001b[2m\u001b[36m(launch_and_fit pid=19032)\u001b[0m Epoch 2: train loss 0.004280950874090195, accuracy 0.945518453427065\n",
      "\u001b[2m\u001b[36m(launch_and_fit pid=19032)\u001b[0m Epoch 3: train loss 0.0035903803072869778, accuracy 0.9622144112478032\n",
      "\u001b[2m\u001b[36m(launch_and_fit pid=19032)\u001b[0m Epoch 4: train loss 0.004923526663333178, accuracy 0.9463971880492091\n",
      "\u001b[2m\u001b[36m(launch_and_fit pid=19032)\u001b[0m Epoch 5: train loss 0.006726335734128952, accuracy 0.9270650263620387\n",
      "\u001b[2m\u001b[36m(launch_and_fit pid=19032)\u001b[0m Epoch 6: train loss 0.003385711694136262, accuracy 0.953427065026362\n",
      "\u001b[2m\u001b[36m(launch_and_fit pid=19032)\u001b[0m Epoch 7: train loss 0.002599886851385236, accuracy 0.9710017574692443\n",
      "\u001b[2m\u001b[36m(launch_and_fit pid=19032)\u001b[0m Epoch 8: train loss 0.0028799378778785467, accuracy 0.9701230228471002\n",
      "\u001b[2m\u001b[36m(launch_and_fit pid=19032)\u001b[0m Epoch 9: train loss 0.0024669223930686712, accuracy 0.9797891036906854\n"
     ]
    },
    {
     "name": "stderr",
     "output_type": "stream",
     "text": [
      "DEBUG flwr 2023-05-09 19:56:54,568 | server.py:232 | fit_round 29 received 2 results and 0 failures\n"
     ]
    },
    {
     "name": "stdout",
     "output_type": "stream",
     "text": [
      "\u001b[2m\u001b[36m(launch_and_fit pid=19032)\u001b[0m Epoch 10: train loss 0.001974525861442089, accuracy 0.9824253075571178\n"
     ]
    },
    {
     "name": "stderr",
     "output_type": "stream",
     "text": [
      "INFO flwr 2023-05-09 19:56:56,620 | server.py:119 | fit progress: (29, 0.026198741100895942, {'accuracy': 0.776685393258427}, 1911.5057700999998)\n",
      "DEBUG flwr 2023-05-09 19:56:56,621 | server.py:168 | evaluate_round 29: strategy sampled 2 clients (out of 4)\n"
     ]
    },
    {
     "name": "stdout",
     "output_type": "stream",
     "text": [
      "SERVER EVAL 0.776685393258427 0.026198741100895942\n",
      "\u001b[2m\u001b[36m(launch_and_evaluate pid=5532)\u001b[0m [Client 0] evaluate, config: {}\n"
     ]
    },
    {
     "name": "stderr",
     "output_type": "stream",
     "text": [
      "DEBUG flwr 2023-05-09 19:57:05,397 | server.py:182 | evaluate_round 29 received 2 results and 0 failures\n",
      "DEBUG flwr 2023-05-09 19:57:05,397 | server.py:218 | fit_round 30: strategy sampled 2 clients (out of 4)\n"
     ]
    },
    {
     "name": "stdout",
     "output_type": "stream",
     "text": [
      "\u001b[2m\u001b[36m(launch_and_fit pid=10136)\u001b[0m [Client 0] fit, config: {}\n",
      "\u001b[2m\u001b[36m(launch_and_evaluate pid=21452)\u001b[0m [Client 0] fit, config: {}\n",
      "\u001b[2m\u001b[36m(launch_and_fit pid=10136)\u001b[0m Epoch 1: train loss 0.004527586046606302, accuracy 0.9507908611599297\n",
      "\u001b[2m\u001b[36m(launch_and_fit pid=10136)\u001b[0m Epoch 2: train loss 0.0030694121960550547, accuracy 0.9710017574692443\n",
      "\u001b[2m\u001b[36m(launch_and_fit pid=10136)\u001b[0m Epoch 3: train loss 0.00243639899417758, accuracy 0.9771528998242531\n",
      "\u001b[2m\u001b[36m(launch_and_fit pid=10136)\u001b[0m Epoch 4: train loss 0.001900513656437397, accuracy 0.9718804920913884\n",
      "\u001b[2m\u001b[36m(launch_and_fit pid=10136)\u001b[0m Epoch 5: train loss 0.0016548065468668938, accuracy 0.9850615114235501\n",
      "\u001b[2m\u001b[36m(launch_and_fit pid=10136)\u001b[0m Epoch 6: train loss 0.0019364170730113983, accuracy 0.976274165202109\n",
      "\u001b[2m\u001b[36m(launch_and_fit pid=10136)\u001b[0m Epoch 7: train loss 0.003623244585469365, accuracy 0.9569420035149385\n",
      "\u001b[2m\u001b[36m(launch_and_fit pid=10136)\u001b[0m Epoch 8: train loss 0.002069658599793911, accuracy 0.9780316344463972\n",
      "\u001b[2m\u001b[36m(launch_and_fit pid=10136)\u001b[0m Epoch 9: train loss 0.0015874381642788649, accuracy 0.9824253075571178\n",
      "\u001b[2m\u001b[36m(launch_and_fit pid=10136)\u001b[0m Epoch 10: train loss 0.002311496529728174, accuracy 0.9674868189806678\n",
      "\u001b[2m\u001b[36m(launch_and_fit pid=15092)\u001b[0m [Client 3] fit, config: {}\n",
      "\u001b[2m\u001b[36m(launch_and_fit pid=15092)\u001b[0m Epoch 1: train loss 0.0042192148976027966, accuracy 0.9516695957820738\n",
      "\u001b[2m\u001b[36m(launch_and_fit pid=15092)\u001b[0m Epoch 2: train loss 0.0026102096308022738, accuracy 0.9657293497363796\n",
      "\u001b[2m\u001b[36m(launch_and_fit pid=15092)\u001b[0m Epoch 3: train loss 0.036909859627485275, accuracy 0.9261862917398945\n",
      "\u001b[2m\u001b[36m(launch_and_fit pid=15092)\u001b[0m Epoch 4: train loss 0.009034348651766777, accuracy 0.8848857644991213\n",
      "\u001b[2m\u001b[36m(launch_and_fit pid=15092)\u001b[0m Epoch 5: train loss 0.004507328849285841, accuracy 0.9463971880492091\n",
      "\u001b[2m\u001b[36m(launch_and_fit pid=15092)\u001b[0m Epoch 6: train loss 0.0034849210642278194, accuracy 0.9657293497363796\n",
      "\u001b[2m\u001b[36m(launch_and_fit pid=15092)\u001b[0m Epoch 7: train loss 0.0027491545770317316, accuracy 0.9771528998242531\n",
      "\u001b[2m\u001b[36m(launch_and_fit pid=15092)\u001b[0m Epoch 8: train loss 0.0021016988903284073, accuracy 0.9745166959578208\n",
      "\u001b[2m\u001b[36m(launch_and_fit pid=15092)\u001b[0m Epoch 9: train loss 0.0014178212732076645, accuracy 0.9868189806678384\n"
     ]
    },
    {
     "name": "stderr",
     "output_type": "stream",
     "text": [
      "DEBUG flwr 2023-05-09 19:58:00,568 | server.py:232 | fit_round 30 received 2 results and 0 failures\n"
     ]
    },
    {
     "name": "stdout",
     "output_type": "stream",
     "text": [
      "\u001b[2m\u001b[36m(launch_and_fit pid=15092)\u001b[0m Epoch 10: train loss 0.0017656211275607347, accuracy 0.9789103690685413\n"
     ]
    },
    {
     "name": "stderr",
     "output_type": "stream",
     "text": [
      "INFO flwr 2023-05-09 19:58:02,555 | server.py:119 | fit progress: (30, 0.028534224948824877, {'accuracy': 0.7717696629213483}, 1977.4407363)\n",
      "DEBUG flwr 2023-05-09 19:58:02,555 | server.py:168 | evaluate_round 30: strategy sampled 2 clients (out of 4)\n"
     ]
    },
    {
     "name": "stdout",
     "output_type": "stream",
     "text": [
      "SERVER EVAL 0.7717696629213483 0.028534224948824877\n",
      "\u001b[2m\u001b[36m(launch_and_evaluate pid=11820)\u001b[0m [Client 2] evaluate, config: {}\n"
     ]
    },
    {
     "name": "stderr",
     "output_type": "stream",
     "text": [
      "DEBUG flwr 2023-05-09 19:58:11,289 | server.py:182 | evaluate_round 30 received 2 results and 0 failures\n",
      "DEBUG flwr 2023-05-09 19:58:11,289 | server.py:218 | fit_round 31: strategy sampled 2 clients (out of 4)\n"
     ]
    },
    {
     "name": "stdout",
     "output_type": "stream",
     "text": [
      "\u001b[2m\u001b[1m\u001b[33m(autoscaler +33m17s)\u001b[0m Warning: The following resource request cannot be scheduled right now: {'GPU': 1.0, 'CPU': 1.0}. This is likely due to all cluster resources being claimed by actors. Consider creating fewer actors or adding more nodes to this Ray cluster.\n",
      "\u001b[2m\u001b[36m(launch_and_fit pid=19528)\u001b[0m [Client 0] fit, config: {}\n",
      "\u001b[2m\u001b[36m(launch_and_evaluate pid=20192)\u001b[0m [Client 0] fit, config: {}\n",
      "\u001b[2m\u001b[36m(launch_and_fit pid=19528)\u001b[0m Epoch 1: train loss 0.002772774314507842, accuracy 0.9657293497363796\n",
      "\u001b[2m\u001b[36m(launch_and_fit pid=19528)\u001b[0m Epoch 2: train loss 0.0023280882742255926, accuracy 0.9710017574692443\n",
      "\u001b[2m\u001b[36m(launch_and_fit pid=19528)\u001b[0m Epoch 3: train loss 0.01836485043168068, accuracy 0.961335676625659\n",
      "\u001b[2m\u001b[36m(launch_and_fit pid=19528)\u001b[0m Epoch 4: train loss 0.012310593388974667, accuracy 0.8734622144112478\n",
      "\u001b[2m\u001b[36m(launch_and_fit pid=19528)\u001b[0m Epoch 5: train loss 0.005618882365524769, accuracy 0.9253075571177505\n",
      "\u001b[2m\u001b[36m(launch_and_fit pid=19528)\u001b[0m Epoch 6: train loss 0.003122023306787014, accuracy 0.9666080843585237\n",
      "\u001b[2m\u001b[36m(launch_and_fit pid=19528)\u001b[0m Epoch 7: train loss 0.002919301390647888, accuracy 0.9674868189806678\n",
      "\u001b[2m\u001b[36m(launch_and_fit pid=19528)\u001b[0m Epoch 8: train loss 0.0017611930379644036, accuracy 0.9824253075571178\n",
      "\u001b[2m\u001b[36m(launch_and_fit pid=19528)\u001b[0m Epoch 9: train loss 0.0018150436226278543, accuracy 0.984182776801406\n",
      "\u001b[2m\u001b[36m(launch_and_fit pid=19528)\u001b[0m Epoch 10: train loss 0.002171024912968278, accuracy 0.9797891036906854\n",
      "\u001b[2m\u001b[36m(launch_and_fit pid=21148)\u001b[0m [Client 2] fit, config: {}\n",
      "\u001b[2m\u001b[36m(launch_and_fit pid=21148)\u001b[0m Epoch 1: train loss 0.007099241483956575, accuracy 0.9235500878734623\n",
      "\u001b[2m\u001b[36m(launch_and_fit pid=21148)\u001b[0m Epoch 2: train loss 0.004857250023633242, accuracy 0.9437609841827768\n",
      "\u001b[2m\u001b[36m(launch_and_fit pid=21148)\u001b[0m Epoch 3: train loss 0.0037435321137309074, accuracy 0.9657293497363796\n",
      "\u001b[2m\u001b[36m(launch_and_fit pid=21148)\u001b[0m Epoch 4: train loss 0.004397885873913765, accuracy 0.9622144112478032\n",
      "\u001b[2m\u001b[36m(launch_and_fit pid=21148)\u001b[0m Epoch 5: train loss 0.00516178784891963, accuracy 0.9490333919156415\n",
      "\u001b[2m\u001b[36m(launch_and_fit pid=21148)\u001b[0m Epoch 6: train loss 0.0037331602070480585, accuracy 0.9657293497363796\n",
      "\u001b[2m\u001b[36m(launch_and_fit pid=21148)\u001b[0m Epoch 7: train loss 0.004017336294054985, accuracy 0.9578207381370826\n",
      "\u001b[2m\u001b[36m(launch_and_fit pid=21148)\u001b[0m Epoch 8: train loss 0.0024095659609884024, accuracy 0.9771528998242531\n",
      "\u001b[2m\u001b[36m(launch_and_fit pid=21148)\u001b[0m Epoch 9: train loss 0.0024825744330883026, accuracy 0.9736379613356766\n"
     ]
    },
    {
     "name": "stderr",
     "output_type": "stream",
     "text": [
      "DEBUG flwr 2023-05-09 19:59:06,369 | server.py:232 | fit_round 31 received 2 results and 0 failures\n"
     ]
    },
    {
     "name": "stdout",
     "output_type": "stream",
     "text": [
      "\u001b[2m\u001b[36m(launch_and_fit pid=21148)\u001b[0m Epoch 10: train loss 0.0025848629884421825, accuracy 0.9753954305799648\n"
     ]
    },
    {
     "name": "stderr",
     "output_type": "stream",
     "text": [
      "INFO flwr 2023-05-09 19:59:08,434 | server.py:119 | fit progress: (31, 0.034522885006716415, {'accuracy': 0.785814606741573}, 2043.3200751000002)\n",
      "DEBUG flwr 2023-05-09 19:59:08,435 | server.py:168 | evaluate_round 31: strategy sampled 2 clients (out of 4)\n"
     ]
    },
    {
     "name": "stdout",
     "output_type": "stream",
     "text": [
      "SERVER EVAL 0.785814606741573 0.034522885006716415\n",
      "\u001b[2m\u001b[36m(launch_and_evaluate pid=14996)\u001b[0m [Client 3] evaluate, config: {}\n"
     ]
    },
    {
     "name": "stderr",
     "output_type": "stream",
     "text": [
      "DEBUG flwr 2023-05-09 19:59:17,241 | server.py:182 | evaluate_round 31 received 2 results and 0 failures\n",
      "DEBUG flwr 2023-05-09 19:59:17,242 | server.py:218 | fit_round 32: strategy sampled 2 clients (out of 4)\n"
     ]
    },
    {
     "name": "stdout",
     "output_type": "stream",
     "text": [
      "\u001b[2m\u001b[36m(launch_and_fit pid=3956)\u001b[0m [Client 3] fit, config: {}\n",
      "\u001b[2m\u001b[36m(launch_and_evaluate pid=14792)\u001b[0m [Client 3] fit, config: {}\n",
      "\u001b[2m\u001b[36m(launch_and_fit pid=3956)\u001b[0m Epoch 1: train loss 0.008385633118450642, accuracy 0.9042179261862917\n",
      "\u001b[2m\u001b[36m(launch_and_fit pid=3956)\u001b[0m Epoch 2: train loss 0.004834636580199003, accuracy 0.9446397188049209\n",
      "\u001b[2m\u001b[36m(launch_and_fit pid=3956)\u001b[0m Epoch 3: train loss 0.002640587044879794, accuracy 0.9657293497363796\n",
      "\u001b[2m\u001b[36m(launch_and_fit pid=3956)\u001b[0m Epoch 4: train loss 0.0028880673926323652, accuracy 0.9692442882249561\n",
      "\u001b[2m\u001b[36m(launch_and_fit pid=3956)\u001b[0m Epoch 5: train loss 0.003373371670022607, accuracy 0.9648506151142355\n",
      "\u001b[2m\u001b[36m(launch_and_fit pid=3956)\u001b[0m Epoch 6: train loss 0.003471825271844864, accuracy 0.9569420035149385\n",
      "\u001b[2m\u001b[36m(launch_and_fit pid=3956)\u001b[0m Epoch 7: train loss 0.0021521137095987797, accuracy 0.9701230228471002\n",
      "\u001b[2m\u001b[36m(launch_and_fit pid=3956)\u001b[0m Epoch 8: train loss 0.0027419605758041143, accuracy 0.9710017574692443\n",
      "\u001b[2m\u001b[36m(launch_and_fit pid=3956)\u001b[0m Epoch 9: train loss 0.002253455575555563, accuracy 0.9727592267135325\n",
      "\u001b[2m\u001b[36m(launch_and_fit pid=3956)\u001b[0m Epoch 10: train loss 0.0019920466002076864, accuracy 0.9806678383128296\n",
      "\u001b[2m\u001b[36m(launch_and_fit pid=6780)\u001b[0m [Client 2] fit, config: {}\n",
      "\u001b[2m\u001b[36m(launch_and_fit pid=6780)\u001b[0m Epoch 1: train loss 0.004185756202787161, accuracy 0.9595782073813708\n",
      "\u001b[2m\u001b[36m(launch_and_fit pid=6780)\u001b[0m Epoch 2: train loss 0.002317331498488784, accuracy 0.9753954305799648\n",
      "\u001b[2m\u001b[36m(launch_and_fit pid=6780)\u001b[0m Epoch 3: train loss 0.002200672635808587, accuracy 0.9736379613356766\n",
      "\u001b[2m\u001b[36m(launch_and_fit pid=6780)\u001b[0m Epoch 4: train loss 0.0025504021905362606, accuracy 0.9736379613356766\n",
      "\u001b[2m\u001b[36m(launch_and_fit pid=6780)\u001b[0m Epoch 5: train loss 0.003489061491563916, accuracy 0.9639718804920914\n",
      "\u001b[2m\u001b[36m(launch_and_fit pid=6780)\u001b[0m Epoch 6: train loss 0.007177603431046009, accuracy 0.9393673110720563\n",
      "\u001b[2m\u001b[36m(launch_and_fit pid=6780)\u001b[0m Epoch 7: train loss 0.014603044837713242, accuracy 0.8655536028119508\n",
      "\u001b[2m\u001b[36m(launch_and_fit pid=6780)\u001b[0m Epoch 8: train loss 0.0068426975049078465, accuracy 0.9165202108963093\n",
      "\u001b[2m\u001b[36m(launch_and_fit pid=6780)\u001b[0m Epoch 9: train loss 0.0031676460057497025, accuracy 0.9622144112478032\n"
     ]
    },
    {
     "name": "stderr",
     "output_type": "stream",
     "text": [
      "DEBUG flwr 2023-05-09 20:00:12,680 | server.py:232 | fit_round 32 received 2 results and 0 failures\n"
     ]
    },
    {
     "name": "stdout",
     "output_type": "stream",
     "text": [
      "\u001b[2m\u001b[36m(launch_and_fit pid=6780)\u001b[0m Epoch 10: train loss 0.0030352668836712837, accuracy 0.9674868189806678\n"
     ]
    },
    {
     "name": "stderr",
     "output_type": "stream",
     "text": [
      "INFO flwr 2023-05-09 20:00:14,677 | server.py:119 | fit progress: (32, 0.02708770956823163, {'accuracy': 0.785814606741573}, 2109.5629781000002)\n",
      "DEBUG flwr 2023-05-09 20:00:14,678 | server.py:168 | evaluate_round 32: strategy sampled 2 clients (out of 4)\n"
     ]
    },
    {
     "name": "stdout",
     "output_type": "stream",
     "text": [
      "SERVER EVAL 0.785814606741573 0.02708770956823163\n",
      "\u001b[2m\u001b[36m(launch_and_evaluate pid=8272)\u001b[0m [Client 0] evaluate, config: {}\n"
     ]
    },
    {
     "name": "stderr",
     "output_type": "stream",
     "text": [
      "DEBUG flwr 2023-05-09 20:00:23,435 | server.py:182 | evaluate_round 32 received 2 results and 0 failures\n",
      "DEBUG flwr 2023-05-09 20:00:23,436 | server.py:218 | fit_round 33: strategy sampled 2 clients (out of 4)\n"
     ]
    },
    {
     "name": "stdout",
     "output_type": "stream",
     "text": [
      "\u001b[2m\u001b[36m(launch_and_fit pid=20684)\u001b[0m [Client 1] fit, config: {}\n",
      "\u001b[2m\u001b[36m(launch_and_evaluate pid=13228)\u001b[0m [Client 1] fit, config: {}\n",
      "\u001b[2m\u001b[36m(launch_and_fit pid=20684)\u001b[0m Epoch 1: train loss 0.011741320602595806, accuracy 0.8637961335676626\n",
      "\u001b[2m\u001b[36m(launch_and_fit pid=20684)\u001b[0m Epoch 2: train loss 0.008025330491364002, accuracy 0.8980667838312829\n",
      "\u001b[2m\u001b[36m(launch_and_fit pid=20684)\u001b[0m Epoch 3: train loss 0.007796137593686581, accuracy 0.9042179261862917\n",
      "\u001b[2m\u001b[36m(launch_and_fit pid=20684)\u001b[0m Epoch 4: train loss 0.006673493888229132, accuracy 0.9068541300527241\n",
      "\u001b[2m\u001b[36m(launch_and_fit pid=20684)\u001b[0m Epoch 5: train loss 0.006746484432369471, accuracy 0.9086115992970123\n",
      "\u001b[2m\u001b[36m(launch_and_fit pid=20684)\u001b[0m Epoch 6: train loss 0.006477800197899342, accuracy 0.9156414762741653\n",
      "\u001b[2m\u001b[36m(launch_and_fit pid=20684)\u001b[0m Epoch 7: train loss 0.006631120573729277, accuracy 0.9253075571177505\n",
      "\u001b[2m\u001b[36m(launch_and_fit pid=20684)\u001b[0m Epoch 8: train loss 0.004933113232254982, accuracy 0.9411247803163445\n",
      "\u001b[2m\u001b[36m(launch_and_fit pid=20684)\u001b[0m Epoch 9: train loss 0.004948364105075598, accuracy 0.9393673110720563\n",
      "\u001b[2m\u001b[36m(launch_and_fit pid=20684)\u001b[0m Epoch 10: train loss 0.0046702660620212555, accuracy 0.937609841827768\n",
      "\u001b[2m\u001b[36m(launch_and_fit pid=1924)\u001b[0m [Client 0] fit, config: {}\n",
      "\u001b[2m\u001b[36m(launch_and_fit pid=1924)\u001b[0m Epoch 1: train loss 0.006203977856785059, accuracy 0.9305799648506151\n",
      "\u001b[2m\u001b[36m(launch_and_fit pid=1924)\u001b[0m Epoch 2: train loss 0.003189380979165435, accuracy 0.9622144112478032\n",
      "\u001b[2m\u001b[36m(launch_and_fit pid=1924)\u001b[0m Epoch 3: train loss 0.004124746657907963, accuracy 0.9560632688927944\n",
      "\u001b[2m\u001b[36m(launch_and_fit pid=1924)\u001b[0m Epoch 4: train loss 0.002617973368614912, accuracy 0.9727592267135325\n",
      "\u001b[2m\u001b[36m(launch_and_fit pid=1924)\u001b[0m Epoch 5: train loss 0.0018057830166071653, accuracy 0.9789103690685413\n",
      "\u001b[2m\u001b[36m(launch_and_fit pid=1924)\u001b[0m Epoch 6: train loss 0.0014683089684695005, accuracy 0.9859402460456942\n",
      "\u001b[2m\u001b[36m(launch_and_fit pid=1924)\u001b[0m Epoch 7: train loss 0.000665644183754921, accuracy 0.9938488576449912\n",
      "\u001b[2m\u001b[36m(launch_and_fit pid=1924)\u001b[0m Epoch 8: train loss 0.002621043473482132, accuracy 0.9692442882249561\n",
      "\u001b[2m\u001b[36m(launch_and_fit pid=1924)\u001b[0m Epoch 9: train loss 0.0025077529717236757, accuracy 0.9727592267135325\n"
     ]
    },
    {
     "name": "stderr",
     "output_type": "stream",
     "text": [
      "DEBUG flwr 2023-05-09 20:01:18,811 | server.py:232 | fit_round 33 received 2 results and 0 failures\n"
     ]
    },
    {
     "name": "stdout",
     "output_type": "stream",
     "text": [
      "\u001b[2m\u001b[36m(launch_and_fit pid=1924)\u001b[0m Epoch 10: train loss 0.002751918276771903, accuracy 0.968365553602812\n"
     ]
    },
    {
     "name": "stderr",
     "output_type": "stream",
     "text": [
      "INFO flwr 2023-05-09 20:01:20,969 | server.py:119 | fit progress: (33, 0.02675189570199405, {'accuracy': 0.7759831460674157}, 2175.8538416)\n",
      "DEBUG flwr 2023-05-09 20:01:20,969 | server.py:168 | evaluate_round 33: strategy sampled 2 clients (out of 4)\n"
     ]
    },
    {
     "name": "stdout",
     "output_type": "stream",
     "text": [
      "SERVER EVAL 0.7759831460674157 0.02675189570199405\n",
      "\u001b[2m\u001b[1m\u001b[33m(autoscaler +36m27s)\u001b[0m Warning: The following resource request cannot be scheduled right now: {'GPU': 1.0, 'CPU': 1.0}. This is likely due to all cluster resources being claimed by actors. Consider creating fewer actors or adding more nodes to this Ray cluster.\n",
      "\u001b[2m\u001b[36m(launch_and_evaluate pid=11956)\u001b[0m [Client 3] evaluate, config: {}\n"
     ]
    },
    {
     "name": "stderr",
     "output_type": "stream",
     "text": [
      "DEBUG flwr 2023-05-09 20:01:29,777 | server.py:182 | evaluate_round 33 received 2 results and 0 failures\n",
      "DEBUG flwr 2023-05-09 20:01:29,778 | server.py:218 | fit_round 34: strategy sampled 2 clients (out of 4)\n"
     ]
    },
    {
     "name": "stdout",
     "output_type": "stream",
     "text": [
      "\u001b[2m\u001b[36m(launch_and_fit pid=10164)\u001b[0m [Client 2] fit, config: {}\n",
      "\u001b[2m\u001b[36m(launch_and_evaluate pid=17072)\u001b[0m [Client 2] fit, config: {}\n",
      "\u001b[2m\u001b[36m(launch_and_fit pid=10164)\u001b[0m Epoch 1: train loss 0.005155988037586212, accuracy 0.9411247803163445\n",
      "\u001b[2m\u001b[36m(launch_and_fit pid=10164)\u001b[0m Epoch 2: train loss 0.003593002911657095, accuracy 0.960456942003515\n",
      "\u001b[2m\u001b[36m(launch_and_fit pid=10164)\u001b[0m Epoch 3: train loss 0.001962595386430621, accuracy 0.9797891036906854\n",
      "\u001b[2m\u001b[36m(launch_and_fit pid=10164)\u001b[0m Epoch 4: train loss 0.0030968154314905405, accuracy 0.9674868189806678\n",
      "\u001b[2m\u001b[36m(launch_and_fit pid=10164)\u001b[0m Epoch 5: train loss 0.0043488191440701485, accuracy 0.9578207381370826\n",
      "\u001b[2m\u001b[36m(launch_and_fit pid=10164)\u001b[0m Epoch 6: train loss 0.006639603991061449, accuracy 0.9349736379613357\n",
      "\u001b[2m\u001b[36m(launch_and_fit pid=10164)\u001b[0m Epoch 7: train loss 0.0031750977504998446, accuracy 0.9639718804920914\n",
      "\u001b[2m\u001b[36m(launch_and_fit pid=10164)\u001b[0m Epoch 8: train loss 0.0031395647674798965, accuracy 0.968365553602812\n",
      "\u001b[2m\u001b[36m(launch_and_fit pid=10164)\u001b[0m Epoch 9: train loss 0.0021226126700639725, accuracy 0.9736379613356766\n",
      "\u001b[2m\u001b[36m(launch_and_fit pid=10164)\u001b[0m Epoch 10: train loss 0.0015564239583909512, accuracy 0.9833040421792618\n",
      "\u001b[2m\u001b[36m(launch_and_fit pid=8944)\u001b[0m [Client 3] fit, config: {}\n",
      "\u001b[2m\u001b[36m(launch_and_fit pid=8944)\u001b[0m Epoch 1: train loss 0.005220821127295494, accuracy 0.9270650263620387\n",
      "\u001b[2m\u001b[36m(launch_and_fit pid=8944)\u001b[0m Epoch 2: train loss 0.003244704334065318, accuracy 0.9674868189806678\n",
      "\u001b[2m\u001b[36m(launch_and_fit pid=8944)\u001b[0m Epoch 3: train loss 0.002292806515470147, accuracy 0.9780316344463972\n",
      "\u001b[2m\u001b[36m(launch_and_fit pid=8944)\u001b[0m Epoch 4: train loss 0.0031136320903897285, accuracy 0.9622144112478032\n",
      "\u001b[2m\u001b[36m(launch_and_fit pid=8944)\u001b[0m Epoch 5: train loss 0.005240646656602621, accuracy 0.9446397188049209\n",
      "\u001b[2m\u001b[36m(launch_and_fit pid=8944)\u001b[0m Epoch 6: train loss 0.008693093433976173, accuracy 0.8892794376098418\n",
      "\u001b[2m\u001b[36m(launch_and_fit pid=8944)\u001b[0m Epoch 7: train loss 0.009532303549349308, accuracy 0.8743409490333919\n",
      "\u001b[2m\u001b[36m(launch_and_fit pid=8944)\u001b[0m Epoch 8: train loss 0.005001735407859087, accuracy 0.9402460456942003\n",
      "\u001b[2m\u001b[36m(launch_and_fit pid=8944)\u001b[0m Epoch 9: train loss 0.003432478057220578, accuracy 0.9639718804920914\n"
     ]
    },
    {
     "name": "stderr",
     "output_type": "stream",
     "text": [
      "DEBUG flwr 2023-05-09 20:02:25,048 | server.py:232 | fit_round 34 received 2 results and 0 failures\n"
     ]
    },
    {
     "name": "stdout",
     "output_type": "stream",
     "text": [
      "\u001b[2m\u001b[36m(launch_and_fit pid=8944)\u001b[0m Epoch 10: train loss 0.0036440130788832903, accuracy 0.9692442882249561\n"
     ]
    },
    {
     "name": "stderr",
     "output_type": "stream",
     "text": [
      "INFO flwr 2023-05-09 20:02:27,099 | server.py:119 | fit progress: (34, 0.02489372884352388, {'accuracy': 0.7851123595505618}, 2241.9843171)\n",
      "DEBUG flwr 2023-05-09 20:02:27,100 | server.py:168 | evaluate_round 34: strategy sampled 2 clients (out of 4)\n"
     ]
    },
    {
     "name": "stdout",
     "output_type": "stream",
     "text": [
      "SERVER EVAL 0.7851123595505618 0.02489372884352388\n",
      "\u001b[2m\u001b[36m(launch_and_evaluate pid=4124)\u001b[0m [Client 2] evaluate, config: {}\n"
     ]
    },
    {
     "name": "stderr",
     "output_type": "stream",
     "text": [
      "DEBUG flwr 2023-05-09 20:02:36,046 | server.py:182 | evaluate_round 34 received 2 results and 0 failures\n",
      "DEBUG flwr 2023-05-09 20:02:36,046 | server.py:218 | fit_round 35: strategy sampled 2 clients (out of 4)\n"
     ]
    },
    {
     "name": "stdout",
     "output_type": "stream",
     "text": [
      "\u001b[2m\u001b[36m(launch_and_fit pid=13996)\u001b[0m [Client 2] fit, config: {}\n",
      "\u001b[2m\u001b[36m(launch_and_evaluate pid=7508)\u001b[0m [Client 2] fit, config: {}\n",
      "\u001b[2m\u001b[36m(launch_and_fit pid=13996)\u001b[0m Epoch 1: train loss 0.002565031172707677, accuracy 0.9701230228471002\n",
      "\u001b[2m\u001b[36m(launch_and_fit pid=13996)\u001b[0m Epoch 2: train loss 0.004167934413999319, accuracy 0.9622144112478032\n",
      "\u001b[2m\u001b[36m(launch_and_fit pid=13996)\u001b[0m Epoch 3: train loss 0.0022096445318311453, accuracy 0.9692442882249561\n",
      "\u001b[2m\u001b[36m(launch_and_fit pid=13996)\u001b[0m Epoch 4: train loss 0.002062353538349271, accuracy 0.9771528998242531\n",
      "\u001b[2m\u001b[36m(launch_and_fit pid=13996)\u001b[0m Epoch 5: train loss 0.002896443009376526, accuracy 0.9692442882249561\n",
      "\u001b[2m\u001b[36m(launch_and_fit pid=13996)\u001b[0m Epoch 6: train loss 0.004703809507191181, accuracy 0.9516695957820738\n",
      "\u001b[2m\u001b[36m(launch_and_fit pid=13996)\u001b[0m Epoch 7: train loss 0.004880764987319708, accuracy 0.9437609841827768\n",
      "\u001b[2m\u001b[36m(launch_and_fit pid=13996)\u001b[0m Epoch 8: train loss 0.00439643207937479, accuracy 0.9525483304042179\n",
      "\u001b[2m\u001b[36m(launch_and_fit pid=13996)\u001b[0m Epoch 9: train loss 0.004832299426198006, accuracy 0.9507908611599297\n",
      "\u001b[2m\u001b[36m(launch_and_fit pid=13996)\u001b[0m Epoch 10: train loss 0.0034006847999989986, accuracy 0.9701230228471002\n",
      "\u001b[2m\u001b[36m(launch_and_fit pid=3636)\u001b[0m [Client 3] fit, config: {}\n",
      "\u001b[2m\u001b[36m(launch_and_fit pid=3636)\u001b[0m Epoch 1: train loss 0.003705944400280714, accuracy 0.953427065026362\n",
      "\u001b[2m\u001b[36m(launch_and_fit pid=3636)\u001b[0m Epoch 2: train loss 0.0027483387384563684, accuracy 0.9745166959578208\n",
      "\u001b[2m\u001b[36m(launch_and_fit pid=3636)\u001b[0m Epoch 3: train loss 0.002513500861823559, accuracy 0.9657293497363796\n",
      "\u001b[2m\u001b[36m(launch_and_fit pid=3636)\u001b[0m Epoch 4: train loss 0.0037163225933909416, accuracy 0.960456942003515\n",
      "\u001b[2m\u001b[36m(launch_and_fit pid=3636)\u001b[0m Epoch 5: train loss 0.0028781206347048283, accuracy 0.9622144112478032\n",
      "\u001b[2m\u001b[36m(launch_and_fit pid=3636)\u001b[0m Epoch 6: train loss 0.002791594248265028, accuracy 0.9736379613356766\n",
      "\u001b[2m\u001b[36m(launch_and_fit pid=3636)\u001b[0m Epoch 7: train loss 0.011457398533821106, accuracy 0.9384885764499121\n",
      "\u001b[2m\u001b[36m(launch_and_fit pid=3636)\u001b[0m Epoch 8: train loss 0.007345824036747217, accuracy 0.9086115992970123\n",
      "\u001b[2m\u001b[36m(launch_and_fit pid=3636)\u001b[0m Epoch 9: train loss 0.005042143631726503, accuracy 0.9481546572934973\n"
     ]
    },
    {
     "name": "stderr",
     "output_type": "stream",
     "text": [
      "DEBUG flwr 2023-05-09 20:03:31,267 | server.py:232 | fit_round 35 received 2 results and 0 failures\n"
     ]
    },
    {
     "name": "stdout",
     "output_type": "stream",
     "text": [
      "\u001b[2m\u001b[36m(launch_and_fit pid=3636)\u001b[0m Epoch 10: train loss 0.0037568784318864346, accuracy 0.9727592267135325\n"
     ]
    },
    {
     "name": "stderr",
     "output_type": "stream",
     "text": [
      "INFO flwr 2023-05-09 20:03:33,415 | server.py:119 | fit progress: (35, 0.022382222000886215, {'accuracy': 0.7717696629213483}, 2308.3003534)\n",
      "DEBUG flwr 2023-05-09 20:03:33,415 | server.py:168 | evaluate_round 35: strategy sampled 2 clients (out of 4)\n"
     ]
    },
    {
     "name": "stdout",
     "output_type": "stream",
     "text": [
      "SERVER EVAL 0.7717696629213483 0.022382222000886215\n",
      "\u001b[2m\u001b[36m(launch_and_evaluate pid=17616)\u001b[0m [Client 3] evaluate, config: {}\n"
     ]
    },
    {
     "name": "stderr",
     "output_type": "stream",
     "text": [
      "DEBUG flwr 2023-05-09 20:03:42,224 | server.py:182 | evaluate_round 35 received 2 results and 0 failures\n",
      "DEBUG flwr 2023-05-09 20:03:42,225 | server.py:218 | fit_round 36: strategy sampled 2 clients (out of 4)\n"
     ]
    },
    {
     "name": "stdout",
     "output_type": "stream",
     "text": [
      "\u001b[2m\u001b[36m(launch_and_fit pid=20596)\u001b[0m [Client 1] fit, config: {}\n",
      "\u001b[2m\u001b[36m(launch_and_evaluate pid=7380)\u001b[0m [Client 1] fit, config: {}\n",
      "\u001b[2m\u001b[36m(launch_and_fit pid=20596)\u001b[0m Epoch 1: train loss 0.021113073453307152, accuracy 0.8347978910369068\n",
      "\u001b[2m\u001b[36m(launch_and_fit pid=20596)\u001b[0m Epoch 2: train loss 0.008945610374212265, accuracy 0.8743409490333919\n",
      "\u001b[2m\u001b[36m(launch_and_fit pid=20596)\u001b[0m Epoch 3: train loss 0.007691302802413702, accuracy 0.8980667838312829\n",
      "\u001b[2m\u001b[36m(launch_and_fit pid=20596)\u001b[0m Epoch 4: train loss 0.005446810275316238, accuracy 0.9314586994727593\n",
      "\u001b[2m\u001b[36m(launch_and_fit pid=20596)\u001b[0m Epoch 5: train loss 0.005416843108832836, accuracy 0.9367311072056239\n",
      "\u001b[2m\u001b[36m(launch_and_fit pid=20596)\u001b[0m Epoch 6: train loss 0.004328051581978798, accuracy 0.9463971880492091\n",
      "\u001b[2m\u001b[36m(launch_and_fit pid=20596)\u001b[0m Epoch 7: train loss 0.0047050463035702705, accuracy 0.945518453427065\n",
      "\u001b[2m\u001b[36m(launch_and_fit pid=20596)\u001b[0m Epoch 8: train loss 0.004573138430714607, accuracy 0.9420035149384886\n",
      "\u001b[2m\u001b[36m(launch_and_fit pid=20596)\u001b[0m Epoch 9: train loss 0.0029269957449287176, accuracy 0.960456942003515\n",
      "\u001b[2m\u001b[36m(launch_and_fit pid=20596)\u001b[0m Epoch 10: train loss 0.004079744685441256, accuracy 0.9437609841827768\n",
      "\u001b[2m\u001b[36m(launch_and_fit pid=15104)\u001b[0m [Client 3] fit, config: {}\n",
      "\u001b[2m\u001b[36m(launch_and_fit pid=15104)\u001b[0m Epoch 1: train loss 0.02162805199623108, accuracy 0.9516695957820738\n",
      "\u001b[2m\u001b[36m(launch_and_fit pid=15104)\u001b[0m Epoch 2: train loss 0.003257381496950984, accuracy 0.9516695957820738\n",
      "\u001b[2m\u001b[36m(launch_and_fit pid=15104)\u001b[0m Epoch 3: train loss 0.002573984209448099, accuracy 0.9727592267135325\n",
      "\u001b[2m\u001b[36m(launch_and_fit pid=15104)\u001b[0m Epoch 4: train loss 0.0023534067440778017, accuracy 0.9753954305799648\n",
      "\u001b[2m\u001b[36m(launch_and_fit pid=15104)\u001b[0m Epoch 5: train loss 0.0015703028766438365, accuracy 0.984182776801406\n",
      "\u001b[2m\u001b[36m(launch_and_fit pid=15104)\u001b[0m Epoch 6: train loss 0.0025039645843207836, accuracy 0.9727592267135325\n",
      "\u001b[2m\u001b[36m(launch_and_fit pid=15104)\u001b[0m Epoch 7: train loss 0.0014746137894690037, accuracy 0.9859402460456942\n",
      "\u001b[2m\u001b[36m(launch_and_fit pid=15104)\u001b[0m Epoch 8: train loss 0.0026148802135139704, accuracy 0.9824253075571178\n",
      "\u001b[2m\u001b[36m(launch_and_fit pid=15104)\u001b[0m Epoch 9: train loss 0.002160544041544199, accuracy 0.9718804920913884\n"
     ]
    },
    {
     "name": "stderr",
     "output_type": "stream",
     "text": [
      "DEBUG flwr 2023-05-09 20:04:37,514 | server.py:232 | fit_round 36 received 2 results and 0 failures\n"
     ]
    },
    {
     "name": "stdout",
     "output_type": "stream",
     "text": [
      "\u001b[2m\u001b[36m(launch_and_fit pid=15104)\u001b[0m Epoch 10: train loss 0.0009723918628878891, accuracy 0.9903339191564148\n"
     ]
    },
    {
     "name": "stderr",
     "output_type": "stream",
     "text": [
      "INFO flwr 2023-05-09 20:04:39,611 | server.py:119 | fit progress: (36, 0.02878971803891525, {'accuracy': 0.7640449438202247}, 2374.4968567)\n",
      "DEBUG flwr 2023-05-09 20:04:39,611 | server.py:168 | evaluate_round 36: strategy sampled 2 clients (out of 4)\n"
     ]
    },
    {
     "name": "stdout",
     "output_type": "stream",
     "text": [
      "SERVER EVAL 0.7640449438202247 0.02878971803891525\n",
      "\u001b[2m\u001b[36m(launch_and_evaluate pid=4044)\u001b[0m [Client 0] evaluate, config: {}\n"
     ]
    },
    {
     "name": "stderr",
     "output_type": "stream",
     "text": [
      "DEBUG flwr 2023-05-09 20:04:48,565 | server.py:182 | evaluate_round 36 received 2 results and 0 failures\n",
      "DEBUG flwr 2023-05-09 20:04:48,566 | server.py:218 | fit_round 37: strategy sampled 2 clients (out of 4)\n"
     ]
    },
    {
     "name": "stdout",
     "output_type": "stream",
     "text": [
      "\u001b[2m\u001b[36m(launch_and_fit pid=5240)\u001b[0m [Client 2] fit, config: {}\n",
      "\u001b[2m\u001b[36m(launch_and_evaluate pid=7672)\u001b[0m [Client 2] fit, config: {}\n",
      "\u001b[2m\u001b[36m(launch_and_fit pid=5240)\u001b[0m Epoch 1: train loss 0.0034670629538595676, accuracy 0.9657293497363796\n",
      "\u001b[2m\u001b[36m(launch_and_fit pid=5240)\u001b[0m Epoch 2: train loss 0.003865355160087347, accuracy 0.9560632688927944\n",
      "\u001b[2m\u001b[36m(launch_and_fit pid=5240)\u001b[0m Epoch 3: train loss 0.003212010022252798, accuracy 0.9648506151142355\n",
      "\u001b[2m\u001b[36m(launch_and_fit pid=5240)\u001b[0m Epoch 4: train loss 0.0022689111065119505, accuracy 0.9806678383128296\n",
      "\u001b[2m\u001b[36m(launch_and_fit pid=5240)\u001b[0m Epoch 5: train loss 0.002055336954072118, accuracy 0.9815465729349736\n",
      "\u001b[2m\u001b[36m(launch_and_fit pid=5240)\u001b[0m Epoch 6: train loss 0.004148774780333042, accuracy 0.9674868189806678\n",
      "\u001b[2m\u001b[36m(launch_and_fit pid=5240)\u001b[0m Epoch 7: train loss 0.0031205012928694487, accuracy 0.9595782073813708\n",
      "\u001b[2m\u001b[36m(launch_and_fit pid=5240)\u001b[0m Epoch 8: train loss 0.002106565283611417, accuracy 0.9745166959578208\n",
      "\u001b[2m\u001b[36m(launch_and_fit pid=5240)\u001b[0m Epoch 9: train loss 0.03162487968802452, accuracy 0.8576449912126538\n",
      "\u001b[2m\u001b[36m(launch_and_fit pid=5240)\u001b[0m Epoch 10: train loss 0.00878147967159748, accuracy 0.8866432337434095\n",
      "\u001b[2m\u001b[36m(launch_and_fit pid=16936)\u001b[0m [Client 3] fit, config: {}\n",
      "\u001b[2m\u001b[36m(launch_and_fit pid=16936)\u001b[0m Epoch 1: train loss 0.0024143706541508436, accuracy 0.9701230228471002\n",
      "\u001b[2m\u001b[36m(launch_and_fit pid=16936)\u001b[0m Epoch 2: train loss 0.00173938216175884, accuracy 0.9753954305799648\n",
      "\u001b[2m\u001b[36m(launch_and_fit pid=16936)\u001b[0m Epoch 3: train loss 0.0017908960580825806, accuracy 0.9815465729349736\n",
      "\u001b[2m\u001b[36m(launch_and_fit pid=16936)\u001b[0m Epoch 4: train loss 0.0013430336257442832, accuracy 0.9833040421792618\n",
      "\u001b[2m\u001b[36m(launch_and_fit pid=16936)\u001b[0m Epoch 5: train loss 0.011293312534689903, accuracy 0.9050966608084359\n",
      "\u001b[2m\u001b[36m(launch_and_fit pid=16936)\u001b[0m Epoch 6: train loss 0.005223172251135111, accuracy 0.9384885764499121\n",
      "\u001b[2m\u001b[36m(launch_and_fit pid=16936)\u001b[0m Epoch 7: train loss 0.003733523888513446, accuracy 0.9551845342706503\n",
      "\u001b[2m\u001b[36m(launch_and_fit pid=16936)\u001b[0m Epoch 8: train loss 0.00203582807444036, accuracy 0.9806678383128296\n",
      "\u001b[2m\u001b[36m(launch_and_fit pid=16936)\u001b[0m Epoch 9: train loss 0.0023176828399300575, accuracy 0.976274165202109\n"
     ]
    },
    {
     "name": "stderr",
     "output_type": "stream",
     "text": [
      "DEBUG flwr 2023-05-09 20:05:43,925 | server.py:232 | fit_round 37 received 2 results and 0 failures\n"
     ]
    },
    {
     "name": "stdout",
     "output_type": "stream",
     "text": [
      "\u001b[2m\u001b[36m(launch_and_fit pid=16936)\u001b[0m Epoch 10: train loss 0.0014060145476832986, accuracy 0.9850615114235501\n"
     ]
    },
    {
     "name": "stderr",
     "output_type": "stream",
     "text": [
      "INFO flwr 2023-05-09 20:05:46,060 | server.py:119 | fit progress: (37, 0.023344386128311075, {'accuracy': 0.761938202247191}, 2440.945513)\n",
      "DEBUG flwr 2023-05-09 20:05:46,061 | server.py:168 | evaluate_round 37: strategy sampled 2 clients (out of 4)\n"
     ]
    },
    {
     "name": "stdout",
     "output_type": "stream",
     "text": [
      "SERVER EVAL 0.761938202247191 0.023344386128311075\n",
      "\u001b[2m\u001b[36m(launch_and_evaluate pid=7532)\u001b[0m [Client 0] evaluate, config: {}\n"
     ]
    },
    {
     "name": "stderr",
     "output_type": "stream",
     "text": [
      "DEBUG flwr 2023-05-09 20:05:54,781 | server.py:182 | evaluate_round 37 received 2 results and 0 failures\n",
      "DEBUG flwr 2023-05-09 20:05:54,782 | server.py:218 | fit_round 38: strategy sampled 2 clients (out of 4)\n"
     ]
    },
    {
     "name": "stdout",
     "output_type": "stream",
     "text": [
      "\u001b[2m\u001b[36m(launch_and_fit pid=6752)\u001b[0m [Client 2] fit, config: {}\n",
      "\u001b[2m\u001b[36m(launch_and_evaluate pid=17964)\u001b[0m [Client 2] fit, config: {}\n",
      "\u001b[2m\u001b[36m(launch_and_fit pid=6752)\u001b[0m Epoch 1: train loss 0.0044863116927444935, accuracy 0.9543057996485061\n",
      "\u001b[2m\u001b[36m(launch_and_fit pid=6752)\u001b[0m Epoch 2: train loss 0.003640055889263749, accuracy 0.9586994727592267\n",
      "\u001b[2m\u001b[36m(launch_and_fit pid=6752)\u001b[0m Epoch 3: train loss 0.0016824310878291726, accuracy 0.9745166959578208\n",
      "\u001b[2m\u001b[36m(launch_and_fit pid=6752)\u001b[0m Epoch 4: train loss 0.0022955636959522963, accuracy 0.9797891036906854\n",
      "\u001b[2m\u001b[36m(launch_and_fit pid=6752)\u001b[0m Epoch 5: train loss 0.0017943426501005888, accuracy 0.9815465729349736\n",
      "\u001b[2m\u001b[36m(launch_and_fit pid=6752)\u001b[0m Epoch 6: train loss 0.0026651527732610703, accuracy 0.9745166959578208\n",
      "\u001b[2m\u001b[36m(launch_and_fit pid=6752)\u001b[0m Epoch 7: train loss 0.0019528255797922611, accuracy 0.9745166959578208\n",
      "\u001b[2m\u001b[36m(launch_and_fit pid=6752)\u001b[0m Epoch 8: train loss 0.002368953311815858, accuracy 0.9745166959578208\n",
      "\u001b[2m\u001b[36m(launch_and_fit pid=6752)\u001b[0m Epoch 9: train loss 0.0018281888915225863, accuracy 0.976274165202109\n",
      "\u001b[2m\u001b[36m(launch_and_fit pid=6752)\u001b[0m Epoch 10: train loss 0.0022097022738307714, accuracy 0.9806678383128296\n",
      "\u001b[2m\u001b[36m(launch_and_fit pid=14364)\u001b[0m [Client 0] fit, config: {}\n",
      "\u001b[2m\u001b[36m(launch_and_fit pid=14364)\u001b[0m Epoch 1: train loss 0.008527967147529125, accuracy 0.9138840070298769\n",
      "\u001b[2m\u001b[36m(launch_and_fit pid=14364)\u001b[0m Epoch 2: train loss 0.005691119935363531, accuracy 0.9314586994727593\n",
      "\u001b[2m\u001b[36m(launch_and_fit pid=14364)\u001b[0m Epoch 3: train loss 0.004665294662117958, accuracy 0.9446397188049209\n",
      "\u001b[2m\u001b[36m(launch_and_fit pid=14364)\u001b[0m Epoch 4: train loss 0.005011996254324913, accuracy 0.9499121265377856\n",
      "\u001b[2m\u001b[36m(launch_and_fit pid=14364)\u001b[0m Epoch 5: train loss 0.004217216745018959, accuracy 0.9543057996485061\n",
      "\u001b[2m\u001b[36m(launch_and_fit pid=14364)\u001b[0m Epoch 6: train loss 0.003995098173618317, accuracy 0.9446397188049209\n",
      "\u001b[2m\u001b[36m(launch_and_fit pid=14364)\u001b[0m Epoch 7: train loss 0.0029678468126803637, accuracy 0.9648506151142355\n",
      "\u001b[2m\u001b[36m(launch_and_fit pid=14364)\u001b[0m Epoch 8: train loss 0.00290965405292809, accuracy 0.968365553602812\n",
      "\u001b[2m\u001b[36m(launch_and_fit pid=14364)\u001b[0m Epoch 9: train loss 0.0024479643907397985, accuracy 0.9745166959578208\n"
     ]
    },
    {
     "name": "stderr",
     "output_type": "stream",
     "text": [
      "DEBUG flwr 2023-05-09 20:06:50,168 | server.py:232 | fit_round 38 received 2 results and 0 failures\n"
     ]
    },
    {
     "name": "stdout",
     "output_type": "stream",
     "text": [
      "\u001b[2m\u001b[36m(launch_and_fit pid=14364)\u001b[0m Epoch 10: train loss 0.004288272932171822, accuracy 0.9569420035149385\n"
     ]
    },
    {
     "name": "stderr",
     "output_type": "stream",
     "text": [
      "INFO flwr 2023-05-09 20:06:52,254 | server.py:119 | fit progress: (38, 0.026072577759100313, {'accuracy': 0.7773876404494382}, 2507.1395615)\n",
      "DEBUG flwr 2023-05-09 20:06:52,254 | server.py:168 | evaluate_round 38: strategy sampled 2 clients (out of 4)\n"
     ]
    },
    {
     "name": "stdout",
     "output_type": "stream",
     "text": [
      "SERVER EVAL 0.7773876404494382 0.026072577759100313\n",
      "\u001b[2m\u001b[36m(launch_and_evaluate pid=7296)\u001b[0m [Client 3] evaluate, config: {}\n"
     ]
    },
    {
     "name": "stderr",
     "output_type": "stream",
     "text": [
      "DEBUG flwr 2023-05-09 20:07:01,166 | server.py:182 | evaluate_round 38 received 2 results and 0 failures\n",
      "DEBUG flwr 2023-05-09 20:07:01,167 | server.py:218 | fit_round 39: strategy sampled 2 clients (out of 4)\n"
     ]
    },
    {
     "name": "stdout",
     "output_type": "stream",
     "text": [
      "\u001b[2m\u001b[1m\u001b[33m(autoscaler +42m8s)\u001b[0m Warning: The following resource request cannot be scheduled right now: {'GPU': 1.0, 'CPU': 1.0}. This is likely due to all cluster resources being claimed by actors. Consider creating fewer actors or adding more nodes to this Ray cluster.\n",
      "\u001b[2m\u001b[36m(launch_and_fit pid=7972)\u001b[0m [Client 3] fit, config: {}\n",
      "\u001b[2m\u001b[36m(launch_and_evaluate pid=9032)\u001b[0m [Client 3] fit, config: {}\n",
      "\u001b[2m\u001b[36m(launch_and_fit pid=7972)\u001b[0m Epoch 1: train loss 0.006073093973100185, accuracy 0.9279437609841827\n",
      "\u001b[2m\u001b[36m(launch_and_fit pid=7972)\u001b[0m Epoch 2: train loss 0.002653680741786957, accuracy 0.9674868189806678\n",
      "\u001b[2m\u001b[36m(launch_and_fit pid=7972)\u001b[0m Epoch 3: train loss 0.001933081541210413, accuracy 0.9745166959578208\n",
      "\u001b[2m\u001b[36m(launch_and_fit pid=7972)\u001b[0m Epoch 4: train loss 0.003066049888730049, accuracy 0.9622144112478032\n",
      "\u001b[2m\u001b[36m(launch_and_fit pid=7972)\u001b[0m Epoch 5: train loss 0.004888273775577545, accuracy 0.9586994727592267\n",
      "\u001b[2m\u001b[36m(launch_and_fit pid=7972)\u001b[0m Epoch 6: train loss 0.0026349788531661034, accuracy 0.9736379613356766\n",
      "\u001b[2m\u001b[36m(launch_and_fit pid=7972)\u001b[0m Epoch 7: train loss 0.0020855891052633524, accuracy 0.976274165202109\n",
      "\u001b[2m\u001b[36m(launch_and_fit pid=7972)\u001b[0m Epoch 8: train loss 0.0014329993864521384, accuracy 0.9885764499121266\n",
      "\u001b[2m\u001b[36m(launch_and_fit pid=7972)\u001b[0m Epoch 9: train loss 0.00125031266361475, accuracy 0.9850615114235501\n",
      "\u001b[2m\u001b[36m(launch_and_fit pid=7972)\u001b[0m Epoch 10: train loss 0.0018453901866450906, accuracy 0.9806678383128296\n",
      "\u001b[2m\u001b[36m(launch_and_fit pid=6388)\u001b[0m [Client 1] fit, config: {}\n",
      "\u001b[2m\u001b[36m(launch_and_fit pid=6388)\u001b[0m Epoch 1: train loss 0.013013217598199844, accuracy 0.8550087873462214\n",
      "\u001b[2m\u001b[36m(launch_and_fit pid=6388)\u001b[0m Epoch 2: train loss 0.007798807695508003, accuracy 0.9015817223198594\n",
      "\u001b[2m\u001b[36m(launch_and_fit pid=6388)\u001b[0m Epoch 3: train loss 0.00690167723223567, accuracy 0.9033391915641477\n",
      "\u001b[2m\u001b[36m(launch_and_fit pid=6388)\u001b[0m Epoch 4: train loss 0.006268487311899662, accuracy 0.9235500878734623\n",
      "\u001b[2m\u001b[36m(launch_and_fit pid=6388)\u001b[0m Epoch 5: train loss 0.006061519496142864, accuracy 0.9279437609841827\n",
      "\u001b[2m\u001b[36m(launch_and_fit pid=6388)\u001b[0m Epoch 6: train loss 0.0048079825937747955, accuracy 0.9384885764499121\n",
      "\u001b[2m\u001b[36m(launch_and_fit pid=6388)\u001b[0m Epoch 7: train loss 0.005224316846579313, accuracy 0.9332161687170475\n",
      "\u001b[2m\u001b[36m(launch_and_fit pid=6388)\u001b[0m Epoch 8: train loss 0.004580906126648188, accuracy 0.9481546572934973\n",
      "\u001b[2m\u001b[36m(launch_and_fit pid=6388)\u001b[0m Epoch 9: train loss 0.0033885701559484005, accuracy 0.9718804920913884\n"
     ]
    },
    {
     "name": "stderr",
     "output_type": "stream",
     "text": [
      "DEBUG flwr 2023-05-09 20:07:56,477 | server.py:232 | fit_round 39 received 2 results and 0 failures\n"
     ]
    },
    {
     "name": "stdout",
     "output_type": "stream",
     "text": [
      "\u001b[2m\u001b[36m(launch_and_fit pid=6388)\u001b[0m Epoch 10: train loss 0.0033744610846042633, accuracy 0.9543057996485061\n"
     ]
    },
    {
     "name": "stderr",
     "output_type": "stream",
     "text": [
      "INFO flwr 2023-05-09 20:07:58,571 | server.py:119 | fit progress: (39, 0.025362346378898018, {'accuracy': 0.7675561797752809}, 2573.4569890000002)\n",
      "DEBUG flwr 2023-05-09 20:07:58,572 | server.py:168 | evaluate_round 39: strategy sampled 2 clients (out of 4)\n"
     ]
    },
    {
     "name": "stdout",
     "output_type": "stream",
     "text": [
      "SERVER EVAL 0.7675561797752809 0.025362346378898018\n",
      "\u001b[2m\u001b[36m(launch_and_evaluate pid=1436)\u001b[0m [Client 3] evaluate, config: {}\n"
     ]
    },
    {
     "name": "stderr",
     "output_type": "stream",
     "text": [
      "DEBUG flwr 2023-05-09 20:08:07,312 | server.py:182 | evaluate_round 39 received 2 results and 0 failures\n",
      "DEBUG flwr 2023-05-09 20:08:07,313 | server.py:218 | fit_round 40: strategy sampled 2 clients (out of 4)\n"
     ]
    },
    {
     "name": "stdout",
     "output_type": "stream",
     "text": [
      "\u001b[2m\u001b[36m(launch_and_fit pid=1408)\u001b[0m [Client 3] fit, config: {}\n",
      "\u001b[2m\u001b[36m(launch_and_evaluate pid=12928)\u001b[0m [Client 3] fit, config: {}\n",
      "\u001b[2m\u001b[36m(launch_and_fit pid=1408)\u001b[0m Epoch 1: train loss 0.004896224942058325, accuracy 0.9551845342706503\n",
      "\u001b[2m\u001b[36m(launch_and_fit pid=1408)\u001b[0m Epoch 2: train loss 0.00331568019464612, accuracy 0.9586994727592267\n",
      "\u001b[2m\u001b[36m(launch_and_fit pid=1408)\u001b[0m Epoch 3: train loss 0.004300731234252453, accuracy 0.9560632688927944\n",
      "\u001b[2m\u001b[36m(launch_and_fit pid=1408)\u001b[0m Epoch 4: train loss 0.0031986527610570192, accuracy 0.9674868189806678\n",
      "\u001b[2m\u001b[36m(launch_and_fit pid=1408)\u001b[0m Epoch 5: train loss 0.0019402571488171816, accuracy 0.9780316344463972\n",
      "\u001b[2m\u001b[36m(launch_and_fit pid=1408)\u001b[0m Epoch 6: train loss 0.00223754090256989, accuracy 0.9806678383128296\n",
      "\u001b[2m\u001b[36m(launch_and_fit pid=1408)\u001b[0m Epoch 7: train loss 0.0013110843719914556, accuracy 0.9868189806678384\n",
      "\u001b[2m\u001b[36m(launch_and_fit pid=1408)\u001b[0m Epoch 8: train loss 0.0005849743611179292, accuracy 0.9938488576449912\n",
      "\u001b[2m\u001b[36m(launch_and_fit pid=1408)\u001b[0m Epoch 9: train loss 0.0005237793084233999, accuracy 0.9929701230228472\n",
      "\u001b[2m\u001b[36m(launch_and_fit pid=1408)\u001b[0m Epoch 10: train loss 0.0004986762651242316, accuracy 0.9929701230228472\n",
      "\u001b[2m\u001b[36m(launch_and_fit pid=2196)\u001b[0m [Client 0] fit, config: {}\n",
      "\u001b[2m\u001b[36m(launch_and_fit pid=2196)\u001b[0m Epoch 1: train loss 0.010015904903411865, accuracy 0.9235500878734623\n",
      "\u001b[2m\u001b[36m(launch_and_fit pid=2196)\u001b[0m Epoch 2: train loss 0.005381835158914328, accuracy 0.9402460456942003\n",
      "\u001b[2m\u001b[36m(launch_and_fit pid=2196)\u001b[0m Epoch 3: train loss 0.0032071552705019712, accuracy 0.9578207381370826\n",
      "\u001b[2m\u001b[36m(launch_and_fit pid=2196)\u001b[0m Epoch 4: train loss 0.0019887322559952736, accuracy 0.9710017574692443\n",
      "\u001b[2m\u001b[36m(launch_and_fit pid=2196)\u001b[0m Epoch 5: train loss 0.0032618038821965456, accuracy 0.9622144112478032\n",
      "\u001b[2m\u001b[36m(launch_and_fit pid=2196)\u001b[0m Epoch 6: train loss 0.0018432042561471462, accuracy 0.9789103690685413\n",
      "\u001b[2m\u001b[36m(launch_and_fit pid=2196)\u001b[0m Epoch 7: train loss 0.0020205427426844835, accuracy 0.9753954305799648\n",
      "\u001b[2m\u001b[36m(launch_and_fit pid=2196)\u001b[0m Epoch 8: train loss 0.0033173994161188602, accuracy 0.9666080843585237\n",
      "\u001b[2m\u001b[36m(launch_and_fit pid=2196)\u001b[0m Epoch 9: train loss 0.002276482991874218, accuracy 0.9789103690685413\n"
     ]
    },
    {
     "name": "stderr",
     "output_type": "stream",
     "text": [
      "DEBUG flwr 2023-05-09 20:09:02,715 | server.py:232 | fit_round 40 received 2 results and 0 failures\n"
     ]
    },
    {
     "name": "stdout",
     "output_type": "stream",
     "text": [
      "\u001b[2m\u001b[36m(launch_and_fit pid=2196)\u001b[0m Epoch 10: train loss 0.0023418646305799484, accuracy 0.9710017574692443\n"
     ]
    },
    {
     "name": "stderr",
     "output_type": "stream",
     "text": [
      "INFO flwr 2023-05-09 20:09:04,744 | server.py:119 | fit progress: (40, 0.043576691634534453, {'accuracy': 0.7731741573033708}, 2639.6297477000003)\n",
      "DEBUG flwr 2023-05-09 20:09:04,745 | server.py:168 | evaluate_round 40: strategy sampled 2 clients (out of 4)\n"
     ]
    },
    {
     "name": "stdout",
     "output_type": "stream",
     "text": [
      "SERVER EVAL 0.7731741573033708 0.043576691634534453\n",
      "\u001b[2m\u001b[36m(launch_and_evaluate pid=280)\u001b[0m [Client 1] evaluate, config: {}\n"
     ]
    },
    {
     "name": "stderr",
     "output_type": "stream",
     "text": [
      "DEBUG flwr 2023-05-09 20:09:13,740 | server.py:182 | evaluate_round 40 received 2 results and 0 failures\n",
      "DEBUG flwr 2023-05-09 20:09:13,740 | server.py:218 | fit_round 41: strategy sampled 2 clients (out of 4)\n"
     ]
    },
    {
     "name": "stdout",
     "output_type": "stream",
     "text": [
      "\u001b[2m\u001b[36m(launch_and_fit pid=21060)\u001b[0m [Client 1] fit, config: {}\n",
      "\u001b[2m\u001b[36m(launch_and_evaluate pid=9320)\u001b[0m [Client 1] fit, config: {}\n",
      "\u001b[2m\u001b[36m(launch_and_fit pid=21060)\u001b[0m Epoch 1: train loss 0.010790957137942314, accuracy 0.8945518453427065\n",
      "\u001b[2m\u001b[36m(launch_and_fit pid=21060)\u001b[0m Epoch 2: train loss 0.006144397426396608, accuracy 0.9226713532513181\n",
      "\u001b[2m\u001b[36m(launch_and_fit pid=21060)\u001b[0m Epoch 3: train loss 0.015307975001633167, accuracy 0.9314586994727593\n",
      "\u001b[2m\u001b[36m(launch_and_fit pid=21060)\u001b[0m Epoch 4: train loss 0.015677349641919136, accuracy 0.8216168717047452\n",
      "\u001b[2m\u001b[36m(launch_and_fit pid=21060)\u001b[0m Epoch 5: train loss 0.010383778251707554, accuracy 0.8576449912126538\n",
      "\u001b[2m\u001b[36m(launch_and_fit pid=21060)\u001b[0m Epoch 6: train loss 0.008785704150795937, accuracy 0.8971880492091389\n",
      "\u001b[2m\u001b[36m(launch_and_fit pid=21060)\u001b[0m Epoch 7: train loss 0.0061396160162985325, accuracy 0.9279437609841827\n",
      "\u001b[2m\u001b[36m(launch_and_fit pid=21060)\u001b[0m Epoch 8: train loss 0.005143188871443272, accuracy 0.9428822495606327\n",
      "\u001b[2m\u001b[36m(launch_and_fit pid=21060)\u001b[0m Epoch 9: train loss 0.0034608403220772743, accuracy 0.9586994727592267\n",
      "\u001b[2m\u001b[36m(launch_and_fit pid=21060)\u001b[0m Epoch 10: train loss 0.0030141400638967752, accuracy 0.9736379613356766\n",
      "\u001b[2m\u001b[36m(launch_and_fit pid=10400)\u001b[0m [Client 2] fit, config: {}\n",
      "\u001b[2m\u001b[36m(launch_and_fit pid=10400)\u001b[0m Epoch 1: train loss 0.004882568493485451, accuracy 0.9428822495606327\n",
      "\u001b[2m\u001b[36m(launch_and_fit pid=10400)\u001b[0m Epoch 2: train loss 0.002264908282086253, accuracy 0.9753954305799648\n",
      "\u001b[2m\u001b[36m(launch_and_fit pid=10400)\u001b[0m Epoch 3: train loss 0.005696852691471577, accuracy 0.9481546572934973\n",
      "\u001b[2m\u001b[36m(launch_and_fit pid=10400)\u001b[0m Epoch 4: train loss 0.0053672525100409985, accuracy 0.961335676625659\n",
      "\u001b[2m\u001b[36m(launch_and_fit pid=10400)\u001b[0m Epoch 5: train loss 0.004756990820169449, accuracy 0.9437609841827768\n",
      "\u001b[2m\u001b[36m(launch_and_fit pid=10400)\u001b[0m Epoch 6: train loss 0.0030231857672333717, accuracy 0.9622144112478032\n",
      "\u001b[2m\u001b[36m(launch_and_fit pid=10400)\u001b[0m Epoch 7: train loss 0.0034473291598260403, accuracy 0.961335676625659\n",
      "\u001b[2m\u001b[36m(launch_and_fit pid=10400)\u001b[0m Epoch 8: train loss 0.0044883303344249725, accuracy 0.9446397188049209\n",
      "\u001b[2m\u001b[36m(launch_and_fit pid=10400)\u001b[0m Epoch 9: train loss 0.0028923035133630037, accuracy 0.9692442882249561\n"
     ]
    },
    {
     "name": "stderr",
     "output_type": "stream",
     "text": [
      "DEBUG flwr 2023-05-09 20:10:09,736 | server.py:232 | fit_round 41 received 2 results and 0 failures\n"
     ]
    },
    {
     "name": "stdout",
     "output_type": "stream",
     "text": [
      "\u001b[2m\u001b[36m(launch_and_fit pid=10400)\u001b[0m Epoch 10: train loss 0.002314215525984764, accuracy 0.9771528998242531\n"
     ]
    },
    {
     "name": "stderr",
     "output_type": "stream",
     "text": [
      "INFO flwr 2023-05-09 20:10:11,839 | server.py:119 | fit progress: (41, 0.024379657492502017, {'accuracy': 0.7830056179775281}, 2706.7247471)\n",
      "DEBUG flwr 2023-05-09 20:10:11,840 | server.py:168 | evaluate_round 41: strategy sampled 2 clients (out of 4)\n"
     ]
    },
    {
     "name": "stdout",
     "output_type": "stream",
     "text": [
      "SERVER EVAL 0.7830056179775281 0.024379657492502017\n",
      "\u001b[2m\u001b[1m\u001b[33m(autoscaler +45m18s)\u001b[0m Warning: The following resource request cannot be scheduled right now: {'GPU': 1.0, 'CPU': 1.0}. This is likely due to all cluster resources being claimed by actors. Consider creating fewer actors or adding more nodes to this Ray cluster.\n",
      "\u001b[2m\u001b[36m(launch_and_evaluate pid=22352)\u001b[0m [Client 0] evaluate, config: {}\n"
     ]
    },
    {
     "name": "stderr",
     "output_type": "stream",
     "text": [
      "DEBUG flwr 2023-05-09 20:10:20,588 | server.py:182 | evaluate_round 41 received 2 results and 0 failures\n",
      "DEBUG flwr 2023-05-09 20:10:20,589 | server.py:218 | fit_round 42: strategy sampled 2 clients (out of 4)\n"
     ]
    },
    {
     "name": "stdout",
     "output_type": "stream",
     "text": [
      "\u001b[2m\u001b[36m(launch_and_fit pid=21980)\u001b[0m [Client 0] fit, config: {}\n",
      "\u001b[2m\u001b[36m(launch_and_evaluate pid=21692)\u001b[0m [Client 0] fit, config: {}\n",
      "\u001b[2m\u001b[36m(launch_and_fit pid=21980)\u001b[0m Epoch 1: train loss 0.005655388347804546, accuracy 0.9279437609841827\n",
      "\u001b[2m\u001b[36m(launch_and_fit pid=21980)\u001b[0m Epoch 2: train loss 0.003707551397383213, accuracy 0.9490333919156415\n",
      "\u001b[2m\u001b[36m(launch_and_fit pid=21980)\u001b[0m Epoch 3: train loss 0.003270848887041211, accuracy 0.9701230228471002\n",
      "\u001b[2m\u001b[36m(launch_and_fit pid=21980)\u001b[0m Epoch 4: train loss 0.004561131354421377, accuracy 0.9490333919156415\n",
      "\u001b[2m\u001b[36m(launch_and_fit pid=21980)\u001b[0m Epoch 5: train loss 0.0029398309998214245, accuracy 0.9718804920913884\n",
      "\u001b[2m\u001b[36m(launch_and_fit pid=21980)\u001b[0m Epoch 6: train loss 0.0037522781640291214, accuracy 0.9569420035149385\n",
      "\u001b[2m\u001b[36m(launch_and_fit pid=21980)\u001b[0m Epoch 7: train loss 0.002485289005562663, accuracy 0.9674868189806678\n",
      "\u001b[2m\u001b[36m(launch_and_fit pid=21980)\u001b[0m Epoch 8: train loss 0.0036067552864551544, accuracy 0.9622144112478032\n",
      "\u001b[2m\u001b[36m(launch_and_fit pid=21980)\u001b[0m Epoch 9: train loss 0.002886346774175763, accuracy 0.9753954305799648\n",
      "\u001b[2m\u001b[36m(launch_and_fit pid=21980)\u001b[0m Epoch 10: train loss 0.0046936506405472755, accuracy 0.9560632688927944\n",
      "\u001b[2m\u001b[36m(launch_and_fit pid=21712)\u001b[0m [Client 1] fit, config: {}\n",
      "\u001b[2m\u001b[36m(launch_and_fit pid=21712)\u001b[0m Epoch 1: train loss 0.005425305105745792, accuracy 0.9288224956063269\n",
      "\u001b[2m\u001b[36m(launch_and_fit pid=21712)\u001b[0m Epoch 2: train loss 0.005143831484019756, accuracy 0.9437609841827768\n",
      "\u001b[2m\u001b[36m(launch_and_fit pid=21712)\u001b[0m Epoch 3: train loss 0.004418865777552128, accuracy 0.9543057996485061\n",
      "\u001b[2m\u001b[36m(launch_and_fit pid=21712)\u001b[0m Epoch 4: train loss 0.004870964214205742, accuracy 0.9516695957820738\n",
      "\u001b[2m\u001b[36m(launch_and_fit pid=21712)\u001b[0m Epoch 5: train loss 0.0069945878349244595, accuracy 0.9314586994727593\n",
      "\u001b[2m\u001b[36m(launch_and_fit pid=21712)\u001b[0m Epoch 6: train loss 0.007608483545482159, accuracy 0.9305799648506151\n",
      "\u001b[2m\u001b[36m(launch_and_fit pid=21712)\u001b[0m Epoch 7: train loss 0.0041004354134202, accuracy 0.9543057996485061\n",
      "\u001b[2m\u001b[36m(launch_and_fit pid=21712)\u001b[0m Epoch 8: train loss 0.0034308433532714844, accuracy 0.9630931458699473\n",
      "\u001b[2m\u001b[36m(launch_and_fit pid=21712)\u001b[0m Epoch 9: train loss 0.0022818727884441614, accuracy 0.9674868189806678\n"
     ]
    },
    {
     "name": "stderr",
     "output_type": "stream",
     "text": [
      "DEBUG flwr 2023-05-09 20:11:16,197 | server.py:232 | fit_round 42 received 2 results and 0 failures\n"
     ]
    },
    {
     "name": "stdout",
     "output_type": "stream",
     "text": [
      "\u001b[2m\u001b[36m(launch_and_fit pid=21712)\u001b[0m Epoch 10: train loss 0.0033635450527071953, accuracy 0.968365553602812\n"
     ]
    },
    {
     "name": "stderr",
     "output_type": "stream",
     "text": [
      "INFO flwr 2023-05-09 20:11:18,389 | server.py:119 | fit progress: (42, 0.031132187035060332, {'accuracy': 0.7801966292134831}, 2773.2744157)\n",
      "DEBUG flwr 2023-05-09 20:11:18,390 | server.py:168 | evaluate_round 42: strategy sampled 2 clients (out of 4)\n"
     ]
    },
    {
     "name": "stdout",
     "output_type": "stream",
     "text": [
      "SERVER EVAL 0.7801966292134831 0.031132187035060332\n",
      "\u001b[2m\u001b[36m(launch_and_evaluate pid=6776)\u001b[0m [Client 3] evaluate, config: {}\n"
     ]
    },
    {
     "name": "stderr",
     "output_type": "stream",
     "text": [
      "DEBUG flwr 2023-05-09 20:11:27,198 | server.py:182 | evaluate_round 42 received 2 results and 0 failures\n",
      "DEBUG flwr 2023-05-09 20:11:27,199 | server.py:218 | fit_round 43: strategy sampled 2 clients (out of 4)\n"
     ]
    },
    {
     "name": "stdout",
     "output_type": "stream",
     "text": [
      "\u001b[2m\u001b[36m(launch_and_fit pid=21648)\u001b[0m [Client 2] fit, config: {}\n",
      "\u001b[2m\u001b[36m(launch_and_evaluate pid=11876)\u001b[0m [Client 2] fit, config: {}\n",
      "\u001b[2m\u001b[36m(launch_and_fit pid=21648)\u001b[0m Epoch 1: train loss 0.0047899032942950726, accuracy 0.9481546572934973\n",
      "\u001b[2m\u001b[36m(launch_and_fit pid=21648)\u001b[0m Epoch 2: train loss 0.004838764667510986, accuracy 0.9499121265377856\n",
      "\u001b[2m\u001b[36m(launch_and_fit pid=21648)\u001b[0m Epoch 3: train loss 0.003648830810561776, accuracy 0.9490333919156415\n",
      "\u001b[2m\u001b[36m(launch_and_fit pid=21648)\u001b[0m Epoch 4: train loss 0.004180628806352615, accuracy 0.968365553602812\n",
      "\u001b[2m\u001b[36m(launch_and_fit pid=21648)\u001b[0m Epoch 5: train loss 0.004175956826657057, accuracy 0.9490333919156415\n",
      "\u001b[2m\u001b[36m(launch_and_fit pid=21648)\u001b[0m Epoch 6: train loss 0.02491036057472229, accuracy 0.844463971880492\n",
      "\u001b[2m\u001b[36m(launch_and_fit pid=21648)\u001b[0m Epoch 7: train loss 0.008502935990691185, accuracy 0.8971880492091389\n",
      "\u001b[2m\u001b[36m(launch_and_fit pid=21648)\u001b[0m Epoch 8: train loss 0.004455263260751963, accuracy 0.9490333919156415\n",
      "\u001b[2m\u001b[36m(launch_and_fit pid=21648)\u001b[0m Epoch 9: train loss 0.0025470072869211435, accuracy 0.9648506151142355\n",
      "\u001b[2m\u001b[36m(launch_and_fit pid=21648)\u001b[0m Epoch 10: train loss 0.0023651691153645515, accuracy 0.9745166959578208\n",
      "\u001b[2m\u001b[36m(launch_and_fit pid=17440)\u001b[0m [Client 3] fit, config: {}\n",
      "\u001b[2m\u001b[36m(launch_and_fit pid=17440)\u001b[0m Epoch 1: train loss 0.007511077914386988, accuracy 0.929701230228471\n",
      "\u001b[2m\u001b[36m(launch_and_fit pid=17440)\u001b[0m Epoch 2: train loss 0.0052368612959980965, accuracy 0.9420035149384886\n",
      "\u001b[2m\u001b[36m(launch_and_fit pid=17440)\u001b[0m Epoch 3: train loss 0.003159009153023362, accuracy 0.9630931458699473\n",
      "\u001b[2m\u001b[36m(launch_and_fit pid=17440)\u001b[0m Epoch 4: train loss 0.002610002178698778, accuracy 0.9789103690685413\n",
      "\u001b[2m\u001b[36m(launch_and_fit pid=17440)\u001b[0m Epoch 5: train loss 0.004538439214229584, accuracy 0.960456942003515\n",
      "\u001b[2m\u001b[36m(launch_and_fit pid=17440)\u001b[0m Epoch 6: train loss 0.004295863676816225, accuracy 0.9648506151142355\n",
      "\u001b[2m\u001b[36m(launch_and_fit pid=17440)\u001b[0m Epoch 7: train loss 0.003127344185486436, accuracy 0.9657293497363796\n",
      "\u001b[2m\u001b[36m(launch_and_fit pid=17440)\u001b[0m Epoch 8: train loss 0.0027077121194452047, accuracy 0.976274165202109\n",
      "\u001b[2m\u001b[36m(launch_and_fit pid=17440)\u001b[0m Epoch 9: train loss 0.0025412514805793762, accuracy 0.9727592267135325\n"
     ]
    },
    {
     "name": "stderr",
     "output_type": "stream",
     "text": [
      "DEBUG flwr 2023-05-09 20:12:22,509 | server.py:232 | fit_round 43 received 2 results and 0 failures\n"
     ]
    },
    {
     "name": "stdout",
     "output_type": "stream",
     "text": [
      "\u001b[2m\u001b[36m(launch_and_fit pid=17440)\u001b[0m Epoch 10: train loss 0.0014021685346961021, accuracy 0.9868189806678384\n"
     ]
    },
    {
     "name": "stderr",
     "output_type": "stream",
     "text": [
      "INFO flwr 2023-05-09 20:12:24,620 | server.py:119 | fit progress: (43, 0.02827920220246842, {'accuracy': 0.7823033707865169}, 2839.5056919000003)\n",
      "DEBUG flwr 2023-05-09 20:12:24,620 | server.py:168 | evaluate_round 43: strategy sampled 2 clients (out of 4)\n"
     ]
    },
    {
     "name": "stdout",
     "output_type": "stream",
     "text": [
      "SERVER EVAL 0.7823033707865169 0.02827920220246842\n",
      "\u001b[2m\u001b[36m(launch_and_evaluate pid=9056)\u001b[0m [Client 2] evaluate, config: {}\n"
     ]
    },
    {
     "name": "stderr",
     "output_type": "stream",
     "text": [
      "DEBUG flwr 2023-05-09 20:12:33,589 | server.py:182 | evaluate_round 43 received 2 results and 0 failures\n",
      "DEBUG flwr 2023-05-09 20:12:33,590 | server.py:218 | fit_round 44: strategy sampled 2 clients (out of 4)\n"
     ]
    },
    {
     "name": "stdout",
     "output_type": "stream",
     "text": [
      "\u001b[2m\u001b[36m(launch_and_fit pid=21020)\u001b[0m [Client 2] fit, config: {}\n",
      "\u001b[2m\u001b[36m(launch_and_evaluate pid=21700)\u001b[0m [Client 2] fit, config: {}\n",
      "\u001b[2m\u001b[36m(launch_and_fit pid=21020)\u001b[0m Epoch 1: train loss 0.003348485566675663, accuracy 0.9710017574692443\n",
      "\u001b[2m\u001b[36m(launch_and_fit pid=21020)\u001b[0m Epoch 2: train loss 0.0022785633336752653, accuracy 0.9771528998242531\n",
      "\u001b[2m\u001b[36m(launch_and_fit pid=21020)\u001b[0m Epoch 3: train loss 0.004124912433326244, accuracy 0.9551845342706503\n",
      "\u001b[2m\u001b[36m(launch_and_fit pid=21020)\u001b[0m Epoch 4: train loss 0.005637125577777624, accuracy 0.9437609841827768\n",
      "\u001b[2m\u001b[36m(launch_and_fit pid=21020)\u001b[0m Epoch 5: train loss 0.003196076024323702, accuracy 0.9630931458699473\n",
      "\u001b[2m\u001b[36m(launch_and_fit pid=21020)\u001b[0m Epoch 6: train loss 0.0033894998487085104, accuracy 0.9701230228471002\n",
      "\u001b[2m\u001b[36m(launch_and_fit pid=21020)\u001b[0m Epoch 7: train loss 0.0024763087276369333, accuracy 0.9727592267135325\n",
      "\u001b[2m\u001b[36m(launch_and_fit pid=21020)\u001b[0m Epoch 8: train loss 0.002880553249269724, accuracy 0.9718804920913884\n",
      "\u001b[2m\u001b[36m(launch_and_fit pid=21020)\u001b[0m Epoch 9: train loss 0.006326352246105671, accuracy 0.9393673110720563\n",
      "\u001b[2m\u001b[36m(launch_and_fit pid=21020)\u001b[0m Epoch 10: train loss 0.005715698469430208, accuracy 0.9261862917398945\n",
      "\u001b[2m\u001b[36m(launch_and_fit pid=18448)\u001b[0m [Client 3] fit, config: {}\n",
      "\u001b[2m\u001b[36m(launch_and_fit pid=18448)\u001b[0m Epoch 1: train loss 0.003478533821180463, accuracy 0.9674868189806678\n",
      "\u001b[2m\u001b[36m(launch_and_fit pid=18448)\u001b[0m Epoch 2: train loss 0.0026643737219274044, accuracy 0.9736379613356766\n",
      "\u001b[2m\u001b[36m(launch_and_fit pid=18448)\u001b[0m Epoch 3: train loss 0.0028597479686141014, accuracy 0.9727592267135325\n",
      "\u001b[2m\u001b[36m(launch_and_fit pid=18448)\u001b[0m Epoch 4: train loss 0.0027530179359018803, accuracy 0.9666080843585237\n",
      "\u001b[2m\u001b[36m(launch_and_fit pid=18448)\u001b[0m Epoch 5: train loss 0.0032733639236539602, accuracy 0.9718804920913884\n",
      "\u001b[2m\u001b[36m(launch_and_fit pid=18448)\u001b[0m Epoch 6: train loss 0.0020352276042103767, accuracy 0.9806678383128296\n",
      "\u001b[2m\u001b[36m(launch_and_fit pid=18448)\u001b[0m Epoch 7: train loss 0.0016981990775093436, accuracy 0.984182776801406\n",
      "\u001b[2m\u001b[36m(launch_and_fit pid=18448)\u001b[0m Epoch 8: train loss 0.009539366699755192, accuracy 0.9086115992970123\n",
      "\u001b[2m\u001b[36m(launch_and_fit pid=18448)\u001b[0m Epoch 9: train loss 0.008005816489458084, accuracy 0.9209138840070299\n"
     ]
    },
    {
     "name": "stderr",
     "output_type": "stream",
     "text": [
      "DEBUG flwr 2023-05-09 20:13:29,008 | server.py:232 | fit_round 44 received 2 results and 0 failures\n"
     ]
    },
    {
     "name": "stdout",
     "output_type": "stream",
     "text": [
      "\u001b[2m\u001b[36m(launch_and_fit pid=18448)\u001b[0m Epoch 10: train loss 0.011605776846408844, accuracy 0.867311072056239\n"
     ]
    },
    {
     "name": "stderr",
     "output_type": "stream",
     "text": [
      "INFO flwr 2023-05-09 20:13:31,019 | server.py:119 | fit progress: (44, 0.01733144238758623, {'accuracy': 0.7584269662921348}, 2905.9050517)\n",
      "DEBUG flwr 2023-05-09 20:13:31,020 | server.py:168 | evaluate_round 44: strategy sampled 2 clients (out of 4)\n"
     ]
    },
    {
     "name": "stdout",
     "output_type": "stream",
     "text": [
      "SERVER EVAL 0.7584269662921348 0.01733144238758623\n",
      "\u001b[2m\u001b[36m(launch_and_evaluate pid=22160)\u001b[0m [Client 2] evaluate, config: {}\n"
     ]
    },
    {
     "name": "stderr",
     "output_type": "stream",
     "text": [
      "DEBUG flwr 2023-05-09 20:13:39,944 | server.py:182 | evaluate_round 44 received 2 results and 0 failures\n",
      "DEBUG flwr 2023-05-09 20:13:39,945 | server.py:218 | fit_round 45: strategy sampled 2 clients (out of 4)\n"
     ]
    },
    {
     "name": "stdout",
     "output_type": "stream",
     "text": [
      "\u001b[2m\u001b[36m(launch_and_fit pid=12736)\u001b[0m [Client 1] fit, config: {}\n",
      "\u001b[2m\u001b[36m(launch_and_evaluate pid=16900)\u001b[0m [Client 1] fit, config: {}\n",
      "\u001b[2m\u001b[36m(launch_and_fit pid=12736)\u001b[0m Epoch 1: train loss 0.011695030145347118, accuracy 0.8251318101933216\n",
      "\u001b[2m\u001b[36m(launch_and_fit pid=12736)\u001b[0m Epoch 2: train loss 0.008864912204444408, accuracy 0.8901581722319859\n",
      "\u001b[2m\u001b[36m(launch_and_fit pid=12736)\u001b[0m Epoch 3: train loss 0.006992695387452841, accuracy 0.9138840070298769\n",
      "\u001b[2m\u001b[36m(launch_and_fit pid=12736)\u001b[0m Epoch 4: train loss 0.006393462419509888, accuracy 0.9173989455184535\n",
      "\u001b[2m\u001b[36m(launch_and_fit pid=12736)\u001b[0m Epoch 5: train loss 0.00556562514975667, accuracy 0.9332161687170475\n",
      "\u001b[2m\u001b[36m(launch_and_fit pid=12736)\u001b[0m Epoch 6: train loss 0.00435209833085537, accuracy 0.945518453427065\n",
      "\u001b[2m\u001b[36m(launch_and_fit pid=12736)\u001b[0m Epoch 7: train loss 0.005774086806923151, accuracy 0.9463971880492091\n",
      "\u001b[2m\u001b[36m(launch_and_fit pid=12736)\u001b[0m Epoch 8: train loss 0.005109948106110096, accuracy 0.9332161687170475\n",
      "\u001b[2m\u001b[36m(launch_and_fit pid=12736)\u001b[0m Epoch 9: train loss 0.0061789522878825665, accuracy 0.9261862917398945\n",
      "\u001b[2m\u001b[36m(launch_and_fit pid=12736)\u001b[0m Epoch 10: train loss 0.004755840636789799, accuracy 0.9402460456942003\n",
      "\u001b[2m\u001b[36m(launch_and_fit pid=17536)\u001b[0m [Client 3] fit, config: {}\n",
      "\u001b[2m\u001b[36m(launch_and_fit pid=17536)\u001b[0m Epoch 1: train loss 0.005607001017779112, accuracy 0.9314586994727593\n",
      "\u001b[2m\u001b[36m(launch_and_fit pid=17536)\u001b[0m Epoch 2: train loss 0.0033282169606536627, accuracy 0.9630931458699473\n",
      "\u001b[2m\u001b[36m(launch_and_fit pid=17536)\u001b[0m Epoch 3: train loss 0.0030091446824371815, accuracy 0.9674868189806678\n",
      "\u001b[2m\u001b[36m(launch_and_fit pid=17536)\u001b[0m Epoch 4: train loss 0.0033752298913896084, accuracy 0.9630931458699473\n",
      "\u001b[2m\u001b[36m(launch_and_fit pid=17536)\u001b[0m Epoch 5: train loss 0.0027129549998790026, accuracy 0.9727592267135325\n",
      "\u001b[2m\u001b[36m(launch_and_fit pid=17536)\u001b[0m Epoch 6: train loss 0.0028378393035382032, accuracy 0.9710017574692443\n",
      "\u001b[2m\u001b[36m(launch_and_fit pid=17536)\u001b[0m Epoch 7: train loss 0.003732475219294429, accuracy 0.9622144112478032\n",
      "\u001b[2m\u001b[36m(launch_and_fit pid=17536)\u001b[0m Epoch 8: train loss 0.009285243228077888, accuracy 0.9077328646748682\n",
      "\u001b[2m\u001b[36m(launch_and_fit pid=17536)\u001b[0m Epoch 9: train loss 0.012288977392017841, accuracy 0.8497363796133568\n"
     ]
    },
    {
     "name": "stderr",
     "output_type": "stream",
     "text": [
      "DEBUG flwr 2023-05-09 20:14:35,484 | server.py:232 | fit_round 45 received 2 results and 0 failures\n"
     ]
    },
    {
     "name": "stdout",
     "output_type": "stream",
     "text": [
      "\u001b[2m\u001b[36m(launch_and_fit pid=17536)\u001b[0m Epoch 10: train loss 0.007387924939393997, accuracy 0.9086115992970123\n"
     ]
    },
    {
     "name": "stderr",
     "output_type": "stream",
     "text": [
      "INFO flwr 2023-05-09 20:14:37,566 | server.py:119 | fit progress: (45, 0.019061583894817682, {'accuracy': 0.7837078651685393}, 2972.4511540000003)\n",
      "DEBUG flwr 2023-05-09 20:14:37,566 | server.py:168 | evaluate_round 45: strategy sampled 2 clients (out of 4)\n"
     ]
    },
    {
     "name": "stdout",
     "output_type": "stream",
     "text": [
      "SERVER EVAL 0.7837078651685393 0.019061583894817682\n",
      "\u001b[2m\u001b[36m(launch_and_evaluate pid=21592)\u001b[0m [Client 1] evaluate, config: {}\n"
     ]
    },
    {
     "name": "stderr",
     "output_type": "stream",
     "text": [
      "DEBUG flwr 2023-05-09 20:14:46,542 | server.py:182 | evaluate_round 45 received 2 results and 0 failures\n",
      "DEBUG flwr 2023-05-09 20:14:46,543 | server.py:218 | fit_round 46: strategy sampled 2 clients (out of 4)\n"
     ]
    },
    {
     "name": "stdout",
     "output_type": "stream",
     "text": [
      "\u001b[2m\u001b[36m(launch_and_fit pid=13432)\u001b[0m [Client 3] fit, config: {}\n",
      "\u001b[2m\u001b[36m(launch_and_evaluate pid=20688)\u001b[0m [Client 3] fit, config: {}\n",
      "\u001b[2m\u001b[36m(launch_and_fit pid=13432)\u001b[0m Epoch 1: train loss 0.0031675088685005903, accuracy 0.9674868189806678\n",
      "\u001b[2m\u001b[36m(launch_and_fit pid=13432)\u001b[0m Epoch 2: train loss 0.0025194042827934027, accuracy 0.9727592267135325\n",
      "\u001b[2m\u001b[36m(launch_and_fit pid=13432)\u001b[0m Epoch 3: train loss 0.00269381538964808, accuracy 0.9727592267135325\n",
      "\u001b[2m\u001b[36m(launch_and_fit pid=13432)\u001b[0m Epoch 4: train loss 0.009261018596589565, accuracy 0.961335676625659\n",
      "\u001b[2m\u001b[36m(launch_and_fit pid=13432)\u001b[0m Epoch 5: train loss 0.00900951772928238, accuracy 0.8954305799648506\n",
      "\u001b[2m\u001b[36m(launch_and_fit pid=13432)\u001b[0m Epoch 6: train loss 0.0062386938370764256, accuracy 0.9332161687170475\n",
      "\u001b[2m\u001b[36m(launch_and_fit pid=13432)\u001b[0m Epoch 7: train loss 0.004966093227267265, accuracy 0.9463971880492091\n",
      "\u001b[2m\u001b[36m(launch_and_fit pid=13432)\u001b[0m Epoch 8: train loss 0.0036375343333929777, accuracy 0.9560632688927944\n",
      "\u001b[2m\u001b[36m(launch_and_fit pid=13432)\u001b[0m Epoch 9: train loss 0.0035969745367765427, accuracy 0.9595782073813708\n",
      "\u001b[2m\u001b[36m(launch_and_fit pid=13432)\u001b[0m Epoch 10: train loss 0.0033277547918260098, accuracy 0.9692442882249561\n",
      "\u001b[2m\u001b[36m(launch_and_fit pid=13368)\u001b[0m [Client 0] fit, config: {}\n",
      "\u001b[2m\u001b[36m(launch_and_fit pid=13368)\u001b[0m Epoch 1: train loss 0.007480747066438198, accuracy 0.9156414762741653\n",
      "\u001b[2m\u001b[36m(launch_and_fit pid=13368)\u001b[0m Epoch 2: train loss 0.005400644615292549, accuracy 0.937609841827768\n",
      "\u001b[2m\u001b[36m(launch_and_fit pid=13368)\u001b[0m Epoch 3: train loss 0.005812346935272217, accuracy 0.9323374340949033\n",
      "\u001b[2m\u001b[36m(launch_and_fit pid=13368)\u001b[0m Epoch 4: train loss 0.005493134260177612, accuracy 0.9314586994727593\n",
      "\u001b[2m\u001b[36m(launch_and_fit pid=13368)\u001b[0m Epoch 5: train loss 0.004563189577311277, accuracy 0.953427065026362\n",
      "\u001b[2m\u001b[36m(launch_and_fit pid=13368)\u001b[0m Epoch 6: train loss 0.004194172564893961, accuracy 0.953427065026362\n",
      "\u001b[2m\u001b[36m(launch_and_fit pid=13368)\u001b[0m Epoch 7: train loss 0.0038167722523212433, accuracy 0.9648506151142355\n",
      "\u001b[2m\u001b[36m(launch_and_fit pid=13368)\u001b[0m Epoch 8: train loss 0.0038787119556218386, accuracy 0.9551845342706503\n",
      "\u001b[2m\u001b[36m(launch_and_fit pid=13368)\u001b[0m Epoch 9: train loss 0.002784902695566416, accuracy 0.9674868189806678\n"
     ]
    },
    {
     "name": "stderr",
     "output_type": "stream",
     "text": [
      "DEBUG flwr 2023-05-09 20:15:42,131 | server.py:232 | fit_round 46 received 2 results and 0 failures\n"
     ]
    },
    {
     "name": "stdout",
     "output_type": "stream",
     "text": [
      "\u001b[2m\u001b[36m(launch_and_fit pid=13368)\u001b[0m Epoch 10: train loss 0.006033858750015497, accuracy 0.9393673110720563\n"
     ]
    },
    {
     "name": "stderr",
     "output_type": "stream",
     "text": [
      "INFO flwr 2023-05-09 20:15:44,166 | server.py:119 | fit progress: (46, 0.01856667376018726, {'accuracy': 0.7731741573033708}, 3039.0520504)\n",
      "DEBUG flwr 2023-05-09 20:15:44,167 | server.py:168 | evaluate_round 46: strategy sampled 2 clients (out of 4)\n"
     ]
    },
    {
     "name": "stdout",
     "output_type": "stream",
     "text": [
      "SERVER EVAL 0.7731741573033708 0.01856667376018726\n",
      "\u001b[2m\u001b[36m(launch_and_evaluate pid=20680)\u001b[0m [Client 1] evaluate, config: {}\n"
     ]
    },
    {
     "name": "stderr",
     "output_type": "stream",
     "text": [
      "DEBUG flwr 2023-05-09 20:15:53,131 | server.py:182 | evaluate_round 46 received 2 results and 0 failures\n",
      "DEBUG flwr 2023-05-09 20:15:53,132 | server.py:218 | fit_round 47: strategy sampled 2 clients (out of 4)\n"
     ]
    },
    {
     "name": "stdout",
     "output_type": "stream",
     "text": [
      "\u001b[2m\u001b[36m(launch_and_fit pid=5788)\u001b[0m [Client 3] fit, config: {}\n",
      "\u001b[2m\u001b[36m(launch_and_evaluate pid=5388)\u001b[0m [Client 3] fit, config: {}\n",
      "\u001b[2m\u001b[36m(launch_and_fit pid=5788)\u001b[0m Epoch 1: train loss 0.0026642282027751207, accuracy 0.9718804920913884\n",
      "\u001b[2m\u001b[36m(launch_and_fit pid=5788)\u001b[0m Epoch 2: train loss 0.002950395690277219, accuracy 0.9736379613356766\n",
      "\u001b[2m\u001b[36m(launch_and_fit pid=5788)\u001b[0m Epoch 3: train loss 0.003097332315519452, accuracy 0.9710017574692443\n",
      "\u001b[2m\u001b[36m(launch_and_fit pid=5788)\u001b[0m Epoch 4: train loss 0.0037776632234454155, accuracy 0.961335676625659\n",
      "\u001b[2m\u001b[36m(launch_and_fit pid=5788)\u001b[0m Epoch 5: train loss 0.0014505008002743125, accuracy 0.9771528998242531\n",
      "\u001b[2m\u001b[36m(launch_and_fit pid=5788)\u001b[0m Epoch 6: train loss 0.0009884998435154557, accuracy 0.9903339191564148\n",
      "\u001b[2m\u001b[36m(launch_and_fit pid=5788)\u001b[0m Epoch 7: train loss 0.001098139677196741, accuracy 0.9876977152899824\n",
      "\u001b[2m\u001b[36m(launch_and_fit pid=5788)\u001b[0m Epoch 8: train loss 0.0013609032612293959, accuracy 0.9797891036906854\n",
      "\u001b[2m\u001b[36m(launch_and_fit pid=5788)\u001b[0m Epoch 9: train loss 0.0037206816487014294, accuracy 0.9630931458699473\n",
      "\u001b[2m\u001b[36m(launch_and_fit pid=5788)\u001b[0m Epoch 10: train loss 0.0021741208620369434, accuracy 0.9753954305799648\n",
      "\u001b[2m\u001b[36m(launch_and_fit pid=22128)\u001b[0m [Client 0] fit, config: {}\n",
      "\u001b[2m\u001b[36m(launch_and_fit pid=22128)\u001b[0m Epoch 1: train loss 0.010686234571039677, accuracy 0.9420035149384886\n",
      "\u001b[2m\u001b[36m(launch_and_fit pid=22128)\u001b[0m Epoch 2: train loss 0.00498077180236578, accuracy 0.9384885764499121\n",
      "\u001b[2m\u001b[36m(launch_and_fit pid=22128)\u001b[0m Epoch 3: train loss 0.003649989841505885, accuracy 0.9551845342706503\n",
      "\u001b[2m\u001b[36m(launch_and_fit pid=22128)\u001b[0m Epoch 4: train loss 0.0025527020916342735, accuracy 0.9710017574692443\n",
      "\u001b[2m\u001b[36m(launch_and_fit pid=22128)\u001b[0m Epoch 5: train loss 0.0016990406438708305, accuracy 0.9797891036906854\n",
      "\u001b[2m\u001b[36m(launch_and_fit pid=22128)\u001b[0m Epoch 6: train loss 0.0029329981189221144, accuracy 0.960456942003515\n",
      "\u001b[2m\u001b[36m(launch_and_fit pid=22128)\u001b[0m Epoch 7: train loss 0.0017700321041047573, accuracy 0.9859402460456942\n",
      "\u001b[2m\u001b[36m(launch_and_fit pid=22128)\u001b[0m Epoch 8: train loss 0.0017303444910794497, accuracy 0.9833040421792618\n",
      "\u001b[2m\u001b[36m(launch_and_fit pid=22128)\u001b[0m Epoch 9: train loss 0.003266524523496628, accuracy 0.9692442882249561\n"
     ]
    },
    {
     "name": "stderr",
     "output_type": "stream",
     "text": [
      "DEBUG flwr 2023-05-09 20:16:48,390 | server.py:232 | fit_round 47 received 2 results and 0 failures\n"
     ]
    },
    {
     "name": "stdout",
     "output_type": "stream",
     "text": [
      "\u001b[2m\u001b[36m(launch_and_fit pid=22128)\u001b[0m Epoch 10: train loss 0.00309556582942605, accuracy 0.9639718804920914\n"
     ]
    },
    {
     "name": "stderr",
     "output_type": "stream",
     "text": [
      "INFO flwr 2023-05-09 20:16:50,526 | server.py:119 | fit progress: (47, 0.030818347897631732, {'accuracy': 0.7661516853932584}, 3105.4117728)\n",
      "DEBUG flwr 2023-05-09 20:16:50,527 | server.py:168 | evaluate_round 47: strategy sampled 2 clients (out of 4)\n"
     ]
    },
    {
     "name": "stdout",
     "output_type": "stream",
     "text": [
      "SERVER EVAL 0.7661516853932584 0.030818347897631732\n",
      "\u001b[2m\u001b[36m(launch_and_evaluate pid=18652)\u001b[0m [Client 2] evaluate, config: {}\n"
     ]
    },
    {
     "name": "stderr",
     "output_type": "stream",
     "text": [
      "DEBUG flwr 2023-05-09 20:16:59,423 | server.py:182 | evaluate_round 47 received 2 results and 0 failures\n",
      "DEBUG flwr 2023-05-09 20:16:59,423 | server.py:218 | fit_round 48: strategy sampled 2 clients (out of 4)\n"
     ]
    },
    {
     "name": "stdout",
     "output_type": "stream",
     "text": [
      "\u001b[2m\u001b[36m(launch_and_fit pid=22180)\u001b[0m [Client 1] fit, config: {}\n",
      "\u001b[2m\u001b[36m(launch_and_evaluate pid=14972)\u001b[0m [Client 1] fit, config: {}\n",
      "\u001b[2m\u001b[36m(launch_and_fit pid=22180)\u001b[0m Epoch 1: train loss 0.010323069989681244, accuracy 0.867311072056239\n",
      "\u001b[2m\u001b[36m(launch_and_fit pid=22180)\u001b[0m Epoch 2: train loss 0.013675393536686897, accuracy 0.8840070298769771\n",
      "\u001b[2m\u001b[36m(launch_and_fit pid=22180)\u001b[0m Epoch 3: train loss 0.006105649285018444, accuracy 0.9279437609841827\n",
      "\u001b[2m\u001b[36m(launch_and_fit pid=22180)\u001b[0m Epoch 4: train loss 0.005664051044732332, accuracy 0.9349736379613357\n",
      "\u001b[2m\u001b[36m(launch_and_fit pid=22180)\u001b[0m Epoch 5: train loss 0.005089367739856243, accuracy 0.9323374340949033\n",
      "\u001b[2m\u001b[36m(launch_and_fit pid=22180)\u001b[0m Epoch 6: train loss 0.004142048303037882, accuracy 0.9428822495606327\n",
      "\u001b[2m\u001b[36m(launch_and_fit pid=22180)\u001b[0m Epoch 7: train loss 0.0029186424799263477, accuracy 0.9648506151142355\n",
      "\u001b[2m\u001b[36m(launch_and_fit pid=22180)\u001b[0m Epoch 8: train loss 0.0034214386250823736, accuracy 0.9569420035149385\n",
      "\u001b[2m\u001b[36m(launch_and_fit pid=22180)\u001b[0m Epoch 9: train loss 0.0031874296255409718, accuracy 0.9666080843585237\n",
      "\u001b[2m\u001b[36m(launch_and_fit pid=22180)\u001b[0m Epoch 10: train loss 0.002910054987296462, accuracy 0.9648506151142355\n",
      "\u001b[2m\u001b[36m(launch_and_fit pid=19256)\u001b[0m [Client 2] fit, config: {}\n",
      "\u001b[2m\u001b[36m(launch_and_fit pid=19256)\u001b[0m Epoch 1: train loss 0.007509484887123108, accuracy 0.9261862917398945\n",
      "\u001b[2m\u001b[36m(launch_and_fit pid=19256)\u001b[0m Epoch 2: train loss 0.0039009726606309414, accuracy 0.961335676625659\n",
      "\u001b[2m\u001b[36m(launch_and_fit pid=19256)\u001b[0m Epoch 3: train loss 0.003919284325093031, accuracy 0.9586994727592267\n",
      "\u001b[2m\u001b[36m(launch_and_fit pid=19256)\u001b[0m Epoch 4: train loss 0.003679265035316348, accuracy 0.9622144112478032\n",
      "\u001b[2m\u001b[36m(launch_and_fit pid=19256)\u001b[0m Epoch 5: train loss 0.006074209231883287, accuracy 0.9420035149384886\n",
      "\u001b[2m\u001b[36m(launch_and_fit pid=19256)\u001b[0m Epoch 6: train loss 0.00595879415050149, accuracy 0.9270650263620387\n",
      "\u001b[2m\u001b[36m(launch_and_fit pid=19256)\u001b[0m Epoch 7: train loss 0.003494227770715952, accuracy 0.9586994727592267\n",
      "\u001b[2m\u001b[36m(launch_and_fit pid=19256)\u001b[0m Epoch 8: train loss 0.00282794120721519, accuracy 0.9718804920913884\n",
      "\u001b[2m\u001b[36m(launch_and_fit pid=19256)\u001b[0m Epoch 9: train loss 0.0019765307661145926, accuracy 0.9815465729349736\n"
     ]
    },
    {
     "name": "stderr",
     "output_type": "stream",
     "text": [
      "DEBUG flwr 2023-05-09 20:17:54,727 | server.py:232 | fit_round 48 received 2 results and 0 failures\n"
     ]
    },
    {
     "name": "stdout",
     "output_type": "stream",
     "text": [
      "\u001b[2m\u001b[36m(launch_and_fit pid=19256)\u001b[0m Epoch 10: train loss 0.0026015955954790115, accuracy 0.9692442882249561\n"
     ]
    },
    {
     "name": "stderr",
     "output_type": "stream",
     "text": [
      "INFO flwr 2023-05-09 20:17:56,819 | server.py:119 | fit progress: (48, 0.0299719532826141, {'accuracy': 0.7675561797752809}, 3171.7042979000003)\n",
      "DEBUG flwr 2023-05-09 20:17:56,820 | server.py:168 | evaluate_round 48: strategy sampled 2 clients (out of 4)\n"
     ]
    },
    {
     "name": "stdout",
     "output_type": "stream",
     "text": [
      "SERVER EVAL 0.7675561797752809 0.0299719532826141\n",
      "\u001b[2m\u001b[36m(launch_and_evaluate pid=20560)\u001b[0m [Client 3] evaluate, config: {}\n"
     ]
    },
    {
     "name": "stderr",
     "output_type": "stream",
     "text": [
      "DEBUG flwr 2023-05-09 20:18:05,896 | server.py:182 | evaluate_round 48 received 2 results and 0 failures\n",
      "DEBUG flwr 2023-05-09 20:18:05,897 | server.py:218 | fit_round 49: strategy sampled 2 clients (out of 4)\n"
     ]
    },
    {
     "name": "stdout",
     "output_type": "stream",
     "text": [
      "\u001b[2m\u001b[36m(launch_and_fit pid=11940)\u001b[0m [Client 2] fit, config: {}\n",
      "\u001b[2m\u001b[36m(launch_and_evaluate pid=884)\u001b[0m [Client 2] fit, config: {}\n",
      "\u001b[2m\u001b[36m(launch_and_fit pid=11940)\u001b[0m Epoch 1: train loss 0.004087197128683329, accuracy 0.9490333919156415\n",
      "\u001b[2m\u001b[36m(launch_and_fit pid=11940)\u001b[0m Epoch 2: train loss 0.002267302945256233, accuracy 0.976274165202109\n",
      "\u001b[2m\u001b[36m(launch_and_fit pid=11940)\u001b[0m Epoch 3: train loss 0.0029085513669997454, accuracy 0.9710017574692443\n",
      "\u001b[2m\u001b[36m(launch_and_fit pid=11940)\u001b[0m Epoch 4: train loss 0.0061650387942790985, accuracy 0.9411247803163445\n",
      "\u001b[2m\u001b[36m(launch_and_fit pid=11940)\u001b[0m Epoch 5: train loss 0.008389139547944069, accuracy 0.9094903339191565\n",
      "\u001b[2m\u001b[36m(launch_and_fit pid=11940)\u001b[0m Epoch 6: train loss 0.004371953196823597, accuracy 0.9657293497363796\n",
      "\u001b[2m\u001b[36m(launch_and_fit pid=11940)\u001b[0m Epoch 7: train loss 0.0041078911162912846, accuracy 0.9578207381370826\n",
      "\u001b[2m\u001b[36m(launch_and_fit pid=11940)\u001b[0m Epoch 8: train loss 0.0026163747534155846, accuracy 0.968365553602812\n",
      "\u001b[2m\u001b[36m(launch_and_fit pid=11940)\u001b[0m Epoch 9: train loss 0.0025572970043867826, accuracy 0.9718804920913884\n",
      "\u001b[2m\u001b[36m(launch_and_fit pid=11940)\u001b[0m Epoch 10: train loss 0.0028621696401387453, accuracy 0.9701230228471002\n",
      "\u001b[2m\u001b[36m(launch_and_fit pid=1740)\u001b[0m [Client 1] fit, config: {}\n",
      "\u001b[2m\u001b[36m(launch_and_fit pid=1740)\u001b[0m Epoch 1: train loss 0.0063713775016367435, accuracy 0.9393673110720563\n",
      "\u001b[2m\u001b[36m(launch_and_fit pid=1740)\u001b[0m Epoch 2: train loss 0.00794780533760786, accuracy 0.9121265377855887\n",
      "\u001b[2m\u001b[36m(launch_and_fit pid=1740)\u001b[0m Epoch 3: train loss 0.00705686816945672, accuracy 0.9244288224956063\n",
      "\u001b[2m\u001b[36m(launch_and_fit pid=1740)\u001b[0m Epoch 4: train loss 0.004759639035910368, accuracy 0.953427065026362\n",
      "\u001b[2m\u001b[36m(launch_and_fit pid=1740)\u001b[0m Epoch 5: train loss 0.004545762203633785, accuracy 0.953427065026362\n",
      "\u001b[2m\u001b[36m(launch_and_fit pid=1740)\u001b[0m Epoch 6: train loss 0.003010069252923131, accuracy 0.9622144112478032\n",
      "\u001b[2m\u001b[36m(launch_and_fit pid=1740)\u001b[0m Epoch 7: train loss 0.0021997448056936264, accuracy 0.9789103690685413\n",
      "\u001b[2m\u001b[36m(launch_and_fit pid=1740)\u001b[0m Epoch 8: train loss 0.0028679559472948313, accuracy 0.9648506151142355\n",
      "\u001b[2m\u001b[36m(launch_and_fit pid=1740)\u001b[0m Epoch 9: train loss 0.004351957235485315, accuracy 0.945518453427065\n"
     ]
    },
    {
     "name": "stderr",
     "output_type": "stream",
     "text": [
      "DEBUG flwr 2023-05-09 20:19:01,513 | server.py:232 | fit_round 49 received 2 results and 0 failures\n"
     ]
    },
    {
     "name": "stdout",
     "output_type": "stream",
     "text": [
      "\u001b[2m\u001b[36m(launch_and_fit pid=1740)\u001b[0m Epoch 10: train loss 0.0029376614838838577, accuracy 0.9745166959578208\n"
     ]
    },
    {
     "name": "stderr",
     "output_type": "stream",
     "text": [
      "INFO flwr 2023-05-09 20:19:03,549 | server.py:119 | fit progress: (49, 0.029386707848419298, {'accuracy': 0.7696629213483146}, 3238.4339288)\n",
      "DEBUG flwr 2023-05-09 20:19:03,549 | server.py:168 | evaluate_round 49: strategy sampled 2 clients (out of 4)\n"
     ]
    },
    {
     "name": "stdout",
     "output_type": "stream",
     "text": [
      "SERVER EVAL 0.7696629213483146 0.029386707848419298\n",
      "\u001b[2m\u001b[36m(launch_and_evaluate pid=9124)\u001b[0m [Client 0] evaluate, config: {}\n"
     ]
    },
    {
     "name": "stderr",
     "output_type": "stream",
     "text": [
      "DEBUG flwr 2023-05-09 20:19:12,405 | server.py:182 | evaluate_round 49 received 2 results and 0 failures\n",
      "DEBUG flwr 2023-05-09 20:19:12,406 | server.py:218 | fit_round 50: strategy sampled 2 clients (out of 4)\n"
     ]
    },
    {
     "name": "stdout",
     "output_type": "stream",
     "text": [
      "\u001b[2m\u001b[36m(launch_and_fit pid=5440)\u001b[0m [Client 1] fit, config: {}\n",
      "\u001b[2m\u001b[36m(launch_and_evaluate pid=22280)\u001b[0m [Client 1] fit, config: {}\n",
      "\u001b[2m\u001b[36m(launch_and_fit pid=5440)\u001b[0m Epoch 1: train loss 0.004998738877475262, accuracy 0.9551845342706503\n",
      "\u001b[2m\u001b[36m(launch_and_fit pid=5440)\u001b[0m Epoch 2: train loss 0.005236406344920397, accuracy 0.9437609841827768\n",
      "\u001b[2m\u001b[36m(launch_and_fit pid=5440)\u001b[0m Epoch 3: train loss 0.006382327061146498, accuracy 0.9314586994727593\n",
      "\u001b[2m\u001b[36m(launch_and_fit pid=5440)\u001b[0m Epoch 4: train loss 0.005707659758627415, accuracy 0.9384885764499121\n",
      "\u001b[2m\u001b[36m(launch_and_fit pid=5440)\u001b[0m Epoch 5: train loss 0.0030974082183092833, accuracy 0.9595782073813708\n",
      "\u001b[2m\u001b[36m(launch_and_fit pid=5440)\u001b[0m Epoch 6: train loss 0.0036821847315877676, accuracy 0.9586994727592267\n",
      "\u001b[2m\u001b[36m(launch_and_fit pid=5440)\u001b[0m Epoch 7: train loss 0.003580203279852867, accuracy 0.9578207381370826\n",
      "\u001b[2m\u001b[36m(launch_and_fit pid=5440)\u001b[0m Epoch 8: train loss 0.002633386291563511, accuracy 0.9657293497363796\n",
      "\u001b[2m\u001b[36m(launch_and_fit pid=5440)\u001b[0m Epoch 9: train loss 0.003471559612080455, accuracy 0.9657293497363796\n",
      "\u001b[2m\u001b[36m(launch_and_fit pid=5440)\u001b[0m Epoch 10: train loss 0.003230712842196226, accuracy 0.9648506151142355\n",
      "\u001b[2m\u001b[36m(launch_and_fit pid=1808)\u001b[0m [Client 2] fit, config: {}\n",
      "\u001b[2m\u001b[36m(launch_and_fit pid=1808)\u001b[0m Epoch 1: train loss 0.00450564781203866, accuracy 0.953427065026362\n",
      "\u001b[2m\u001b[36m(launch_and_fit pid=1808)\u001b[0m Epoch 2: train loss 0.0028767844196408987, accuracy 0.9718804920913884\n",
      "\u001b[2m\u001b[36m(launch_and_fit pid=1808)\u001b[0m Epoch 3: train loss 0.0029606937896460295, accuracy 0.9710017574692443\n",
      "\u001b[2m\u001b[36m(launch_and_fit pid=1808)\u001b[0m Epoch 4: train loss 0.00325198145583272, accuracy 0.968365553602812\n",
      "\u001b[2m\u001b[36m(launch_and_fit pid=1808)\u001b[0m Epoch 5: train loss 0.006898223888128996, accuracy 0.9340949033391915\n",
      "\u001b[2m\u001b[36m(launch_and_fit pid=1808)\u001b[0m Epoch 6: train loss 0.003202573861926794, accuracy 0.9639718804920914\n",
      "\u001b[2m\u001b[36m(launch_and_fit pid=1808)\u001b[0m Epoch 7: train loss 0.0024086544290184975, accuracy 0.9727592267135325\n",
      "\u001b[2m\u001b[36m(launch_and_fit pid=1808)\u001b[0m Epoch 8: train loss 0.0047424049116671085, accuracy 0.9797891036906854\n",
      "\u001b[2m\u001b[36m(launch_and_fit pid=1808)\u001b[0m Epoch 9: train loss 0.0066647036001086235, accuracy 0.9094903339191565\n"
     ]
    },
    {
     "name": "stderr",
     "output_type": "stream",
     "text": [
      "DEBUG flwr 2023-05-09 20:20:08,208 | server.py:232 | fit_round 50 received 2 results and 0 failures\n"
     ]
    },
    {
     "name": "stdout",
     "output_type": "stream",
     "text": [
      "\u001b[2m\u001b[36m(launch_and_fit pid=1808)\u001b[0m Epoch 10: train loss 0.0021387215238064528, accuracy 0.9753954305799648\n"
     ]
    },
    {
     "name": "stderr",
     "output_type": "stream",
     "text": [
      "INFO flwr 2023-05-09 20:20:10,500 | server.py:119 | fit progress: (50, 0.030040450383689295, {'accuracy': 0.7710674157303371}, 3305.3857603)\n",
      "DEBUG flwr 2023-05-09 20:20:10,501 | server.py:168 | evaluate_round 50: strategy sampled 2 clients (out of 4)\n"
     ]
    },
    {
     "name": "stdout",
     "output_type": "stream",
     "text": [
      "SERVER EVAL 0.7710674157303371 0.030040450383689295\n",
      "\u001b[2m\u001b[36m(launch_and_evaluate pid=20524)\u001b[0m [Client 2] evaluate, config: {}\n"
     ]
    },
    {
     "name": "stderr",
     "output_type": "stream",
     "text": [
      "DEBUG flwr 2023-05-09 20:20:19,475 | server.py:182 | evaluate_round 50 received 2 results and 0 failures\n",
      "INFO flwr 2023-05-09 20:20:19,476 | server.py:147 | FL finished in 3314.3615896\n",
      "INFO flwr 2023-05-09 20:20:19,478 | app.py:218 | app_fit: losses_distributed [(1, 0.022378042236074702), (2, 0.016534719850633525), (3, 0.015597010930101358), (4, 0.01659630986673015), (5, 0.015596622275514203), (6, 0.013974840355502973), (7, 0.016863244917842895), (8, 0.015538677963968758), (9, 0.015213360319604408), (10, 0.015855104017716188), (11, 0.018993421138583363), (12, 0.016652207456893855), (13, 0.015519052274994085), (14, 0.018160648383460678), (15, 0.017526948941754297), (16, 0.023539153819942808), (17, 0.02184449795346994), (18, 0.021858144434286162), (19, 0.020721795441179008), (20, 0.024597323779668008), (21, 0.029558954486896938), (22, 0.02089714757785514), (23, 0.026374897170629533), (24, 0.022295996025725677), (25, 0.023009002703678356), (26, 0.021553514564370775), (27, 0.025704103150776217), (28, 0.022954611863185474), (29, 0.024666515446001), (30, 0.029424614631212678), (31, 0.03722095601521172), (32, 0.029062593264596443), (33, 0.020057343311243123), (34, 0.025733618677912892), (35, 0.02137969012235428), (36, 0.024436627911937823), (37, 0.024776254813154264), (38, 0.020738339663802327), (39, 0.025071735773886834), (40, 0.03679546401217267), (41, 0.02333426139467246), (42, 0.02109831561158587), (43, 0.02773353790903425), (44, 0.017502011275374804), (45, 0.01768634822610375), (46, 0.020579046146436172), (47, 0.029244192087879553), (48, 0.02341206111274399), (49, 0.025305924924103534), (50, 0.02422254924642873)]\n",
      "INFO flwr 2023-05-09 20:20:19,478 | app.py:219 | app_fit: metrics_distributed_fit {}\n",
      "INFO flwr 2023-05-09 20:20:19,479 | app.py:220 | app_fit: metrics_distributed {}\n",
      "INFO flwr 2023-05-09 20:20:19,479 | app.py:221 | app_fit: losses_centralized [(0, 0.021915677851170635), (1, 0.022514584233586706), (2, 0.0157263417403852), (3, 0.015692205377592798), (4, 0.016139017946474002), (5, 0.014609642771564508), (6, 0.014417718870962938), (7, 0.015613232205590506), (8, 0.014892316389347562), (9, 0.015916716835848735), (10, 0.01570582828285654), (11, 0.015645127633607453), (12, 0.0160303056878404), (13, 0.01596543922225076), (14, 0.01977883203457413), (15, 0.0165320025296526), (16, 0.021908518423985564), (17, 0.02204766319646092), (18, 0.022144845508959857), (19, 0.01940659869964538), (20, 0.02084999999261639), (21, 0.0246624142883785), (22, 0.02294234868683172), (23, 0.026029241750058666), (24, 0.022784202239277324), (25, 0.02123982470032623), (26, 0.022490160616920486), (27, 0.026037992255532005), (28, 0.024035342723089322), (29, 0.026198741100895942), (30, 0.028534224948824877), (31, 0.034522885006716415), (32, 0.02708770956823163), (33, 0.02675189570199405), (34, 0.02489372884352388), (35, 0.022382222000886215), (36, 0.02878971803891525), (37, 0.023344386128311075), (38, 0.026072577759100313), (39, 0.025362346378898018), (40, 0.043576691634534453), (41, 0.024379657492502017), (42, 0.031132187035060332), (43, 0.02827920220246842), (44, 0.01733144238758623), (45, 0.019061583894817682), (46, 0.01856667376018726), (47, 0.030818347897631732), (48, 0.0299719532826141), (49, 0.029386707848419298), (50, 0.030040450383689295)]\n",
      "INFO flwr 2023-05-09 20:20:19,480 | app.py:222 | app_fit: metrics_centralized {'accuracy': [(0, 0.5), (1, 0.5070224719101124), (2, 0.7633426966292135), (3, 0.7682584269662921), (4, 0.7689606741573034), (5, 0.7865168539325843), (6, 0.7794943820224719), (7, 0.7542134831460674), (8, 0.7928370786516854), (9, 0.7773876404494382), (10, 0.7801966292134831), (11, 0.7914325842696629), (12, 0.7801966292134831), (13, 0.7801966292134831), (14, 0.7752808988764045), (15, 0.7865168539325843), (16, 0.7914325842696629), (17, 0.7893258426966292), (18, 0.7752808988764045), (19, 0.7844101123595506), (20, 0.7780898876404494), (21, 0.7808988764044944), (22, 0.7900280898876404), (23, 0.7865168539325843), (24, 0.7907303370786517), (25, 0.7830056179775281), (26, 0.7823033707865169), (27, 0.7879213483146067), (28, 0.7823033707865169), (29, 0.776685393258427), (30, 0.7717696629213483), (31, 0.785814606741573), (32, 0.785814606741573), (33, 0.7759831460674157), (34, 0.7851123595505618), (35, 0.7717696629213483), (36, 0.7640449438202247), (37, 0.761938202247191), (38, 0.7773876404494382), (39, 0.7675561797752809), (40, 0.7731741573033708), (41, 0.7830056179775281), (42, 0.7801966292134831), (43, 0.7823033707865169), (44, 0.7584269662921348), (45, 0.7837078651685393), (46, 0.7731741573033708), (47, 0.7661516853932584), (48, 0.7675561797752809), (49, 0.7696629213483146), (50, 0.7710674157303371)]}\n"
     ]
    },
    {
     "data": {
      "text/plain": [
       "History (loss, distributed):\n",
       "\tround 1: 0.022378042236074702\n",
       "\tround 2: 0.016534719850633525\n",
       "\tround 3: 0.015597010930101358\n",
       "\tround 4: 0.01659630986673015\n",
       "\tround 5: 0.015596622275514203\n",
       "\tround 6: 0.013974840355502973\n",
       "\tround 7: 0.016863244917842895\n",
       "\tround 8: 0.015538677963968758\n",
       "\tround 9: 0.015213360319604408\n",
       "\tround 10: 0.015855104017716188\n",
       "\tround 11: 0.018993421138583363\n",
       "\tround 12: 0.016652207456893855\n",
       "\tround 13: 0.015519052274994085\n",
       "\tround 14: 0.018160648383460678\n",
       "\tround 15: 0.017526948941754297\n",
       "\tround 16: 0.023539153819942808\n",
       "\tround 17: 0.02184449795346994\n",
       "\tround 18: 0.021858144434286162\n",
       "\tround 19: 0.020721795441179008\n",
       "\tround 20: 0.024597323779668008\n",
       "\tround 21: 0.029558954486896938\n",
       "\tround 22: 0.02089714757785514\n",
       "\tround 23: 0.026374897170629533\n",
       "\tround 24: 0.022295996025725677\n",
       "\tround 25: 0.023009002703678356\n",
       "\tround 26: 0.021553514564370775\n",
       "\tround 27: 0.025704103150776217\n",
       "\tround 28: 0.022954611863185474\n",
       "\tround 29: 0.024666515446001\n",
       "\tround 30: 0.029424614631212678\n",
       "\tround 31: 0.03722095601521172\n",
       "\tround 32: 0.029062593264596443\n",
       "\tround 33: 0.020057343311243123\n",
       "\tround 34: 0.025733618677912892\n",
       "\tround 35: 0.02137969012235428\n",
       "\tround 36: 0.024436627911937823\n",
       "\tround 37: 0.024776254813154264\n",
       "\tround 38: 0.020738339663802327\n",
       "\tround 39: 0.025071735773886834\n",
       "\tround 40: 0.03679546401217267\n",
       "\tround 41: 0.02333426139467246\n",
       "\tround 42: 0.02109831561158587\n",
       "\tround 43: 0.02773353790903425\n",
       "\tround 44: 0.017502011275374804\n",
       "\tround 45: 0.01768634822610375\n",
       "\tround 46: 0.020579046146436172\n",
       "\tround 47: 0.029244192087879553\n",
       "\tround 48: 0.02341206111274399\n",
       "\tround 49: 0.025305924924103534\n",
       "\tround 50: 0.02422254924642873\n",
       "History (loss, centralized):\n",
       "\tround 0: 0.021915677851170635\n",
       "\tround 1: 0.022514584233586706\n",
       "\tround 2: 0.0157263417403852\n",
       "\tround 3: 0.015692205377592798\n",
       "\tround 4: 0.016139017946474002\n",
       "\tround 5: 0.014609642771564508\n",
       "\tround 6: 0.014417718870962938\n",
       "\tround 7: 0.015613232205590506\n",
       "\tround 8: 0.014892316389347562\n",
       "\tround 9: 0.015916716835848735\n",
       "\tround 10: 0.01570582828285654\n",
       "\tround 11: 0.015645127633607453\n",
       "\tround 12: 0.0160303056878404\n",
       "\tround 13: 0.01596543922225076\n",
       "\tround 14: 0.01977883203457413\n",
       "\tround 15: 0.0165320025296526\n",
       "\tround 16: 0.021908518423985564\n",
       "\tround 17: 0.02204766319646092\n",
       "\tround 18: 0.022144845508959857\n",
       "\tround 19: 0.01940659869964538\n",
       "\tround 20: 0.02084999999261639\n",
       "\tround 21: 0.0246624142883785\n",
       "\tround 22: 0.02294234868683172\n",
       "\tround 23: 0.026029241750058666\n",
       "\tround 24: 0.022784202239277324\n",
       "\tround 25: 0.02123982470032623\n",
       "\tround 26: 0.022490160616920486\n",
       "\tround 27: 0.026037992255532005\n",
       "\tround 28: 0.024035342723089322\n",
       "\tround 29: 0.026198741100895942\n",
       "\tround 30: 0.028534224948824877\n",
       "\tround 31: 0.034522885006716415\n",
       "\tround 32: 0.02708770956823163\n",
       "\tround 33: 0.02675189570199405\n",
       "\tround 34: 0.02489372884352388\n",
       "\tround 35: 0.022382222000886215\n",
       "\tround 36: 0.02878971803891525\n",
       "\tround 37: 0.023344386128311075\n",
       "\tround 38: 0.026072577759100313\n",
       "\tround 39: 0.025362346378898018\n",
       "\tround 40: 0.043576691634534453\n",
       "\tround 41: 0.024379657492502017\n",
       "\tround 42: 0.031132187035060332\n",
       "\tround 43: 0.02827920220246842\n",
       "\tround 44: 0.01733144238758623\n",
       "\tround 45: 0.019061583894817682\n",
       "\tround 46: 0.01856667376018726\n",
       "\tround 47: 0.030818347897631732\n",
       "\tround 48: 0.0299719532826141\n",
       "\tround 49: 0.029386707848419298\n",
       "\tround 50: 0.030040450383689295\n",
       "History (metrics, centralized):\n",
       "{'accuracy': [(0, 0.5), (1, 0.5070224719101124), (2, 0.7633426966292135), (3, 0.7682584269662921), (4, 0.7689606741573034), (5, 0.7865168539325843), (6, 0.7794943820224719), (7, 0.7542134831460674), (8, 0.7928370786516854), (9, 0.7773876404494382), (10, 0.7801966292134831), (11, 0.7914325842696629), (12, 0.7801966292134831), (13, 0.7801966292134831), (14, 0.7752808988764045), (15, 0.7865168539325843), (16, 0.7914325842696629), (17, 0.7893258426966292), (18, 0.7752808988764045), (19, 0.7844101123595506), (20, 0.7780898876404494), (21, 0.7808988764044944), (22, 0.7900280898876404), (23, 0.7865168539325843), (24, 0.7907303370786517), (25, 0.7830056179775281), (26, 0.7823033707865169), (27, 0.7879213483146067), (28, 0.7823033707865169), (29, 0.776685393258427), (30, 0.7717696629213483), (31, 0.785814606741573), (32, 0.785814606741573), (33, 0.7759831460674157), (34, 0.7851123595505618), (35, 0.7717696629213483), (36, 0.7640449438202247), (37, 0.761938202247191), (38, 0.7773876404494382), (39, 0.7675561797752809), (40, 0.7731741573033708), (41, 0.7830056179775281), (42, 0.7801966292134831), (43, 0.7823033707865169), (44, 0.7584269662921348), (45, 0.7837078651685393), (46, 0.7731741573033708), (47, 0.7661516853932584), (48, 0.7675561797752809), (49, 0.7696629213483146), (50, 0.7710674157303371)]}"
      ]
     },
     "execution_count": 8,
     "metadata": {},
     "output_type": "execute_result"
    }
   ],
   "source": [
    "# Create an instance of the model and get the parameters\n",
    "params = get_parameters(Net())\n",
    "\n",
    "# Pass parameters to the Strategy for server-side parameter initialization\n",
    "strategy = fl.server.strategy.FedAvg(\n",
    "    fraction_fit=0.5,\n",
    "    fraction_evaluate=0.5,\n",
    "    min_fit_clients=2,\n",
    "    min_evaluate_clients=2,\n",
    "    min_available_clients=NUM_CLIENTS,\n",
    "    initial_parameters=fl.common.ndarrays_to_parameters(params),\n",
    "    evaluate_fn=get_evaluate_fn(Net()),\n",
    ")\n",
    "\n",
    "# Specify client resources if you need GPU (defaults to 1 CPU and 0 GPU)\n",
    "client_resources = None\n",
    "if DEVICE.type == \"cuda\":\n",
    "    client_resources = {\"num_gpus\": 1}\n",
    "\n",
    "# Start simulation\n",
    "fl.simulation.start_simulation(\n",
    "    client_fn=client_fn,\n",
    "    num_clients=NUM_CLIENTS,\n",
    "    config=fl.server.ServerConfig(num_rounds=50),\n",
    "    strategy=strategy,\n",
    "    client_resources=client_resources,\n",
    ")"
   ]
  },
  {
   "cell_type": "code",
   "execution_count": null,
   "id": "4082e64a",
   "metadata": {},
   "outputs": [],
   "source": []
  },
  {
   "cell_type": "code",
   "execution_count": null,
   "id": "5c89b698",
   "metadata": {},
   "outputs": [],
   "source": []
  }
 ],
 "metadata": {
  "kernelspec": {
   "display_name": "Python 3 (ipykernel)",
   "language": "python",
   "name": "python3"
  },
  "language_info": {
   "codemirror_mode": {
    "name": "ipython",
    "version": 3
   },
   "file_extension": ".py",
   "mimetype": "text/x-python",
   "name": "python",
   "nbconvert_exporter": "python",
   "pygments_lexer": "ipython3",
   "version": "3.9.16"
  }
 },
 "nbformat": 4,
 "nbformat_minor": 5
}
